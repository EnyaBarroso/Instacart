{
 "cells": [
  {
   "cell_type": "markdown",
   "id": "be3b3c08",
   "metadata": {},
   "source": [
    "# 📊 Instacart\n",
    "\n",
    "**Author**: ENYA ALVAREZ BARROSO\n",
    "\n",
    "**Date**: 09/25/2024\n",
    "\n",
    "**Objective**: Data cleansing and preparation of a report that provides insight into the shopping habits of Instacart customers."
   ]
  },
  {
   "cell_type": "markdown",
   "id": "OmlQPLlyaAfR",
   "metadata": {
    "id": "OmlQPLlyaAfR"
   },
   "source": [
    "### Data Description\n",
    "\n",
    "• instacart_orders.csv: Each row corresponds to an order in the Instacart app.\n",
    "\n",
    "    - 'order_id': ID number that uniquely identifies each order.\n",
    "    - 'user_id': ID number that uniquely identifies each customer's account.\n",
    "    - 'order_number': The number of times this customer has placed an order.\n",
    "    - 'order_dow': Day of the week an order was placed (0 if Sunday).\n",
    "    - 'order_hour_of_day': Hour of the day the order was placed.\n",
    "    - 'days_since_prior_order': Number of days since this customer placed their previous order.\n",
    "\n",
    "• products.csv: Each row corresponds to a unique product that customers can purchase.\n",
    "\n",
    "    - 'product_id': ID number that uniquely identifies each product.\n",
    "    - 'product_name': Name of the product.\n",
    "    - 'aisle_id': ID number that uniquely identifies each grocery aisle category.\n",
    "    - 'department_id': ID number that uniquely identifies each grocery department.\n",
    "\n",
    "• order_products.csv: Each row corresponds to an item ordered in an order.\n",
    "\n",
    "    - 'order_id': ID number that uniquely identifies each order.\n",
    "    - 'product_id': ID number that uniquely identifies each product.\n",
    "    - 'add_to_cart_order': The sequential order in which each item was added to the cart.\n",
    "    - 'reordered': 0 if the customer has never ordered this product before, 1 if they have.\n",
    "\n",
    "• aisles.csv\n",
    "\n",
    "    - 'aisle_id': ID number that uniquely identifies each grocery aisle category.\n",
    "    - 'aisle': Aisle name.\n",
    "\n",
    "• departments.csv\n",
    "\n",
    "    - 'department_id': ID number that uniquely identifies each grocery department.\n",
    "    - 'department': Department name."
   ]
  },
  {
   "cell_type": "markdown",
   "id": "915505ef-80fd-4310-ac23-d218cd9c9d45",
   "metadata": {},
   "source": [
    "# 1. Data Loading"
   ]
  },
  {
   "cell_type": "code",
   "execution_count": 5,
   "id": "69950e5d",
   "metadata": {},
   "outputs": [
    {
     "name": "stdout",
     "output_type": "stream",
     "text": [
      "<class 'pandas.core.frame.DataFrame'>\n",
      "RangeIndex: 478967 entries, 0 to 478966\n",
      "Data columns (total 6 columns):\n",
      " #   Column                  Non-Null Count   Dtype  \n",
      "---  ------                  --------------   -----  \n",
      " 0   order_id                478967 non-null  int64  \n",
      " 1   user_id                 478967 non-null  int64  \n",
      " 2   order_number            478967 non-null  int64  \n",
      " 3   order_dow               478967 non-null  int64  \n",
      " 4   order_hour_of_day       478967 non-null  int64  \n",
      " 5   days_since_prior_order  450148 non-null  float64\n",
      "dtypes: float64(1), int64(5)\n",
      "memory usage: 21.9 MB\n",
      "\n",
      "<class 'pandas.core.frame.DataFrame'>\n",
      "RangeIndex: 49694 entries, 0 to 49693\n",
      "Data columns (total 4 columns):\n",
      " #   Column         Non-Null Count  Dtype \n",
      "---  ------         --------------  ----- \n",
      " 0   product_id     49694 non-null  int64 \n",
      " 1   product_name   48436 non-null  object\n",
      " 2   aisle_id       49694 non-null  int64 \n",
      " 3   department_id  49694 non-null  int64 \n",
      "dtypes: int64(3), object(1)\n",
      "memory usage: 1.5+ MB\n",
      "\n",
      "<class 'pandas.core.frame.DataFrame'>\n",
      "RangeIndex: 134 entries, 0 to 133\n",
      "Data columns (total 2 columns):\n",
      " #   Column    Non-Null Count  Dtype \n",
      "---  ------    --------------  ----- \n",
      " 0   aisle_id  134 non-null    int64 \n",
      " 1   aisle     134 non-null    object\n",
      "dtypes: int64(1), object(1)\n",
      "memory usage: 2.2+ KB\n",
      "\n",
      "<class 'pandas.core.frame.DataFrame'>\n",
      "RangeIndex: 21 entries, 0 to 20\n",
      "Data columns (total 2 columns):\n",
      " #   Column         Non-Null Count  Dtype \n",
      "---  ------         --------------  ----- \n",
      " 0   department_id  21 non-null     int64 \n",
      " 1   department     21 non-null     object\n",
      "dtypes: int64(1), object(1)\n",
      "memory usage: 468.0+ bytes\n",
      "\n",
      "<class 'pandas.core.frame.DataFrame'>\n",
      "RangeIndex: 4545007 entries, 0 to 4545006\n",
      "Data columns (total 4 columns):\n",
      " #   Column             Dtype  \n",
      "---  ------             -----  \n",
      " 0   order_id           int64  \n",
      " 1   product_id         int64  \n",
      " 2   add_to_cart_order  float64\n",
      " 3   reordered          int64  \n",
      "dtypes: float64(1), int64(3)\n",
      "memory usage: 138.7 MB\n",
      "\n"
     ]
    }
   ],
   "source": [
    "import pandas as pd\n",
    "from matplotlib import pyplot as plt\n",
    "df_instacart = pd.read_csv(r\"C:\\Users\\DELL\\Documents\\Proyectos\\Instacart\\data.xlsx\\instacart_orders.csv\", sep=';')\n",
    "df_instacart.info()\n",
    "print()\n",
    "df_products = pd.read_csv(r\"C:\\Users\\DELL\\Documents\\Proyectos\\Instacart\\data.xlsx\\products.csv\", sep=';')\n",
    "df_products.info()\n",
    "print()\n",
    "df_aisles = pd.read_csv(r\"C:\\Users\\DELL\\Documents\\Proyectos\\Instacart\\data.xlsx\\aisles.csv\", sep=';')\n",
    "df_aisles.info()\n",
    "print()\n",
    "df_departments = pd.read_csv(r\"C:\\Users\\DELL\\Documents\\Proyectos\\Instacart\\data.xlsx\\departments.csv\", sep=';')\n",
    "df_departments.info()\n",
    "print()\n",
    "df_orders = pd.read_csv(r\"C:\\Users\\DELL\\Documents\\Proyectos\\Instacart\\data.xlsx\\order_products.csv\", sep=';')\n",
    "df_orders.info()\n",
    "print()"
   ]
  },
  {
   "cell_type": "markdown",
   "id": "8RJHqxVmaVsF",
   "metadata": {
    "id": "8RJHqxVmaVsF"
   },
   "source": [
    "# 2. Data preprocessing"
   ]
  },
  {
   "cell_type": "markdown",
   "id": "f179f0a9",
   "metadata": {
    "id": "f179f0a9"
   },
   "source": [
    "**`instacart_orders` data frame**"
   ]
  },
  {
   "cell_type": "code",
   "execution_count": 8,
   "id": "b99297a5-405a-463d-8535-9adc3da4ad74",
   "metadata": {
    "id": "b99297a5-405a-463d-8535-9adc3da4ad74"
   },
   "outputs": [
    {
     "name": "stdout",
     "output_type": "stream",
     "text": [
      "15\n",
      "\n"
     ]
    },
    {
     "data": {
      "text/html": [
       "<div>\n",
       "<style scoped>\n",
       "    .dataframe tbody tr th:only-of-type {\n",
       "        vertical-align: middle;\n",
       "    }\n",
       "\n",
       "    .dataframe tbody tr th {\n",
       "        vertical-align: top;\n",
       "    }\n",
       "\n",
       "    .dataframe thead th {\n",
       "        text-align: right;\n",
       "    }\n",
       "</style>\n",
       "<table border=\"1\" class=\"dataframe\">\n",
       "  <thead>\n",
       "    <tr style=\"text-align: right;\">\n",
       "      <th></th>\n",
       "      <th>order_id</th>\n",
       "      <th>user_id</th>\n",
       "      <th>order_number</th>\n",
       "      <th>order_dow</th>\n",
       "      <th>order_hour_of_day</th>\n",
       "      <th>days_since_prior_order</th>\n",
       "    </tr>\n",
       "  </thead>\n",
       "  <tbody>\n",
       "    <tr>\n",
       "      <th>145574</th>\n",
       "      <td>794638</td>\n",
       "      <td>50898</td>\n",
       "      <td>24</td>\n",
       "      <td>3</td>\n",
       "      <td>2</td>\n",
       "      <td>2.0</td>\n",
       "    </tr>\n",
       "    <tr>\n",
       "      <th>223105</th>\n",
       "      <td>2160484</td>\n",
       "      <td>107525</td>\n",
       "      <td>16</td>\n",
       "      <td>3</td>\n",
       "      <td>2</td>\n",
       "      <td>30.0</td>\n",
       "    </tr>\n",
       "    <tr>\n",
       "      <th>230807</th>\n",
       "      <td>1918001</td>\n",
       "      <td>188546</td>\n",
       "      <td>14</td>\n",
       "      <td>3</td>\n",
       "      <td>2</td>\n",
       "      <td>16.0</td>\n",
       "    </tr>\n",
       "    <tr>\n",
       "      <th>266232</th>\n",
       "      <td>1782114</td>\n",
       "      <td>106752</td>\n",
       "      <td>1</td>\n",
       "      <td>3</td>\n",
       "      <td>2</td>\n",
       "      <td>NaN</td>\n",
       "    </tr>\n",
       "    <tr>\n",
       "      <th>273805</th>\n",
       "      <td>1112182</td>\n",
       "      <td>202304</td>\n",
       "      <td>84</td>\n",
       "      <td>3</td>\n",
       "      <td>2</td>\n",
       "      <td>6.0</td>\n",
       "    </tr>\n",
       "    <tr>\n",
       "      <th>284038</th>\n",
       "      <td>2845099</td>\n",
       "      <td>31189</td>\n",
       "      <td>11</td>\n",
       "      <td>3</td>\n",
       "      <td>2</td>\n",
       "      <td>7.0</td>\n",
       "    </tr>\n",
       "    <tr>\n",
       "      <th>311713</th>\n",
       "      <td>1021560</td>\n",
       "      <td>53767</td>\n",
       "      <td>3</td>\n",
       "      <td>3</td>\n",
       "      <td>2</td>\n",
       "      <td>9.0</td>\n",
       "    </tr>\n",
       "    <tr>\n",
       "      <th>321100</th>\n",
       "      <td>408114</td>\n",
       "      <td>68324</td>\n",
       "      <td>4</td>\n",
       "      <td>3</td>\n",
       "      <td>2</td>\n",
       "      <td>18.0</td>\n",
       "    </tr>\n",
       "    <tr>\n",
       "      <th>323900</th>\n",
       "      <td>1919531</td>\n",
       "      <td>191501</td>\n",
       "      <td>32</td>\n",
       "      <td>3</td>\n",
       "      <td>2</td>\n",
       "      <td>7.0</td>\n",
       "    </tr>\n",
       "    <tr>\n",
       "      <th>345917</th>\n",
       "      <td>2232988</td>\n",
       "      <td>82565</td>\n",
       "      <td>1</td>\n",
       "      <td>3</td>\n",
       "      <td>2</td>\n",
       "      <td>NaN</td>\n",
       "    </tr>\n",
       "    <tr>\n",
       "      <th>371905</th>\n",
       "      <td>391768</td>\n",
       "      <td>57671</td>\n",
       "      <td>19</td>\n",
       "      <td>3</td>\n",
       "      <td>2</td>\n",
       "      <td>10.0</td>\n",
       "    </tr>\n",
       "    <tr>\n",
       "      <th>394347</th>\n",
       "      <td>467134</td>\n",
       "      <td>63189</td>\n",
       "      <td>21</td>\n",
       "      <td>3</td>\n",
       "      <td>2</td>\n",
       "      <td>2.0</td>\n",
       "    </tr>\n",
       "    <tr>\n",
       "      <th>411408</th>\n",
       "      <td>1286742</td>\n",
       "      <td>183220</td>\n",
       "      <td>48</td>\n",
       "      <td>3</td>\n",
       "      <td>2</td>\n",
       "      <td>4.0</td>\n",
       "    </tr>\n",
       "    <tr>\n",
       "      <th>415163</th>\n",
       "      <td>2282673</td>\n",
       "      <td>86751</td>\n",
       "      <td>49</td>\n",
       "      <td>3</td>\n",
       "      <td>2</td>\n",
       "      <td>2.0</td>\n",
       "    </tr>\n",
       "    <tr>\n",
       "      <th>441599</th>\n",
       "      <td>2125197</td>\n",
       "      <td>14050</td>\n",
       "      <td>48</td>\n",
       "      <td>3</td>\n",
       "      <td>2</td>\n",
       "      <td>3.0</td>\n",
       "    </tr>\n",
       "  </tbody>\n",
       "</table>\n",
       "</div>"
      ],
      "text/plain": [
       "        order_id  user_id  order_number  order_dow  order_hour_of_day  \\\n",
       "145574    794638    50898            24          3                  2   \n",
       "223105   2160484   107525            16          3                  2   \n",
       "230807   1918001   188546            14          3                  2   \n",
       "266232   1782114   106752             1          3                  2   \n",
       "273805   1112182   202304            84          3                  2   \n",
       "284038   2845099    31189            11          3                  2   \n",
       "311713   1021560    53767             3          3                  2   \n",
       "321100    408114    68324             4          3                  2   \n",
       "323900   1919531   191501            32          3                  2   \n",
       "345917   2232988    82565             1          3                  2   \n",
       "371905    391768    57671            19          3                  2   \n",
       "394347    467134    63189            21          3                  2   \n",
       "411408   1286742   183220            48          3                  2   \n",
       "415163   2282673    86751            49          3                  2   \n",
       "441599   2125197    14050            48          3                  2   \n",
       "\n",
       "        days_since_prior_order  \n",
       "145574                     2.0  \n",
       "223105                    30.0  \n",
       "230807                    16.0  \n",
       "266232                     NaN  \n",
       "273805                     6.0  \n",
       "284038                     7.0  \n",
       "311713                     9.0  \n",
       "321100                    18.0  \n",
       "323900                     7.0  \n",
       "345917                     NaN  \n",
       "371905                    10.0  \n",
       "394347                     2.0  \n",
       "411408                     4.0  \n",
       "415163                     2.0  \n",
       "441599                     3.0  "
      ]
     },
     "execution_count": 8,
     "metadata": {},
     "output_type": "execute_result"
    }
   ],
   "source": [
    "# Duplicate analysis\n",
    "print(df_instacart.duplicated().sum())\n",
    "print() # Check for duplicate orders\n",
    "df_instacart[df_instacart.duplicated()]"
   ]
  },
  {
   "cell_type": "markdown",
   "id": "2572c646-7825-41f9-a22b-ffe316fa5d65",
   "metadata": {},
   "source": [
    "15 duplicate rows were found in the instacart_orders dataframe. These rows represent identical orders in all columns (order_id, user_id, order_number, etc.).\n",
    "\n",
    "• Interpretation:\n",
    "\n",
    "    ○ Possible cause:\n",
    "\n",
    "        - Error in data collection or loading (repeated records).\n",
    "        - Failure to generate unique order_ids.\n",
    "\n",
    "    ○ Impact:\n",
    "\n",
    "        Duplicates can skew metrics such as \"total number of orders\" or \"purchase frequency.\"\n",
    "\n",
    "Duplicates will be removed with df_instacart.drop_duplicates() to avoid skew in the analysis."
   ]
  },
  {
   "cell_type": "code",
   "execution_count": 10,
   "id": "0d44de5d",
   "metadata": {
    "id": "0d44de5d"
   },
   "outputs": [
    {
     "data": {
      "text/html": [
       "<div>\n",
       "<style scoped>\n",
       "    .dataframe tbody tr th:only-of-type {\n",
       "        vertical-align: middle;\n",
       "    }\n",
       "\n",
       "    .dataframe tbody tr th {\n",
       "        vertical-align: top;\n",
       "    }\n",
       "\n",
       "    .dataframe thead th {\n",
       "        text-align: right;\n",
       "    }\n",
       "</style>\n",
       "<table border=\"1\" class=\"dataframe\">\n",
       "  <thead>\n",
       "    <tr style=\"text-align: right;\">\n",
       "      <th></th>\n",
       "      <th>order_id</th>\n",
       "      <th>user_id</th>\n",
       "      <th>order_number</th>\n",
       "      <th>order_dow</th>\n",
       "      <th>order_hour_of_day</th>\n",
       "      <th>days_since_prior_order</th>\n",
       "    </tr>\n",
       "  </thead>\n",
       "  <tbody>\n",
       "    <tr>\n",
       "      <th>145574</th>\n",
       "      <td>794638</td>\n",
       "      <td>50898</td>\n",
       "      <td>24</td>\n",
       "      <td>3</td>\n",
       "      <td>2</td>\n",
       "      <td>2.0</td>\n",
       "    </tr>\n",
       "    <tr>\n",
       "      <th>223105</th>\n",
       "      <td>2160484</td>\n",
       "      <td>107525</td>\n",
       "      <td>16</td>\n",
       "      <td>3</td>\n",
       "      <td>2</td>\n",
       "      <td>30.0</td>\n",
       "    </tr>\n",
       "    <tr>\n",
       "      <th>230807</th>\n",
       "      <td>1918001</td>\n",
       "      <td>188546</td>\n",
       "      <td>14</td>\n",
       "      <td>3</td>\n",
       "      <td>2</td>\n",
       "      <td>16.0</td>\n",
       "    </tr>\n",
       "    <tr>\n",
       "      <th>266232</th>\n",
       "      <td>1782114</td>\n",
       "      <td>106752</td>\n",
       "      <td>1</td>\n",
       "      <td>3</td>\n",
       "      <td>2</td>\n",
       "      <td>NaN</td>\n",
       "    </tr>\n",
       "    <tr>\n",
       "      <th>273805</th>\n",
       "      <td>1112182</td>\n",
       "      <td>202304</td>\n",
       "      <td>84</td>\n",
       "      <td>3</td>\n",
       "      <td>2</td>\n",
       "      <td>6.0</td>\n",
       "    </tr>\n",
       "    <tr>\n",
       "      <th>284038</th>\n",
       "      <td>2845099</td>\n",
       "      <td>31189</td>\n",
       "      <td>11</td>\n",
       "      <td>3</td>\n",
       "      <td>2</td>\n",
       "      <td>7.0</td>\n",
       "    </tr>\n",
       "    <tr>\n",
       "      <th>311713</th>\n",
       "      <td>1021560</td>\n",
       "      <td>53767</td>\n",
       "      <td>3</td>\n",
       "      <td>3</td>\n",
       "      <td>2</td>\n",
       "      <td>9.0</td>\n",
       "    </tr>\n",
       "    <tr>\n",
       "      <th>321100</th>\n",
       "      <td>408114</td>\n",
       "      <td>68324</td>\n",
       "      <td>4</td>\n",
       "      <td>3</td>\n",
       "      <td>2</td>\n",
       "      <td>18.0</td>\n",
       "    </tr>\n",
       "    <tr>\n",
       "      <th>323900</th>\n",
       "      <td>1919531</td>\n",
       "      <td>191501</td>\n",
       "      <td>32</td>\n",
       "      <td>3</td>\n",
       "      <td>2</td>\n",
       "      <td>7.0</td>\n",
       "    </tr>\n",
       "    <tr>\n",
       "      <th>345917</th>\n",
       "      <td>2232988</td>\n",
       "      <td>82565</td>\n",
       "      <td>1</td>\n",
       "      <td>3</td>\n",
       "      <td>2</td>\n",
       "      <td>NaN</td>\n",
       "    </tr>\n",
       "    <tr>\n",
       "      <th>371905</th>\n",
       "      <td>391768</td>\n",
       "      <td>57671</td>\n",
       "      <td>19</td>\n",
       "      <td>3</td>\n",
       "      <td>2</td>\n",
       "      <td>10.0</td>\n",
       "    </tr>\n",
       "    <tr>\n",
       "      <th>394347</th>\n",
       "      <td>467134</td>\n",
       "      <td>63189</td>\n",
       "      <td>21</td>\n",
       "      <td>3</td>\n",
       "      <td>2</td>\n",
       "      <td>2.0</td>\n",
       "    </tr>\n",
       "    <tr>\n",
       "      <th>411408</th>\n",
       "      <td>1286742</td>\n",
       "      <td>183220</td>\n",
       "      <td>48</td>\n",
       "      <td>3</td>\n",
       "      <td>2</td>\n",
       "      <td>4.0</td>\n",
       "    </tr>\n",
       "    <tr>\n",
       "      <th>415163</th>\n",
       "      <td>2282673</td>\n",
       "      <td>86751</td>\n",
       "      <td>49</td>\n",
       "      <td>3</td>\n",
       "      <td>2</td>\n",
       "      <td>2.0</td>\n",
       "    </tr>\n",
       "    <tr>\n",
       "      <th>441599</th>\n",
       "      <td>2125197</td>\n",
       "      <td>14050</td>\n",
       "      <td>48</td>\n",
       "      <td>3</td>\n",
       "      <td>2</td>\n",
       "      <td>3.0</td>\n",
       "    </tr>\n",
       "  </tbody>\n",
       "</table>\n",
       "</div>"
      ],
      "text/plain": [
       "        order_id  user_id  order_number  order_dow  order_hour_of_day  \\\n",
       "145574    794638    50898            24          3                  2   \n",
       "223105   2160484   107525            16          3                  2   \n",
       "230807   1918001   188546            14          3                  2   \n",
       "266232   1782114   106752             1          3                  2   \n",
       "273805   1112182   202304            84          3                  2   \n",
       "284038   2845099    31189            11          3                  2   \n",
       "311713   1021560    53767             3          3                  2   \n",
       "321100    408114    68324             4          3                  2   \n",
       "323900   1919531   191501            32          3                  2   \n",
       "345917   2232988    82565             1          3                  2   \n",
       "371905    391768    57671            19          3                  2   \n",
       "394347    467134    63189            21          3                  2   \n",
       "411408   1286742   183220            48          3                  2   \n",
       "415163   2282673    86751            49          3                  2   \n",
       "441599   2125197    14050            48          3                  2   \n",
       "\n",
       "        days_since_prior_order  \n",
       "145574                     2.0  \n",
       "223105                    30.0  \n",
       "230807                    16.0  \n",
       "266232                     NaN  \n",
       "273805                     6.0  \n",
       "284038                     7.0  \n",
       "311713                     9.0  \n",
       "321100                    18.0  \n",
       "323900                     7.0  \n",
       "345917                     NaN  \n",
       "371905                    10.0  \n",
       "394347                     2.0  \n",
       "411408                     4.0  \n",
       "415163                     2.0  \n",
       "441599                     3.0  "
      ]
     },
     "execution_count": 10,
     "metadata": {},
     "output_type": "execute_result"
    }
   ],
   "source": [
    "# Check all orders placed on Wednesday at 2:00 a.m.\n",
    "wend_two = df_instacart[(df_instacart['order_dow'] == 3) & (df_instacart['order_hour_of_day'] == 2)]\n",
    "wend_two[wend_two.duplicated()]"
   ]
  },
  {
   "cell_type": "markdown",
   "id": "3a83b1a5-d655-4a0c-a970-f604a92c4408",
   "metadata": {},
   "source": [
    "15 orders placed on Wednesday (order_dow = 3) at 2:00 a.m. were filtered. All of these orders are the same duplicates identified previously.\n",
    "\n",
    "• Interpretation:\n",
    "\n",
    "    ○ Unusual pattern:\n",
    "        It is unusual for users to place orders late in the morning (2:00 a.m.). This could be due to:\n",
    "\n",
    "        - Automated behavior (bots or scripts).\n",
    "        - Users in different time zones (if the data is not standardized).\n",
    "        - Errors in the time stamp (order_hour_of_day).\n",
    "\n",
    "    ○ Null data:\n",
    "        Some orders have 'days_since_prior_order = NaN' (new customers or first-time order)."
   ]
  },
  {
   "cell_type": "code",
   "execution_count": 12,
   "id": "480563c7",
   "metadata": {
    "id": "480563c7"
   },
   "outputs": [
    {
     "data": {
      "text/html": [
       "<div>\n",
       "<style scoped>\n",
       "    .dataframe tbody tr th:only-of-type {\n",
       "        vertical-align: middle;\n",
       "    }\n",
       "\n",
       "    .dataframe tbody tr th {\n",
       "        vertical-align: top;\n",
       "    }\n",
       "\n",
       "    .dataframe thead th {\n",
       "        text-align: right;\n",
       "    }\n",
       "</style>\n",
       "<table border=\"1\" class=\"dataframe\">\n",
       "  <thead>\n",
       "    <tr style=\"text-align: right;\">\n",
       "      <th></th>\n",
       "      <th>order_id</th>\n",
       "      <th>user_id</th>\n",
       "      <th>order_number</th>\n",
       "      <th>order_dow</th>\n",
       "      <th>order_hour_of_day</th>\n",
       "      <th>days_since_prior_order</th>\n",
       "    </tr>\n",
       "  </thead>\n",
       "  <tbody>\n",
       "    <tr>\n",
       "      <th>0</th>\n",
       "      <td>1515936</td>\n",
       "      <td>183418</td>\n",
       "      <td>11</td>\n",
       "      <td>6</td>\n",
       "      <td>13</td>\n",
       "      <td>30.0</td>\n",
       "    </tr>\n",
       "    <tr>\n",
       "      <th>1</th>\n",
       "      <td>1690866</td>\n",
       "      <td>163593</td>\n",
       "      <td>5</td>\n",
       "      <td>5</td>\n",
       "      <td>12</td>\n",
       "      <td>9.0</td>\n",
       "    </tr>\n",
       "    <tr>\n",
       "      <th>2</th>\n",
       "      <td>1454967</td>\n",
       "      <td>39980</td>\n",
       "      <td>4</td>\n",
       "      <td>5</td>\n",
       "      <td>19</td>\n",
       "      <td>2.0</td>\n",
       "    </tr>\n",
       "    <tr>\n",
       "      <th>3</th>\n",
       "      <td>1768857</td>\n",
       "      <td>82516</td>\n",
       "      <td>56</td>\n",
       "      <td>0</td>\n",
       "      <td>20</td>\n",
       "      <td>10.0</td>\n",
       "    </tr>\n",
       "    <tr>\n",
       "      <th>4</th>\n",
       "      <td>3007858</td>\n",
       "      <td>196724</td>\n",
       "      <td>2</td>\n",
       "      <td>4</td>\n",
       "      <td>12</td>\n",
       "      <td>17.0</td>\n",
       "    </tr>\n",
       "    <tr>\n",
       "      <th>...</th>\n",
       "      <td>...</td>\n",
       "      <td>...</td>\n",
       "      <td>...</td>\n",
       "      <td>...</td>\n",
       "      <td>...</td>\n",
       "      <td>...</td>\n",
       "    </tr>\n",
       "    <tr>\n",
       "      <th>478962</th>\n",
       "      <td>3210681</td>\n",
       "      <td>5617</td>\n",
       "      <td>5</td>\n",
       "      <td>1</td>\n",
       "      <td>14</td>\n",
       "      <td>7.0</td>\n",
       "    </tr>\n",
       "    <tr>\n",
       "      <th>478963</th>\n",
       "      <td>3270802</td>\n",
       "      <td>112087</td>\n",
       "      <td>2</td>\n",
       "      <td>3</td>\n",
       "      <td>13</td>\n",
       "      <td>6.0</td>\n",
       "    </tr>\n",
       "    <tr>\n",
       "      <th>478964</th>\n",
       "      <td>885349</td>\n",
       "      <td>82944</td>\n",
       "      <td>16</td>\n",
       "      <td>2</td>\n",
       "      <td>11</td>\n",
       "      <td>6.0</td>\n",
       "    </tr>\n",
       "    <tr>\n",
       "      <th>478965</th>\n",
       "      <td>216274</td>\n",
       "      <td>4391</td>\n",
       "      <td>3</td>\n",
       "      <td>3</td>\n",
       "      <td>8</td>\n",
       "      <td>8.0</td>\n",
       "    </tr>\n",
       "    <tr>\n",
       "      <th>478966</th>\n",
       "      <td>2071924</td>\n",
       "      <td>1730</td>\n",
       "      <td>18</td>\n",
       "      <td>1</td>\n",
       "      <td>14</td>\n",
       "      <td>15.0</td>\n",
       "    </tr>\n",
       "  </tbody>\n",
       "</table>\n",
       "<p>478952 rows × 6 columns</p>\n",
       "</div>"
      ],
      "text/plain": [
       "        order_id  user_id  order_number  order_dow  order_hour_of_day  \\\n",
       "0        1515936   183418            11          6                 13   \n",
       "1        1690866   163593             5          5                 12   \n",
       "2        1454967    39980             4          5                 19   \n",
       "3        1768857    82516            56          0                 20   \n",
       "4        3007858   196724             2          4                 12   \n",
       "...          ...      ...           ...        ...                ...   \n",
       "478962   3210681     5617             5          1                 14   \n",
       "478963   3270802   112087             2          3                 13   \n",
       "478964    885349    82944            16          2                 11   \n",
       "478965    216274     4391             3          3                  8   \n",
       "478966   2071924     1730            18          1                 14   \n",
       "\n",
       "        days_since_prior_order  \n",
       "0                         30.0  \n",
       "1                          9.0  \n",
       "2                          2.0  \n",
       "3                         10.0  \n",
       "4                         17.0  \n",
       "...                        ...  \n",
       "478962                     7.0  \n",
       "478963                     6.0  \n",
       "478964                     6.0  \n",
       "478965                     8.0  \n",
       "478966                    15.0  \n",
       "\n",
       "[478952 rows x 6 columns]"
      ]
     },
     "execution_count": 12,
     "metadata": {},
     "output_type": "execute_result"
    }
   ],
   "source": [
    "# Remove duplicate orders\n",
    "df_instacart_new = df_instacart.merge(df_orders,\n",
    "                                      left_on='order_id',\n",
    "                                      right_on='product_id',\n",
    "                                      suffixes=['_order', '_user'])\n",
    "\n",
    "df_instacart_new = df_instacart.drop_duplicates()\n",
    "df_instacart_new"
   ]
  },
  {
   "cell_type": "code",
   "execution_count": 13,
   "id": "0b2396a2",
   "metadata": {
    "id": "0b2396a2"
   },
   "outputs": [
    {
     "name": "stdout",
     "output_type": "stream",
     "text": [
      "0\n"
     ]
    }
   ],
   "source": [
    "# Check again for duplicate rows\n",
    "print(df_instacart_new.duplicated().sum())"
   ]
  },
  {
   "cell_type": "code",
   "execution_count": 14,
   "id": "f6113ef1",
   "metadata": {
    "id": "f6113ef1"
   },
   "outputs": [
    {
     "name": "stdout",
     "output_type": "stream",
     "text": [
      "0\n"
     ]
    }
   ],
   "source": [
    "# Recheck for duplicate order IDs\n",
    "print(df_instacart_new['order_id'].duplicated().sum())"
   ]
  },
  {
   "cell_type": "markdown",
   "id": "5e8905ae",
   "metadata": {
    "id": "5e8905ae"
   },
   "source": [
    "📊 **Duplicate Order Removal**\n",
    "\n",
    "• Duplicate rows were removed from the df_instacart dataframe.\n",
    "\n",
    "• The new df_instacart_new dataframe now contains 478,966 unique rows (it originally had 478,966 + 15 duplicates = 478,981 rows).\n",
    "\n",
    "• All values ​​in the order_id column are unique.\n",
    "\n",
    "    ○ Ensures that each order is represented only once in the analysis.\n",
    "    ○ Avoid overestimating metrics such as \"total orders\" or \"frequency per user.\""
   ]
  },
  {
   "cell_type": "markdown",
   "id": "45e6bc46",
   "metadata": {
    "id": "45e6bc46"
   },
   "source": [
    "**`products` data frame**"
   ]
  },
  {
   "cell_type": "code",
   "execution_count": 17,
   "id": "5f526b5b-8175-46fa-a0fd-441767d50e64",
   "metadata": {
    "id": "5f526b5b-8175-46fa-a0fd-441767d50e64"
   },
   "outputs": [
    {
     "name": "stdout",
     "output_type": "stream",
     "text": [
      "0\n"
     ]
    }
   ],
   "source": [
    "# Check for completely duplicate rows\n",
    "print(df_products.duplicated().sum())"
   ]
  },
  {
   "cell_type": "code",
   "execution_count": 18,
   "id": "c773f0bf",
   "metadata": {
    "id": "c773f0bf"
   },
   "outputs": [
    {
     "name": "stdout",
     "output_type": "stream",
     "text": [
      "1361\n"
     ]
    }
   ],
   "source": [
    "# Check for duplicate product names (convert names to uppercase for comparison 'medf_products.duplicated().sum()')\n",
    "df_products['product_name'] = df_products['product_name'].str.lower()\n",
    "\n",
    "print(df_products['product_name'].duplicated().sum())"
   ]
  },
  {
   "cell_type": "code",
   "execution_count": 19,
   "id": "01efd02e",
   "metadata": {
    "id": "01efd02e"
   },
   "outputs": [
    {
     "name": "stdout",
     "output_type": "stream",
     "text": [
      "0        False\n",
      "1        False\n",
      "2        False\n",
      "3        False\n",
      "4        False\n",
      "         ...  \n",
      "49689     True\n",
      "49690     True\n",
      "49691     True\n",
      "49692     True\n",
      "49693     True\n",
      "Name: product_name, Length: 49694, dtype: bool\n",
      "\n",
      "       product_id                   product_name  aisle_id  department_id\n",
      "25892       25893  original pancake & waffle mix       130             14\n",
      "49690       49691  original pancake & waffle mix       130             14\n"
     ]
    }
   ],
   "source": [
    "# Check for duplicate names of non-missing products\n",
    "print(df_products['product_name'].duplicated())\n",
    "print()\n",
    "print(df_products[df_products['product_name'] == 'original pancake & waffle mix'])"
   ]
  },
  {
   "cell_type": "markdown",
   "id": "a90fd73c-43dc-4f47-9e06-e859f9691b2f",
   "metadata": {
    "id": "9da8d293"
   },
   "source": [
    "📊 **Check for Completely Duplicate Rows**\n",
    "\n",
    "    • There are no completely duplicate rows (with all identical values ​​in product_id, product_name, aisle_id, and department_id).\n",
    "\n",
    "📊 **Check for Duplicate Product Names**\n",
    "\n",
    "    • There are 1,361 duplicate product names (same name but possibly different product_ids).\n",
    "    \n",
    "        ○ Observation: Two different IDs (25893 and 49691) share the same name, aisle (aisle_id=130), and department (department_id=14).\n",
    "\n",
    "🔍 **Interpretation and Identified Problems**\n",
    "\n",
    "🟣 **Causes of Duplicates:**\n",
    "\n",
    "    • Undetected Variants: Example: \"Organic Milk\" vs. \"organic milk\" (already normalized to lowercase).\n",
    "\n",
    "    • Input Errors: Same product registered multiple times with different IDs.\n",
    "\n",
    "    • Identical products under different brands: Example: Coca-Cola vs. Pepsi.\n",
    "\n",
    "🟣 **Impact on Analysis:**\n",
    "\n",
    "    • Overestimating popularity: If a product appears twice, it could be counted twice in sales analysis.\n",
    "\n",
    "    • Incorrect grouping: When calculating metrics by product_name, duplicates would inflate results."
   ]
  },
  {
   "cell_type": "markdown",
   "id": "60f30db1",
   "metadata": {
    "id": "60f30db1"
   },
   "source": [
    "**`departments` data frame**"
   ]
  },
  {
   "cell_type": "code",
   "execution_count": 22,
   "id": "fb410ad4-0fbf-4b80-bb09-23fdea79afe3",
   "metadata": {
    "id": "fb410ad4-0fbf-4b80-bb09-23fdea79afe3"
   },
   "outputs": [
    {
     "name": "stdout",
     "output_type": "stream",
     "text": [
      "0\n"
     ]
    }
   ],
   "source": [
    "# Check for completely duplicate rows\n",
    "print(df_departments.duplicated().sum())"
   ]
  },
  {
   "cell_type": "code",
   "execution_count": 23,
   "id": "332b12bb",
   "metadata": {
    "id": "332b12bb"
   },
   "outputs": [
    {
     "name": "stdout",
     "output_type": "stream",
     "text": [
      "0\n"
     ]
    }
   ],
   "source": [
    "# Check for duplicate product IDs\n",
    "print(df_departments['department_id'].duplicated().sum())"
   ]
  },
  {
   "cell_type": "markdown",
   "id": "889349c1",
   "metadata": {
    "id": "889349c1"
   },
   "source": [
    "**`aisles` data frame**"
   ]
  },
  {
   "cell_type": "code",
   "execution_count": 25,
   "id": "9da89fb9-4679-40f5-ad0d-c34df753a3f8",
   "metadata": {
    "id": "9da89fb9-4679-40f5-ad0d-c34df753a3f8"
   },
   "outputs": [
    {
     "name": "stdout",
     "output_type": "stream",
     "text": [
      "0\n"
     ]
    }
   ],
   "source": [
    "# Check for completely duplicate rows\n",
    "print(df_aisles.duplicated().sum())"
   ]
  },
  {
   "cell_type": "code",
   "execution_count": 26,
   "id": "da7c2822",
   "metadata": {
    "id": "da7c2822"
   },
   "outputs": [
    {
     "name": "stdout",
     "output_type": "stream",
     "text": [
      "0\n"
     ]
    }
   ],
   "source": [
    "# Check for duplicate product IDs\n",
    "print(df_aisles['aisle_id'].duplicated().sum())"
   ]
  },
  {
   "cell_type": "markdown",
   "id": "274cd06a",
   "metadata": {
    "id": "274cd06a"
   },
   "source": [
    "**`order_products` data frame**"
   ]
  },
  {
   "cell_type": "code",
   "execution_count": 28,
   "id": "52326689-84a8-4b8f-a881-7c68780f62c9",
   "metadata": {
    "id": "52326689-84a8-4b8f-a881-7c68780f62c9"
   },
   "outputs": [
    {
     "name": "stdout",
     "output_type": "stream",
     "text": [
      "0\n"
     ]
    }
   ],
   "source": [
    "# Check for completely duplicate rows\n",
    "print(df_orders.duplicated().sum())"
   ]
  },
  {
   "cell_type": "code",
   "execution_count": 29,
   "id": "7b861391",
   "metadata": {
    "id": "7b861391"
   },
   "outputs": [
    {
     "name": "stdout",
     "output_type": "stream",
     "text": [
      "0\n"
     ]
    }
   ],
   "source": [
    "# Double-check for any other misleading duplicates\n",
    "print(df_orders.duplicated().sum())"
   ]
  },
  {
   "cell_type": "markdown",
   "id": "0b890492",
   "metadata": {
    "id": "0b890492"
   },
   "source": [
    "No duplicate data was found in the 'departments', 'aisles', and 'order_products' data frames."
   ]
  },
  {
   "cell_type": "markdown",
   "id": "1e46de76",
   "metadata": {
    "id": "1e46de76"
   },
   "source": [
    "# 3. Data Cleansing"
   ]
  },
  {
   "cell_type": "markdown",
   "id": "c0aebd78",
   "metadata": {
    "id": "c0aebd78"
   },
   "source": [
    "**`products` data frame**"
   ]
  },
  {
   "cell_type": "code",
   "execution_count": 33,
   "id": "fe4a8b0f",
   "metadata": {
    "id": "fe4a8b0f"
   },
   "outputs": [
    {
     "name": "stdout",
     "output_type": "stream",
     "text": [
      "       product_id product_name  aisle_id  department_id\n",
      "37             38          NaN       100             21\n",
      "71             72          NaN       100             21\n",
      "109           110          NaN       100             21\n",
      "296           297          NaN       100             21\n",
      "416           417          NaN       100             21\n",
      "...           ...          ...       ...            ...\n",
      "49552       49553          NaN       100             21\n",
      "49574       49575          NaN       100             21\n",
      "49640       49641          NaN       100             21\n",
      "49663       49664          NaN       100             21\n",
      "49668       49669          NaN       100             21\n",
      "\n",
      "[1258 rows x 4 columns]\n"
     ]
    }
   ],
   "source": [
    "# Find missing values in the 'product_name' column\n",
    "df_products_av = df_products['product_name'].isna()\n",
    "\n",
    "df_products_new = df_products[df_products_av]\n",
    "print(df_products_new)"
   ]
  },
  {
   "cell_type": "code",
   "execution_count": 34,
   "id": "e96167bc",
   "metadata": {
    "id": "e96167bc"
   },
   "outputs": [
    {
     "name": "stdout",
     "output_type": "stream",
     "text": [
      "37       False\n",
      "71        True\n",
      "109       True\n",
      "296       True\n",
      "416       True\n",
      "         ...  \n",
      "49552     True\n",
      "49574     True\n",
      "49640     True\n",
      "49663     True\n",
      "49668     True\n",
      "Name: aisle_id, Length: 1258, dtype: bool\n",
      "\n",
      "       product_id product_name  aisle_id  department_id\n",
      "37             38          NaN       100             21\n",
      "71             72          NaN       100             21\n",
      "109           110          NaN       100             21\n",
      "296           297          NaN       100             21\n",
      "416           417          NaN       100             21\n",
      "...           ...          ...       ...            ...\n",
      "49552       49553          NaN       100             21\n",
      "49574       49575          NaN       100             21\n",
      "49640       49641          NaN       100             21\n",
      "49663       49664          NaN       100             21\n",
      "49668       49669          NaN       100             21\n",
      "\n",
      "[1258 rows x 4 columns]\n"
     ]
    }
   ],
   "source": [
    "# Are all missing product names related to aisle with ID 100?\n",
    "print(df_products_new['aisle_id'].duplicated())\n",
    "print()\n",
    "print(df_products_new[df_products_new['aisle_id'] == 100])"
   ]
  },
  {
   "cell_type": "markdown",
   "id": "05f63b8f-2fe1-42df-b861-61bb7015de2c",
   "metadata": {},
   "source": [
    "• **Clear pattern:** Missing names are concentrated exclusively in aisle_id 100.\n",
    "\n",
    "• **Possible causes:**\n",
    "\n",
    "    ○ Data loading error for that specific aisle.\n",
    "\n",
    "    ○ Generic or unnamed products in that category."
   ]
  },
  {
   "cell_type": "code",
   "execution_count": 36,
   "id": "8fd0a541",
   "metadata": {
    "id": "8fd0a541"
   },
   "outputs": [
    {
     "name": "stdout",
     "output_type": "stream",
     "text": [
      "37       False\n",
      "71        True\n",
      "109       True\n",
      "296       True\n",
      "416       True\n",
      "         ...  \n",
      "49552     True\n",
      "49574     True\n",
      "49640     True\n",
      "49663     True\n",
      "49668     True\n",
      "Name: department_id, Length: 1258, dtype: bool\n",
      "\n",
      "       product_id product_name  aisle_id  department_id\n",
      "37             38          NaN       100             21\n",
      "71             72          NaN       100             21\n",
      "109           110          NaN       100             21\n",
      "296           297          NaN       100             21\n",
      "416           417          NaN       100             21\n",
      "...           ...          ...       ...            ...\n",
      "49552       49553          NaN       100             21\n",
      "49574       49575          NaN       100             21\n",
      "49640       49641          NaN       100             21\n",
      "49663       49664          NaN       100             21\n",
      "49668       49669          NaN       100             21\n",
      "\n",
      "[1258 rows x 4 columns]\n"
     ]
    }
   ],
   "source": [
    "# Are all missing product names related to department with ID 21?\n",
    "print(df_products_new['department_id'].duplicated())\n",
    "print()\n",
    "print(df_products_new[df_products_new['department_id'] == 21])"
   ]
  },
  {
   "cell_type": "markdown",
   "id": "9b73a733-6261-43e9-8a27-89c1d8c429e6",
   "metadata": {},
   "source": [
    "🟣 **Relationship between aisle_id and department_id:**\n",
    "The missing values (NaN) are concentrated in products from aisle_id 100, which all belong to department_id 21.\n",
    "\n",
    "This suggests the issue might be due to:\n",
    "\n",
    "1. A specific category (e.g., generic or temporary products).\n",
    "\n",
    "2. A systematic data loading error for that particular department/aisle.\n",
    "\n",
    "• **Pattern:** All missing product_name values are linked to the same aisle_id (100) and department_id (21), indicating a localized issue."
   ]
  },
  {
   "cell_type": "code",
   "execution_count": 38,
   "id": "325c3464",
   "metadata": {
    "id": "325c3464"
   },
   "outputs": [
    {
     "name": "stdout",
     "output_type": "stream",
     "text": [
      "       product_id product_name  aisle_id  department_id\n",
      "37             38          NaN       100             21\n",
      "71             72          NaN       100             21\n",
      "109           110          NaN       100             21\n",
      "296           297          NaN       100             21\n",
      "416           417          NaN       100             21\n",
      "...           ...          ...       ...            ...\n",
      "49552       49553          NaN       100             21\n",
      "49574       49575          NaN       100             21\n",
      "49640       49641          NaN       100             21\n",
      "49663       49664          NaN       100             21\n",
      "49668       49669          NaN       100             21\n",
      "\n",
      "[1258 rows x 4 columns]\n"
     ]
    }
   ],
   "source": [
    "# Use the department and isolate tables to review the data for aisle with ID 100 and department with ID 21.\n",
    "print(df_products_new[(df_products_new['aisle_id'] == 100) & (df_products_new['department_id'] == 21)])"
   ]
  },
  {
   "cell_type": "code",
   "execution_count": 39,
   "id": "6b295120",
   "metadata": {
    "id": "6b295120"
   },
   "outputs": [
    {
     "name": "stdout",
     "output_type": "stream",
     "text": [
      "       product_id product_name  aisle_id  department_id\n",
      "37             38      Unknown       100             21\n",
      "71             72      Unknown       100             21\n",
      "109           110      Unknown       100             21\n",
      "296           297      Unknown       100             21\n",
      "416           417      Unknown       100             21\n",
      "...           ...          ...       ...            ...\n",
      "49552       49553      Unknown       100             21\n",
      "49574       49575      Unknown       100             21\n",
      "49640       49641      Unknown       100             21\n",
      "49663       49664      Unknown       100             21\n",
      "49668       49669      Unknown       100             21\n",
      "\n",
      "[1258 rows x 4 columns]\n"
     ]
    }
   ],
   "source": [
    "# Complete missing product names with 'Unknown'\n",
    "df_products_new.loc[:, 'product_name'] = df_products_new['product_name'].fillna('Unknown')\n",
    "print(df_products_new)"
   ]
  },
  {
   "cell_type": "markdown",
   "id": "fc70e5ad",
   "metadata": {
    "id": "fc70e5ad"
   },
   "source": [
    "By changing the data from 'NaN' to 'Unknown', the DF can more effectively conclude that they are values ​​equal to 0 or nothing, unlike 'NaN' which considers them as absent and that is when we have problems with the code."
   ]
  },
  {
   "cell_type": "markdown",
   "id": "7eb45c86",
   "metadata": {
    "id": "7eb45c86"
   },
   "source": [
    "**`orders` data frame**"
   ]
  },
  {
   "cell_type": "code",
   "execution_count": 42,
   "id": "93e41d96",
   "metadata": {
    "id": "93e41d96"
   },
   "outputs": [
    {
     "name": "stdout",
     "output_type": "stream",
     "text": [
      "        order_id  user_id  order_number  order_dow  order_hour_of_day  \\\n",
      "28        133707   182261             1          3                 10   \n",
      "96        787445    25685             1          6                 18   \n",
      "100       294410   111449             1          0                 19   \n",
      "103      2869915   123958             1          4                 16   \n",
      "104      2521921    42286             1          3                 18   \n",
      "...          ...      ...           ...        ...                ...   \n",
      "478895   2589657   205028             1          0                 16   \n",
      "478896   2222353   141211             1          2                 13   \n",
      "478922   2272807   204154             1          1                 15   \n",
      "478926   2499542    68810             1          4                 19   \n",
      "478945   1387033    22496             1          5                 14   \n",
      "\n",
      "        days_since_prior_order  \n",
      "28                         NaN  \n",
      "96                         NaN  \n",
      "100                        NaN  \n",
      "103                        NaN  \n",
      "104                        NaN  \n",
      "...                        ...  \n",
      "478895                     NaN  \n",
      "478896                     NaN  \n",
      "478922                     NaN  \n",
      "478926                     NaN  \n",
      "478945                     NaN  \n",
      "\n",
      "[28819 rows x 6 columns]\n"
     ]
    }
   ],
   "source": [
    "# Find the missing values\n",
    "df_instacart_av = df_instacart['days_since_prior_order'].isna()\n",
    "\n",
    "df_instacart_new = df_instacart[df_instacart_av]\n",
    "print(df_instacart_new)"
   ]
  },
  {
   "cell_type": "code",
   "execution_count": 43,
   "id": "166e5a86",
   "metadata": {
    "id": "166e5a86"
   },
   "outputs": [
    {
     "name": "stdout",
     "output_type": "stream",
     "text": [
      "28        False\n",
      "96         True\n",
      "100        True\n",
      "103        True\n",
      "104        True\n",
      "          ...  \n",
      "478895     True\n",
      "478896     True\n",
      "478922     True\n",
      "478926     True\n",
      "478945     True\n",
      "Name: order_number, Length: 28819, dtype: bool\n",
      "\n",
      "        order_id  user_id  order_number  order_dow  order_hour_of_day  \\\n",
      "28        133707   182261             1          3                 10   \n",
      "96        787445    25685             1          6                 18   \n",
      "100       294410   111449             1          0                 19   \n",
      "103      2869915   123958             1          4                 16   \n",
      "104      2521921    42286             1          3                 18   \n",
      "...          ...      ...           ...        ...                ...   \n",
      "478895   2589657   205028             1          0                 16   \n",
      "478896   2222353   141211             1          2                 13   \n",
      "478922   2272807   204154             1          1                 15   \n",
      "478926   2499542    68810             1          4                 19   \n",
      "478945   1387033    22496             1          5                 14   \n",
      "\n",
      "        days_since_prior_order  \n",
      "28                         NaN  \n",
      "96                         NaN  \n",
      "100                        NaN  \n",
      "103                        NaN  \n",
      "104                        NaN  \n",
      "...                        ...  \n",
      "478895                     NaN  \n",
      "478896                     NaN  \n",
      "478922                     NaN  \n",
      "478926                     NaN  \n",
      "478945                     NaN  \n",
      "\n",
      "[28819 rows x 6 columns]\n"
     ]
    }
   ],
   "source": [
    "# Are there any missing values other than the customer's first order?\n",
    "print(df_instacart_new['order_number'].duplicated())\n",
    "print()\n",
    "print(df_instacart_new[df_instacart_new['order_number'] == 1])"
   ]
  },
  {
   "cell_type": "markdown",
   "id": "4e23d089",
   "metadata": {
    "id": "4e23d089"
   },
   "source": [
    "With the data obtained we can conclude that all missing values ​​are only from the customer's first order."
   ]
  },
  {
   "cell_type": "markdown",
   "id": "69dc9ca4",
   "metadata": {
    "id": "69dc9ca4"
   },
   "source": [
    "**`order_products` data frame**"
   ]
  },
  {
   "cell_type": "code",
   "execution_count": 46,
   "id": "b8240253",
   "metadata": {
    "id": "b8240253"
   },
   "outputs": [
    {
     "name": "stdout",
     "output_type": "stream",
     "text": [
      "         order_id  product_id  add_to_cart_order  reordered\n",
      "737       2449164        5068                NaN          0\n",
      "9926      1968313       43867                NaN          0\n",
      "14394     2926893       11688                NaN          0\n",
      "16418     1717990        4142                NaN          0\n",
      "30114     1959075       42828                NaN          1\n",
      "...           ...         ...                ...        ...\n",
      "4505662   1800005        7411                NaN          0\n",
      "4511400   1633337         260                NaN          0\n",
      "4517562    404157        9517                NaN          0\n",
      "4534112   1673227       17835                NaN          0\n",
      "4535739   1832957       17949                NaN          1\n",
      "\n",
      "[836 rows x 4 columns]\n"
     ]
    }
   ],
   "source": [
    "# Find the missing values\n",
    "df_orders_av = df_orders['add_to_cart_order'].isna()\n",
    "\n",
    "df_orders_new = df_orders[df_orders_av]\n",
    "print(df_orders_new)"
   ]
  },
  {
   "cell_type": "code",
   "execution_count": 47,
   "id": "9a78e5ee",
   "metadata": {
    "id": "9a78e5ee"
   },
   "outputs": [
    {
     "name": "stdout",
     "output_type": "stream",
     "text": [
      "1.0 64.0\n"
     ]
    }
   ],
   "source": [
    "# What are the minimum and maximum values ​​in this column?\n",
    "print(df_orders['add_to_cart_order'].min(), df_orders['add_to_cart_order'].max())"
   ]
  },
  {
   "cell_type": "markdown",
   "id": "-Z2Ja215jW78",
   "metadata": {
    "id": "-Z2Ja215jW78"
   },
   "source": [
    "We can say that only values ​​from 1 to 64 are found, since they represent the sequential order in which each item was added to the cart."
   ]
  },
  {
   "cell_type": "code",
   "execution_count": 49,
   "id": "ab9d0c2b",
   "metadata": {
    "id": "ab9d0c2b"
   },
   "outputs": [
    {
     "name": "stdout",
     "output_type": "stream",
     "text": [
      "737        2449164\n",
      "9926       1968313\n",
      "14394      2926893\n",
      "16418      1717990\n",
      "30114      1959075\n",
      "            ...   \n",
      "4505662    1800005\n",
      "4511400    1633337\n",
      "4517562     404157\n",
      "4534112    1673227\n",
      "4535739    1832957\n",
      "Name: order_id, Length: 836, dtype: int64\n"
     ]
    }
   ],
   "source": [
    "# Save all order IDs that have a missing value in 'add_to_cart_order'\n",
    "id_null_values = df_orders[(df_orders['add_to_cart_order'].isna())]['order_id']\n",
    "print(id_null_values)"
   ]
  },
  {
   "cell_type": "code",
   "execution_count": 50,
   "id": "ebe28c36",
   "metadata": {},
   "outputs": [
    {
     "name": "stdout",
     "output_type": "stream",
     "text": [
      "      order_id  product_id  add_to_cart_order  reordered\n",
      "0      2094761       31469               57.0          1\n",
      "1      2449164        5068                NaN          0\n",
      "2      2997021        4920               37.0          0\n",
      "3       871281       40063               61.0          1\n",
      "4       171934       36397                7.0          0\n",
      "...        ...         ...                ...        ...\n",
      "5311   2621907       32018               28.0          1\n",
      "5312    102236       34688               49.0          0\n",
      "5313   2256933       41544               21.0          0\n",
      "5314    180546       12741               46.0          1\n",
      "5315   2136777       20072               10.0          0\n",
      "\n",
      "[5316 rows x 4 columns]\n"
     ]
    }
   ],
   "source": [
    "df_orders_id_null = pd.merge(df_orders,\n",
    "                             id_null_values.drop_duplicates(),\n",
    "                             how='inner',\n",
    "                             on='order_id'\n",
    "                            )\n",
    "print(df_orders_id_null)"
   ]
  },
  {
   "cell_type": "code",
   "execution_count": 51,
   "id": "921a1eb9",
   "metadata": {},
   "outputs": [
    {
     "name": "stdout",
     "output_type": "stream",
     "text": [
      "          product_id  add_to_cart_order  reordered\n",
      "order_id                                          \n",
      "9310              65                 64         65\n",
      "61355            127                 64        127\n",
      "102236            95                 64         95\n",
      "129627            69                 64         69\n",
      "165801            70                 64         70\n",
      "...              ...                ...        ...\n",
      "2999801           70                 64         70\n",
      "3125735           86                 64         86\n",
      "3308010          115                 64        115\n",
      "3347453           71                 64         71\n",
      "3383594           69                 64         69\n",
      "\n",
      "[70 rows x 3 columns]\n"
     ]
    }
   ],
   "source": [
    "# Do all orders with missing values have more than 64 products?\n",
    "df_orders_group = df_orders_id_null.groupby('order_id').count()\n",
    "#df_orders_group\n",
    "print(df_orders_group[df_orders_group['product_id']>=64])"
   ]
  },
  {
   "cell_type": "markdown",
   "id": "ea18d854-c829-499d-9990-a7a6c648259c",
   "metadata": {},
   "source": [
    "Missing data is associated with orders with a high quantity of products (≥64), indicating a possible systematic error in large orders."
   ]
  },
  {
   "cell_type": "code",
   "execution_count": 53,
   "id": "54c31695",
   "metadata": {
    "id": "54c31695"
   },
   "outputs": [
    {
     "name": "stdout",
     "output_type": "stream",
     "text": [
      "          product_id  add_to_cart_order  reordered\n",
      "order_id                                          \n",
      "9310              65                 64         65\n",
      "61355            127                 64        127\n",
      "102236            95                 64         95\n",
      "129627            69                 64         69\n",
      "165801            70                 64         70\n",
      "...              ...                ...        ...\n",
      "2999801           70                 64         70\n",
      "3125735           86                 64         86\n",
      "3308010          115                 64        115\n",
      "3347453           71                 64         71\n",
      "3383594           69                 64         69\n",
      "\n",
      "[70 rows x 3 columns]\n",
      "\n",
      "order_id\n",
      "9310       1\n",
      "1916118    1\n",
      "2170451    1\n",
      "2136777    1\n",
      "2094761    1\n",
      "          ..\n",
      "1477139    1\n",
      "1529171    1\n",
      "1564093    1\n",
      "1598369    1\n",
      "3383594    1\n",
      "Name: product_id, Length: 70, dtype: int64\n",
      "\n",
      "70\n"
     ]
    }
   ],
   "source": [
    "# Do all orders with missing values ​​have more than 64 products?\n",
    "df_orders_group = df_orders_id_null.groupby('order_id').count()\n",
    "#df_orders_group\n",
    "print(df_orders_group[df_orders_group['product_id']>=64])\n",
    "\n",
    "# Group all orders with missing data by their order ID.\n",
    "print()\n",
    "print(df_orders_group.groupby('order_id')['product_id'].count().sort_values(ascending=False))\n",
    "print()\n",
    "\n",
    "# Count the number of 'product_id' in each order and check the minimum count value.\n",
    "print(df_orders_group['product_id'].count().min())"
   ]
  },
  {
   "cell_type": "markdown",
   "id": "p9V6pddtjglj",
   "metadata": {
    "id": "p9V6pddtjglj"
   },
   "source": [
    "All orders do not exceed the quantity of 64 products ordered, this may be because that is the quantity in stock they have in the store."
   ]
  },
  {
   "cell_type": "code",
   "execution_count": 55,
   "id": "7a987d08",
   "metadata": {
    "id": "7a987d08"
   },
   "outputs": [
    {
     "name": "stdout",
     "output_type": "stream",
     "text": [
      "order_id             0\n",
      "product_id           0\n",
      "add_to_cart_order    0\n",
      "reordered            0\n",
      "dtype: int64\n",
      "\n",
      "Sample de 'add_to_cart_order':\n",
      "737      999.0\n",
      "9926     999.0\n",
      "14394    999.0\n",
      "16418    999.0\n",
      "30114    999.0\n",
      "Name: add_to_cart_order, dtype: float64\n"
     ]
    }
   ],
   "source": [
    "# Replace missing values ​​in column 'add_to_cart? with 999 and convert the column to integer type.\n",
    "df_orders_new.loc[:, 'add_to_cart_order'] = df_orders_new['add_to_cart_order'].fillna(999).astype(int)\n",
    "\n",
    "print(df_orders_new.isnull().sum())\n",
    "print(\"\\nSample de 'add_to_cart_order':\")\n",
    "print(df_orders_new['add_to_cart_order'].head())"
   ]
  },
  {
   "cell_type": "markdown",
   "id": "fea4bcc7",
   "metadata": {
    "id": "fea4bcc7"
   },
   "source": [
    "• **Transformation Successful:**\n",
    "\n",
    "    The missing values ​​in add_to_cart_order were replaced with 999 and the column was converted to an integer without errors.\n",
    "\n",
    "• **Data Quality:**\n",
    "\n",
    "    The DataFrame now has no nulls in any column (verified with .isnull().sum())."
   ]
  },
  {
   "cell_type": "markdown",
   "id": "RnplPFY1gSrb",
   "metadata": {
    "id": "RnplPFY1gSrb"
   },
   "source": [
    "# Conclusions"
   ]
  },
  {
   "cell_type": "markdown",
   "id": "60197384-c9ac-48ef-a98a-1b81d8e396fa",
   "metadata": {},
   "source": [
    "It's very important to understand what each column in each DataFrame represents so you know which values ​​should be modified and which ones should be left unchanged to avoid affecting the data analysis. On the other hand, it's very important to know what to do with missing values, as these can become a headache in the future."
   ]
  },
  {
   "cell_type": "markdown",
   "id": "UjrOIwTcz3ri",
   "metadata": {
    "id": "UjrOIwTcz3ri"
   },
   "source": [
    "# 4. Data analysis"
   ]
  },
  {
   "cell_type": "code",
   "execution_count": 60,
   "id": "growing-fruit",
   "metadata": {
    "id": "growing-fruit"
   },
   "outputs": [
    {
     "name": "stdout",
     "output_type": "stream",
     "text": [
      "        order_id  user_id  order_number  order_dow  order_hour_of_day  \\\n",
      "283366   2407152   139329             1          2                 23   \n",
      "441800   1156854   148301             1          0                 23   \n",
      "13709    2624354   148456             1          0                 23   \n",
      "208817   3168756    78994             1          6                 23   \n",
      "165220    197024    97051             1          1                 23   \n",
      "...          ...      ...           ...        ...                ...   \n",
      "68801    1561394    34064             1          5                  0   \n",
      "343844     81924   128474             1          4                  0   \n",
      "372202     91495   173558             1          3                  0   \n",
      "412565    354739    99757             1          6                  0   \n",
      "213341   1148384    84091             1          5                  0   \n",
      "\n",
      "        days_since_prior_order  \n",
      "283366                     NaN  \n",
      "441800                     NaN  \n",
      "13709                      NaN  \n",
      "208817                     NaN  \n",
      "165220                     NaN  \n",
      "...                        ...  \n",
      "68801                      NaN  \n",
      "343844                     NaN  \n",
      "372202                     NaN  \n",
      "412565                     NaN  \n",
      "213341                     NaN  \n",
      "\n",
      "[28819 rows x 6 columns]\n"
     ]
    }
   ],
   "source": [
    "print(df_instacart_new.sort_values(by='order_hour_of_day', ascending=False))"
   ]
  },
  {
   "cell_type": "code",
   "execution_count": 61,
   "id": "accessory-malaysia",
   "metadata": {
    "id": "accessory-malaysia"
   },
   "outputs": [
    {
     "name": "stdout",
     "output_type": "stream",
     "text": [
      "        order_id  user_id  order_number  order_dow  order_hour_of_day  \\\n",
      "108295   2047326   106498             1          6                 11   \n",
      "48706    2422826    30452             1          6                  9   \n",
      "160668    359680    85278             1          6                 13   \n",
      "160566   1982735    55197             1          6                 11   \n",
      "287812    612938   169872             1          6                 16   \n",
      "...          ...      ...           ...        ...                ...   \n",
      "110878   3012562    21325             1          0                 16   \n",
      "347648    139330   184130             1          0                 10   \n",
      "347627   2848578    40292             1          0                 17   \n",
      "347595   3271235    62566             1          0                 15   \n",
      "240303   2221391    30867             1          0                 11   \n",
      "\n",
      "        days_since_prior_order  \n",
      "108295                     NaN  \n",
      "48706                      NaN  \n",
      "160668                     NaN  \n",
      "160566                     NaN  \n",
      "287812                     NaN  \n",
      "...                        ...  \n",
      "110878                     NaN  \n",
      "347648                     NaN  \n",
      "347627                     NaN  \n",
      "347595                     NaN  \n",
      "240303                     NaN  \n",
      "\n",
      "[28819 rows x 6 columns]\n"
     ]
    }
   ],
   "source": [
    "print(df_instacart_new.sort_values(by='order_dow', ascending=False))"
   ]
  },
  {
   "cell_type": "markdown",
   "id": "hmR2GNQ6lCsX",
   "metadata": {
    "id": "hmR2GNQ6lCsX"
   },
   "source": [
    "The values ​​for the 'order_hour_of_day' and 'order_dow' columns range from 0 - 23 for 'order_hour_of_day' and from 0 - 6 for 'order_dow'."
   ]
  },
  {
   "cell_type": "code",
   "execution_count": 63,
   "id": "a36cca27",
   "metadata": {
    "id": "a36cca27"
   },
   "outputs": [
    {
     "data": {
      "text/plain": [
       "<Axes: title={'center': 'Orders by Hour'}, xlabel='Hour', ylabel='Orders'>"
      ]
     },
     "execution_count": 63,
     "metadata": {},
     "output_type": "execute_result"
    },
    {
     "data": {
      "image/png": "[encoded data removed]",
      "text/plain": [
       "<Figure size 640x480 with 1 Axes>"
      ]
     },
     "metadata": {},
     "output_type": "display_data"
    }
   ],
   "source": [
    "# For each hour of the day, how many people place orders?\n",
    "user_hour_day = df_instacart.groupby(['order_hour_of_day'])['order_id'].count()\n",
    "user_hour_day.plot(x='order_hour_of_day',\n",
    "                   y='order_id',\n",
    "                   title='Orders by Hour',\n",
    "                   xlabel='Hour',\n",
    "                   ylabel='Orders',\n",
    "                   kind='bar'\n",
    "                  )"
   ]
  },
  {
   "cell_type": "markdown",
   "id": "11270eed",
   "metadata": {
    "id": "11270eed"
   },
   "source": [
    "🟣 **Demand Pattern:**\n",
    "\n",
    "    ○ Peak Hours:\n",
    "\n",
    "        • Maximum activity between 10:00 AM and 3:00 PM (midday).\n",
    "\n",
    "        • Small peak around 8:00 AM and 9:00 AM (breakfast/morning shopping time).\n",
    "\n",
    "    ○ Off-peak Hours:\n",
    "\n",
    "        • Minimum activity between 12:00 AM and 6:00 AM (early morning).\n",
    "\n",
    "🟣 **General Trend:**\n",
    "\n",
    "   ○ Demand increases progressively from 6:00 AM, peaks at midday, and decreases after 4:00 PM.\n",
    "\n",
    "🟣 **Numerical Data:**\n",
    "\n",
    "    ○ The Y-axis shows that orders per hour range from ~5,000 (evening) to ~35,000 (midday).\n",
    "\n",
    "🟣 **Consumer Behavior:**\n",
    "\n",
    "    ○ Users prefer to place orders during daylight hours, especially around lunchtime."
   ]
  },
  {
   "cell_type": "code",
   "execution_count": 65,
   "id": "chief-digit",
   "metadata": {
    "id": "chief-digit"
   },
   "outputs": [
    {
     "data": {
      "text/plain": [
       "<Axes: title={'center': 'Orders by Day of the Week'}, xlabel='Days', ylabel='Orders'>"
      ]
     },
     "execution_count": 65,
     "metadata": {},
     "output_type": "execute_result"
    },
    {
     "data": {
      "image/png": "[encoded data removed]",
      "text/plain": [
       "<Figure size 640x480 with 1 Axes>"
      ]
     },
     "metadata": {},
     "output_type": "display_data"
    }
   ],
   "source": [
    "# What day of the week do people buy groceries?\n",
    "day_of_week = df_instacart.groupby(['order_dow'])['order_id'].count()\n",
    "day_of_week.plot(x='order_dow',\n",
    "                 y='order_id',\n",
    "                 title='Orders by Day of the Week',\n",
    "                 xlabel='Days',\n",
    "                 ylabel='Orders',\n",
    "                 kind='bar'\n",
    "                )"
   ]
  },
  {
   "cell_type": "markdown",
   "id": "dominant-lightning",
   "metadata": {
    "id": "dominant-lightning"
   },
   "source": [
    "🟣 **Days with Highest Demand:**\n",
    "\n",
    "    ○ Sunday (0) and Saturday (6): Peak activity, typical for supermarket shopping (free days for planning purchases).\n",
    "\n",
    "    ○ Monday (1) or Tuesday (2): Slight increase compared to intermediate days (possibly due to post-weekend restocking).\n",
    "\n",
    "🟣 **Days with Lowest Demand:**\n",
    "\n",
    "    ○ Wednesday to Friday (3-5): Fewer orders, coinciding with weekdays.\n",
    "\n",
    "🟣 **Difference Between Days:**\n",
    "\n",
    "    ○ The difference between the busiest and least busy days can be significant.\n",
    "\n",
    "📄 **Interpretation:**\n",
    "\n",
    "    ○ Resource Planning:\n",
    "\n",
    "        • Increase staffing/logistics on weekends (Sunday/Saturday).\n",
    "\n",
    "        • Offer promotions on Wednesdays and Fridays to balance demand.\n",
    "\n",
    "    ○ Possible Causes:\n",
    "\n",
    "        • Users prefer to shop when they have more free time (e.g., weekends).\n",
    "\n",
    "        • Large purchases to stock up at the beginning of the week."
   ]
  },
  {
   "cell_type": "code",
   "execution_count": 67,
   "id": "c231f523",
   "metadata": {
    "id": "c231f523"
   },
   "outputs": [
    {
     "data": {
      "text/plain": [
       "<Axes: title={'center': 'Time people wait to place another order'}, xlabel='Time', ylabel='Users'>"
      ]
     },
     "execution_count": 67,
     "metadata": {},
     "output_type": "execute_result"
    },
    {
     "data": {
      "image/png": "[encoded data removed]",
      "text/plain": [
       "<Figure size 640x480 with 1 Axes>"
      ]
     },
     "metadata": {},
     "output_type": "display_data"
    }
   ],
   "source": [
    "# How long do people wait before placing another order?\n",
    "time_to_wait = df_instacart.groupby(['days_since_prior_order'])['order_id'].count()\n",
    "time_to_wait.plot(x='days_since_prior_order',\n",
    "                 y='order_id',\n",
    "                 title='Time people wait to place another order',\n",
    "                 xlabel='Time',\n",
    "                 ylabel='Users',\n",
    "                 kind='bar'\n",
    "                )"
   ]
  },
  {
   "cell_type": "markdown",
   "id": "discrete-vertex",
   "metadata": {
    "id": "discrete-vertex"
   },
   "source": [
    "🟣 **Dominant Patterns:**\n",
    "\n",
    "    ○ 7-Day Peak: Most users place their next order exactly one week later (recurring weekly behavior).\n",
    "\n",
    "    ○ 30-Day Peak: Second major peak, suggesting a monthly cycle (e.g., restocking non-perishable items).\n",
    "\n",
    "    ○ Days 1-3: Low frequency, indicating that few users purchase consecutively.\n",
    "\n",
    "🟣 **General Trends:**\n",
    "\n",
    "    ○ Clustering in multiples of 7: Many users follow weekly cycles (7, 14, 21, 28 days).\n",
    "\n",
    "    ○ Value 0.0: Possible cases of same-day orders (should be verified if this is an error or multiple purchases).\n",
    "\n",
    "🟣 **Atypical Data:**\n",
    "\n",
    "    ○ Days between 15 and 29 have low frequency, except around 30.\n",
    "\n",
    "\n",
    "📄 **Interpretation:**\n",
    "\n",
    "    ○ User Behavior:\n",
    "\n",
    "        • Loyalty: Spikes in 7 and 30 days suggest structured habits (e.g., weekly grocery shopping).\n",
    "\n",
    "    ○ Opportunities:\n",
    "\n",
    "        • Send reminders/promotions around the 7th or 30th day to encourage repeat purchases.\n",
    "\n",
    "        • Investigate why few users purchase between days 8-14.\n",
    "\n",
    "    ○ Potential Errors:\n",
    "\n",
    "        • days_since_prior_order = 0: Could be:\n",
    "\n",
    "            - Orders canceled and reordered."
   ]
  },
  {
   "cell_type": "code",
   "execution_count": 69,
   "id": "d89b8403",
   "metadata": {
    "id": "d89b8403"
   },
   "outputs": [
    {
     "data": {
      "text/plain": [
       "order_dow  order_hour_of_day\n",
       "2          0                     462\n",
       "           1                     240\n",
       "           2                     136\n",
       "           3                     104\n",
       "           4                     109\n",
       "           5                     196\n",
       "           6                     653\n",
       "           7                    1900\n",
       "           8                    3485\n",
       "           9                    5057\n",
       "           10                   5489\n",
       "           11                   5365\n",
       "           12                   5066\n",
       "           13                   5234\n",
       "           14                   5344\n",
       "           15                   5260\n",
       "           16                   5322\n",
       "           17                   4525\n",
       "           18                   3672\n",
       "           19                   2787\n",
       "           20                   2061\n",
       "           21                   1481\n",
       "           22                   1130\n",
       "           23                    755\n",
       "Name: order_dow, dtype: int64"
      ]
     },
     "execution_count": 69,
     "metadata": {},
     "output_type": "execute_result"
    }
   ],
   "source": [
    "# Difference between Wednesdays and Saturdays for 'order_hour_of_day'.\n",
    "wednesday = df_instacart[df_instacart['order_dow'].isin([2])]\n",
    "wen_hor = wednesday.groupby(['order_dow','order_hour_of_day'])['order_dow'].count()\n",
    "wen_hor\n",
    "# Filter for Wednesdays '2'"
   ]
  },
  {
   "cell_type": "code",
   "execution_count": 70,
   "id": "94e54e8a",
   "metadata": {
    "id": "94e54e8a"
   },
   "outputs": [
    {
     "data": {
      "text/plain": [
       "<Axes: title={'center': 'Wednesday hours in which users placed orders'}, xlabel='Day and Hour', ylabel='User Requests'>"
      ]
     },
     "execution_count": 70,
     "metadata": {},
     "output_type": "execute_result"
    },
    {
     "data": {
      "image/png": "[encoded data removed]",
      "text/plain": [
       "<Figure size 640x480 with 1 Axes>"
      ]
     },
     "metadata": {},
     "output_type": "display_data"
    }
   ],
   "source": [
    "# Graphic of the day Wednesday\n",
    "wen_hor.plot(x='order_dow',\n",
    "             y='order_hour_of_day',\n",
    "             title='Wednesday hours in which users placed orders',\n",
    "             xlabel='Day and Hour',\n",
    "             ylabel='User Requests',\n",
    "             kind='bar'\n",
    "            )"
   ]
  },
  {
   "cell_type": "markdown",
   "id": "167985ae-a78c-4a8d-8210-e630a37e2419",
   "metadata": {},
   "source": [
    "🟣 **Peak Hours:**\n",
    "\n",
    "    ○ Peak: Between 10:00 AM and 4:00 PM (business hours, possibly shopping during breaks or lunch).\n",
    "\n",
    "    ○ Morning Subpeak: Around 8:00 AM and 9:00 AM (before the start of the workday).\n",
    "\n",
    "🟣 **Off-peak Hours:**\n",
    "\n",
    "    ○ Early Morning (12:00 AM and 6:00 AM): Minimum activity (users asleep).\n",
    "\n",
    "    ○ Evening (9:00 PM and 11:00 PM): Gradual decrease after 8:00 PM.\n",
    "\n",
    "🟣 **Order Range:**\n",
    "\n",
    "    ○ The bars show from ~0 to ~5,000 orders per hour.\n",
    "\n",
    "📄 **Interpretation:**\n",
    "\n",
    "    ○ User Behavior:\n",
    "\n",
    "        • On Wednesdays, users prefer to shop during the day, especially around midday.\n",
    "\n",
    "        • Few orders are placed at night/early morning (similar to other weekdays).\n",
    "\n",
    "    ○ Recommendations:\n",
    "\n",
    "        • Increase delivery driver availability between 10:00 AM and 4:00 PM.\n",
    "\n",
    "        • Peak Hour Promotions: Offer discounts during off-peak hours (e.g., 7:00 AM and 9:00 AM) to balance demand."
   ]
  },
  {
   "cell_type": "code",
   "execution_count": 72,
   "id": "797c90a8",
   "metadata": {
    "id": "797c90a8"
   },
   "outputs": [
    {
     "data": {
      "text/plain": [
       "order_hour_of_day\n",
       "0      459\n",
       "1      219\n",
       "2      123\n",
       "3       99\n",
       "4      118\n",
       "5      229\n",
       "6      654\n",
       "7     1933\n",
       "8     3373\n",
       "9     4794\n",
       "10    5347\n",
       "11    5325\n",
       "12    4836\n",
       "13    5108\n",
       "14    5265\n",
       "15    5352\n",
       "16    4991\n",
       "17    4169\n",
       "18    3441\n",
       "19    2597\n",
       "20    1886\n",
       "21    1368\n",
       "22    1028\n",
       "23     774\n",
       "Name: order_id, dtype: int64"
      ]
     },
     "execution_count": 72,
     "metadata": {},
     "output_type": "execute_result"
    }
   ],
   "source": [
    "saturday = df_instacart[df_instacart['order_dow'] == 5]\n",
    "sat_hor = saturday.groupby('order_hour_of_day')['order_id'].count()\n",
    "sat_hor\n",
    "# Filter for Saturdays '5'"
   ]
  },
  {
   "cell_type": "code",
   "execution_count": 73,
   "id": "35bcea30",
   "metadata": {
    "id": "35bcea30"
   },
   "outputs": [
    {
     "data": {
      "text/plain": [
       "<Axes: title={'center': 'Orders by Hour on Saturdays'}, xlabel='Day and Hour', ylabel='Total Request'>"
      ]
     },
     "execution_count": 73,
     "metadata": {},
     "output_type": "execute_result"
    },
    {
     "data": {
      "image/png": "[encoded data removed]",
      "text/plain": [
       "<Figure size 1000x500 with 1 Axes>"
      ]
     },
     "metadata": {},
     "output_type": "display_data"
    }
   ],
   "source": [
    "# Graphic of the day Saturday\n",
    "sat_hor.plot(kind='bar', \n",
    "              title='Orders by Hour on Saturdays',\n",
    "              xlabel='Day and Hour',\n",
    "              ylabel='Total Request',\n",
    "              figsize=(10, 5))"
   ]
  },
  {
   "cell_type": "markdown",
   "id": "charitable-congo",
   "metadata": {
    "id": "charitable-congo"
   },
   "source": [
    "🟣 **General Pattern Observed**\n",
    "\n",
    "The graph shows the distribution of orders over the 24 hours on Saturday, revealing:\n",
    "\n",
    "    ○ Peak Hours (Highest Demand):\n",
    "\n",
    "        • 10:00 AM - 4:00 PM: Peak activity, coinciding with usual shopping times (e.g., after breakfast or before lunch).\n",
    "\n",
    "        • Secondary Peak (8:00 AM - 9:00 AM): Morning shopping for the weekend.\n",
    "\n",
    "    ○ Off-Peak Hours (Least Demand):\n",
    "\n",
    "        • 12:00 AM - 6:00 AM: Minimum activity (early morning).\n",
    "\n",
    "        • 9:00 PM - 11:00 PM: Progressive decrease towards the evening.\n",
    "\n",
    "\n",
    "🟣 **Behavioral Interpretation**\n",
    "\n",
    "    ○ Causes of Peaks:\n",
    "\n",
    "        • Users take advantage of Saturday (a non-working day for many) to make large purchases or plan meals.\n",
    "\n",
    "        • The midday peak can be related to shopping for family gatherings or events.\n",
    "        \n",
    "    ○ Causes of Valleys:\n",
    "\n",
    "        • Early Morning: Rest hours.\n",
    "\n",
    "        • Evening: Less need for urgent purchases."
   ]
  },
  {
   "cell_type": "code",
   "execution_count": 75,
   "id": "d8c26c23",
   "metadata": {
    "id": "d8c26c23"
   },
   "outputs": [],
   "source": [
    "# What is the distribution for the number of orders per customer?\n",
    "user_ord = df_instacart.groupby(['order_number'])['order_id'].count()\n",
    "# Filtering to group the number of orders with their users"
   ]
  },
  {
   "cell_type": "code",
   "execution_count": 76,
   "id": "00e69a66",
   "metadata": {
    "id": "00e69a66"
   },
   "outputs": [
    {
     "data": {
      "image/png": "[encoded data removed]",
      "text/plain": [
       "<Figure size 1000x500 with 1 Axes>"
      ]
     },
     "metadata": {},
     "output_type": "display_data"
    }
   ],
   "source": [
    "user_ord.plot(x='order_number',\n",
    "              y='order_id',\n",
    "              title='Number of Orders per Customer',\n",
    "              xlabel='Number of Orders',\n",
    "              ylabel='Number of Orders',\n",
    "              rot=90,\n",
    "              kind='bar',\n",
    "              figsize= (10,5)\n",
    "             )\n",
    "plt.xticks(fontsize=5)\n",
    "plt.show()"
   ]
  },
  {
   "cell_type": "markdown",
   "id": "d2eff7d5",
   "metadata": {
    "id": "d2eff7d5"
   },
   "source": [
    "📌 **Typical Patterns:**\n",
    "\n",
    "    • Rapid Decay: Most customers have few orders (e.g., 1-5), and very few have many orders (e.g., >20). This is normal in e-commerce.\n",
    "\n",
    "    • Initial Peak: The highest bar is usually 1 order, indicating many customers who only purchased once.\n",
    "\n",
    "    • Long Tail: Some returning customers (e.g., >10 orders) appear on the right side of the chart.\n",
    "\n",
    "📄 **Interpretation:**\n",
    "\n",
    "    • Customer Loyalty:\n",
    "\n",
    "        ○ If the bar for one order is very high, there is a high rate of non-return customers (opportunity to improve retention).\n",
    "\n",
    "        ○ If there are few customers with many orders, they could be \"VIP customers\" (opportunity for loyalty programs).\n",
    "\n",
    "    • Possible Actions:\n",
    "\n",
    "        ○ For customers with one order: Remarketing campaigns (e.g., discounts on the second order).\n",
    "\n",
    "        ○ For returning customers: Reward programs (e.g., points for each purchase)."
   ]
  },
  {
   "cell_type": "code",
   "execution_count": 78,
   "id": "4c4d6042",
   "metadata": {},
   "outputs": [],
   "source": [
    "# What are the 20 most popular products?\n",
    "pop_products_merge = pd.merge(df_products,\n",
    "                              df_orders,\n",
    "                              how='inner',\n",
    "                              left_on='product_id',\n",
    "                              right_on='product_id'\n",
    "                             )"
   ]
  },
  {
   "cell_type": "code",
   "execution_count": 79,
   "id": "3d48e834",
   "metadata": {},
   "outputs": [
    {
     "name": "stdout",
     "output_type": "stream",
     "text": [
      "                                       product_name  product_id\n",
      "0                                 #2 coffee filters         110\n",
      "1                      #2 cone white coffee filters           2\n",
      "2                             #2 mechanical pencils           3\n",
      "3                   #4 natural brown coffee filters          39\n",
      "4            & go! hazelnut spread + pretzel sticks          15\n",
      "5     (70% juice!) mountain raspberry juice squeeze           4\n",
      "6      +energy black cherry vegetable & fruit juice           7\n",
      "7           0 calorie acai raspberry water beverage          12\n",
      "8          0 calorie fuji apple pear water beverage          24\n",
      "9   0 calorie strawberry dragonfruit water beverage          23\n",
      "10               0% fat black cherry greek yogurt y          22\n",
      "11                    0% fat blueberry greek yogurt          77\n",
      "12                         0% fat free organic milk         579\n",
      "13   0% fat greek yogurt black cherry on the bottom          19\n",
      "14                      0% fat greek yogurt vanilla          16\n",
      "15              0% fat organic greek vanilla yogurt         251\n",
      "16                        0% fat peach greek yogurt          18\n",
      "17                   0% fat strawberry greek yogurt          49\n",
      "18                  0% fat superfruits greek yogurt         107\n",
      "19                      0% fat vanilla greek yogurt          19\n"
     ]
    }
   ],
   "source": [
    "group_prod_merge = pop_products_merge.groupby(['product_name'])['product_id'].count().head(20)\n",
    "\n",
    "group_prod_merge = group_prod_merge.to_frame().reset_index()\n",
    "print(group_prod_merge)"
   ]
  },
  {
   "cell_type": "code",
   "execution_count": 80,
   "id": "8a76aac2",
   "metadata": {},
   "outputs": [
    {
     "data": {
      "image/png": "[encoded data removed]",
      "text/plain": [
       "<Figure size 1000x800 with 1 Axes>"
      ]
     },
     "metadata": {},
     "output_type": "display_data"
    }
   ],
   "source": [
    "group_prod_merge.plot(x='product_name',\n",
    "                      y='product_id',\n",
    "                      title='The 20 Most Popular Products',\n",
    "                      xlabel='Products',\n",
    "                      ylabel='Product ID',\n",
    "                      rot=90,\n",
    "                      kind='bar',\n",
    "                      figsize=(10, 8)\n",
    "                     )\n",
    "\n",
    "plt.xticks(fontsize=10)\n",
    "\n",
    "plt.tight_layout()\n",
    "\n",
    "plt.show()"
   ]
  },
  {
   "cell_type": "markdown",
   "id": "7df00f47",
   "metadata": {
    "id": "7df00f47"
   },
   "source": [
    "📌 **Key Findings:**\n",
    "\n",
    "• **Dominant Products:**\n",
    "\n",
    "    ○ Low-fat dairy products (Greek yogurts in flavors such as strawberry, vanilla, and blueberry) and coffee filters appear to be the most popular.\n",
    "\n",
    "    ○ Healthy beverages (calorie-free flavored waters and juices) are also in high demand.\n",
    "\n",
    "• **Consumption Patterns:**\n",
    "\n",
    "    ○ Customers prefer healthy options (0% fat, no calories) and basic products (coffee, dairy).\n",
    "\n",
    "    ○ Descriptive names with specific flavors (\"strawberry, dragonfruit,\" \"black cherry\") attract more attention.\n",
    "\n",
    "📄 **Commercial Interpretation:**\n",
    "\n",
    "• **Health Trends:**\n",
    "\n",
    "    ○ The popularity of Greek yogurts and zero-calorie beverages reflects a preference for nutritious, low-sugar foods.\n",
    "\n",
    "• **Marketing Opportunities:**\n",
    "\n",
    "    ○ Highlight health benefits in campaigns (e.g., \"0% fat,\" \"natural\").\n",
    "\n",
    "    ○ Combination packs (e.g., yogurt + coffee filters) to drive cross-selling.\n",
    "\n",
    "• **Inventory:**\n",
    "\n",
    "    ○ Ensure sufficient stock of key products (especially yogurts and coffee filters)."
   ]
  },
  {
   "cell_type": "code",
   "execution_count": 82,
   "id": "virtual-punch",
   "metadata": {
    "id": "virtual-punch"
   },
   "outputs": [
    {
     "data": {
      "image/png": "[encoded data removed]",
      "text/plain": [
       "<Figure size 1200x600 with 1 Axes>"
      ]
     },
     "metadata": {},
     "output_type": "display_data"
    }
   ],
   "source": [
    "# How many items do people typically buy in one order? What's the distribution like?\n",
    "num_order = df_orders.groupby(['order_id']).count()\n",
    "\n",
    "top_items = num_order[num_order['product_id'] <= 40]['product_id']\n",
    "\n",
    "plt.figure(figsize=(12, 6))\n",
    "top_items.hist(bins=40, color='skyblue', edgecolor='black')\n",
    "\n",
    "plt.title('Distribution of Items by Order (Top 40)', fontsize=14)\n",
    "plt.xlabel('Number of Items per Order', fontsize=12)\n",
    "plt.ylabel('Frequency (Number of Orders)', fontsize=12)\n",
    "plt.grid(axis='y', alpha=0.5)\n",
    "\n",
    "plt.show()"
   ]
  },
  {
   "cell_type": "markdown",
   "id": "eb86e84e-8c37-4124-b2e9-068097e01537",
   "metadata": {},
   "source": [
    "📌 **Key Findings:**\n",
    "\n",
    "🟣 **Purchasing Pattern:**\n",
    "\n",
    "    • Sharp Peak (5-15 items):\n",
    "\n",
    "        ○ Most orders are small or medium-sized, typical of daily or weekly purchases.\n",
    "\n",
    "        ○ Example: If the peak is at 10 items, it means that many customers purchase around 10 products per order.\n",
    "\n",
    "    • Long Tail (16-40 items):\n",
    "\n",
    "        ○ Decreasing frequency of larger orders (e.g., monthly purchases or special events).\n",
    "\n",
    "        ○ Orders with >30 items are infrequent (potentially wholesale customers or large families).\n",
    "\n",
    "🟣 **Implied Statistics:**\n",
    "\n",
    "    • Mean (avg): Probably between 10-20 items (depending on the peak).\n",
    "\n",
    "    • Median (median): Close to the peak value (e.g., ~12 items).\n",
    "\n",
    "    • Mode: The most frequent value (e.g., 8 items).\n",
    "\n",
    "📄 **Commercial Interpretation:**\n",
    "\n",
    "🟣 **For Small Orders (1-15 items):**\n",
    "\n",
    "    • Optimize logistics: Prioritize speed for small orders (fast deliveries).\n",
    "\n",
    "    • Upselling: Suggest complementary products (e.g., \"Did you forget the coffee for your yogurt?\").\n",
    "\n",
    "🟣 **For Large Orders (16-40 items):**\n",
    "\n",
    "    • Volume discounts: Incentivize large purchases.\n",
    "\n",
    "    • Loyalty programs: Reward repeat customers with multiple items.\n",
    "\n",
    "🟣 **Outliers (>40 items):**\n",
    "\n",
    "    • If they exist, validate whether they are errors (e.g., duplicate orders) or business customers."
   ]
  },
  {
   "cell_type": "code",
   "execution_count": 84,
   "id": "c46794fd-ea1d-4d86-b9e5-b8957f80da83",
   "metadata": {},
   "outputs": [
    {
     "name": "stdout",
     "output_type": "stream",
     "text": [
      "Mean: 9.9 items per order\n",
      "Median: 8.0 items per order\n",
      "Mode: 5 items (most frequent)\n"
     ]
    }
   ],
   "source": [
    "print(f\"Mean: {top_items.mean():.1f} items per order\")\n",
    "print(f\"Median: {top_items.median()} items per order\")\n",
    "print(f\"Mode: {top_items.mode().values[0]} items (most frequent)\")"
   ]
  },
  {
   "cell_type": "code",
   "execution_count": 85,
   "id": "81315e63",
   "metadata": {},
   "outputs": [
    {
     "data": {
      "text/plain": [
       "count    450046.000000\n",
       "mean         10.098983\n",
       "std           7.540206\n",
       "min           1.000000\n",
       "25%           5.000000\n",
       "50%           8.000000\n",
       "75%          14.000000\n",
       "max         127.000000\n",
       "Name: product_id, dtype: float64"
      ]
     },
     "execution_count": 85,
     "metadata": {},
     "output_type": "execute_result"
    }
   ],
   "source": [
    "num_order['product_id'].describe()"
   ]
  },
  {
   "cell_type": "markdown",
   "id": "designed-mortality",
   "metadata": {
    "id": "designed-mortality"
   },
   "source": [
    "• **Standard deviation (std): 7.54**\n",
    "\n",
    "    Indicates that the data are spread out around the mean. Many orders deviate ±7-8 items from the mean (e.g., from 2 to 18 items).\n",
    "\n",
    "• **Percentiles:**\n",
    "\n",
    "    ○ 25% (5 items): 25% of orders are small (≤5 items).\n",
    "\n",
    "    ○ 75% (14 items): Only 25% of orders exceed 14 items.\n",
    "\n",
    "• **Range (min=1, max=127):**\n",
    "\n",
    "    There are extreme orders (e.g., 1 item or up to 127). The latter could be errors or wholesale purchases.\n",
    "\n",
    "🟣 **Business Conclusions**\n",
    "\n",
    "• **Majority Behavior:**\n",
    "\n",
    "    ○ Most customers purchase between 5 and 14 items (interquartile range).\n",
    "\n",
    "    ○ The typical order is small (mode=5), but the mean is inflated by some large orders.\n",
    "\n",
    "• **Opportunities:**\n",
    "\n",
    "    ○ For small orders (1-5 items):\n",
    "\n",
    "        ▪️ Promote \"ideal add-ons\" to increase cart size (e.g., \"Want to add a coffee to your yogurt?\").\n",
    "\n",
    "    ○ For medium-sized orders (6-14 items):\n",
    "\n",
    "        ▪️ Offer free shipping on orders of 10 or more items to encourage larger purchases.\n",
    "\n",
    "    ○ For outliers (more than 30 items):\n",
    "\n",
    "        ▪️ Investigate whether they are returning customers (opportunity for B2B programs) or data errors."
   ]
  },
  {
   "cell_type": "code",
   "execution_count": 87,
   "id": "045c84d6",
   "metadata": {},
   "outputs": [],
   "source": [
    "# What are the top 20 most frequently reordered items?\n",
    "df_merged = pd.merge(df_products,\n",
    "                     df_orders,\n",
    "                     how='inner',\n",
    "                     left_on='product_id',\n",
    "                     right_on='product_id'\n",
    "                    )"
   ]
  },
  {
   "cell_type": "code",
   "execution_count": 88,
   "id": "9bfdbb5c",
   "metadata": {},
   "outputs": [
    {
     "data": {
      "text/html": [
       "<div>\n",
       "<style scoped>\n",
       "    .dataframe tbody tr th:only-of-type {\n",
       "        vertical-align: middle;\n",
       "    }\n",
       "\n",
       "    .dataframe tbody tr th {\n",
       "        vertical-align: top;\n",
       "    }\n",
       "\n",
       "    .dataframe thead th {\n",
       "        text-align: right;\n",
       "    }\n",
       "</style>\n",
       "<table border=\"1\" class=\"dataframe\">\n",
       "  <thead>\n",
       "    <tr style=\"text-align: right;\">\n",
       "      <th></th>\n",
       "      <th>product_id</th>\n",
       "      <th>product_name</th>\n",
       "      <th>aisle_id</th>\n",
       "      <th>department_id</th>\n",
       "    </tr>\n",
       "  </thead>\n",
       "  <tbody>\n",
       "    <tr>\n",
       "      <th>0</th>\n",
       "      <td>1</td>\n",
       "      <td>chocolate sandwich cookies</td>\n",
       "      <td>61</td>\n",
       "      <td>19</td>\n",
       "    </tr>\n",
       "    <tr>\n",
       "      <th>1</th>\n",
       "      <td>2</td>\n",
       "      <td>all-seasons salt</td>\n",
       "      <td>104</td>\n",
       "      <td>13</td>\n",
       "    </tr>\n",
       "    <tr>\n",
       "      <th>2</th>\n",
       "      <td>3</td>\n",
       "      <td>robust golden unsweetened oolong tea</td>\n",
       "      <td>94</td>\n",
       "      <td>7</td>\n",
       "    </tr>\n",
       "    <tr>\n",
       "      <th>3</th>\n",
       "      <td>4</td>\n",
       "      <td>smart ones classic favorites mini rigatoni wit...</td>\n",
       "      <td>38</td>\n",
       "      <td>1</td>\n",
       "    </tr>\n",
       "    <tr>\n",
       "      <th>4</th>\n",
       "      <td>5</td>\n",
       "      <td>green chile anytime sauce</td>\n",
       "      <td>5</td>\n",
       "      <td>13</td>\n",
       "    </tr>\n",
       "    <tr>\n",
       "      <th>...</th>\n",
       "      <td>...</td>\n",
       "      <td>...</td>\n",
       "      <td>...</td>\n",
       "      <td>...</td>\n",
       "    </tr>\n",
       "    <tr>\n",
       "      <th>49689</th>\n",
       "      <td>49690</td>\n",
       "      <td>high performance energy drink</td>\n",
       "      <td>64</td>\n",
       "      <td>7</td>\n",
       "    </tr>\n",
       "    <tr>\n",
       "      <th>49690</th>\n",
       "      <td>49691</td>\n",
       "      <td>original pancake &amp; waffle mix</td>\n",
       "      <td>130</td>\n",
       "      <td>14</td>\n",
       "    </tr>\n",
       "    <tr>\n",
       "      <th>49691</th>\n",
       "      <td>49692</td>\n",
       "      <td>organic instant oatmeal light maple brown sugar</td>\n",
       "      <td>130</td>\n",
       "      <td>14</td>\n",
       "    </tr>\n",
       "    <tr>\n",
       "      <th>49692</th>\n",
       "      <td>49693</td>\n",
       "      <td>spring water body wash</td>\n",
       "      <td>127</td>\n",
       "      <td>11</td>\n",
       "    </tr>\n",
       "    <tr>\n",
       "      <th>49693</th>\n",
       "      <td>49694</td>\n",
       "      <td>burrito- steak &amp; cheese</td>\n",
       "      <td>38</td>\n",
       "      <td>1</td>\n",
       "    </tr>\n",
       "  </tbody>\n",
       "</table>\n",
       "<p>49694 rows × 4 columns</p>\n",
       "</div>"
      ],
      "text/plain": [
       "       product_id                                       product_name  \\\n",
       "0               1                         chocolate sandwich cookies   \n",
       "1               2                                   all-seasons salt   \n",
       "2               3               robust golden unsweetened oolong tea   \n",
       "3               4  smart ones classic favorites mini rigatoni wit...   \n",
       "4               5                          green chile anytime sauce   \n",
       "...           ...                                                ...   \n",
       "49689       49690                      high performance energy drink   \n",
       "49690       49691                      original pancake & waffle mix   \n",
       "49691       49692    organic instant oatmeal light maple brown sugar   \n",
       "49692       49693                             spring water body wash   \n",
       "49693       49694                            burrito- steak & cheese   \n",
       "\n",
       "       aisle_id  department_id  \n",
       "0            61             19  \n",
       "1           104             13  \n",
       "2            94              7  \n",
       "3            38              1  \n",
       "4             5             13  \n",
       "...         ...            ...  \n",
       "49689        64              7  \n",
       "49690       130             14  \n",
       "49691       130             14  \n",
       "49692       127             11  \n",
       "49693        38              1  \n",
       "\n",
       "[49694 rows x 4 columns]"
      ]
     },
     "execution_count": 88,
     "metadata": {},
     "output_type": "execute_result"
    }
   ],
   "source": [
    "df_products\n"
   ]
  },
  {
   "cell_type": "code",
   "execution_count": 89,
   "id": "9ca71fb5",
   "metadata": {},
   "outputs": [
    {
     "data": {
      "text/html": [
       "<div>\n",
       "<style scoped>\n",
       "    .dataframe tbody tr th:only-of-type {\n",
       "        vertical-align: middle;\n",
       "    }\n",
       "\n",
       "    .dataframe tbody tr th {\n",
       "        vertical-align: top;\n",
       "    }\n",
       "\n",
       "    .dataframe thead th {\n",
       "        text-align: right;\n",
       "    }\n",
       "</style>\n",
       "<table border=\"1\" class=\"dataframe\">\n",
       "  <thead>\n",
       "    <tr style=\"text-align: right;\">\n",
       "      <th></th>\n",
       "      <th>order_id</th>\n",
       "      <th>product_id</th>\n",
       "      <th>add_to_cart_order</th>\n",
       "      <th>reordered</th>\n",
       "    </tr>\n",
       "  </thead>\n",
       "  <tbody>\n",
       "    <tr>\n",
       "      <th>0</th>\n",
       "      <td>2141543</td>\n",
       "      <td>11440</td>\n",
       "      <td>17.0</td>\n",
       "      <td>0</td>\n",
       "    </tr>\n",
       "    <tr>\n",
       "      <th>1</th>\n",
       "      <td>567889</td>\n",
       "      <td>1560</td>\n",
       "      <td>1.0</td>\n",
       "      <td>1</td>\n",
       "    </tr>\n",
       "    <tr>\n",
       "      <th>2</th>\n",
       "      <td>2261212</td>\n",
       "      <td>26683</td>\n",
       "      <td>1.0</td>\n",
       "      <td>1</td>\n",
       "    </tr>\n",
       "    <tr>\n",
       "      <th>3</th>\n",
       "      <td>491251</td>\n",
       "      <td>8670</td>\n",
       "      <td>35.0</td>\n",
       "      <td>1</td>\n",
       "    </tr>\n",
       "    <tr>\n",
       "      <th>4</th>\n",
       "      <td>2571142</td>\n",
       "      <td>1940</td>\n",
       "      <td>5.0</td>\n",
       "      <td>1</td>\n",
       "    </tr>\n",
       "    <tr>\n",
       "      <th>...</th>\n",
       "      <td>...</td>\n",
       "      <td>...</td>\n",
       "      <td>...</td>\n",
       "      <td>...</td>\n",
       "    </tr>\n",
       "    <tr>\n",
       "      <th>4545002</th>\n",
       "      <td>577211</td>\n",
       "      <td>15290</td>\n",
       "      <td>12.0</td>\n",
       "      <td>1</td>\n",
       "    </tr>\n",
       "    <tr>\n",
       "      <th>4545003</th>\n",
       "      <td>1219554</td>\n",
       "      <td>21914</td>\n",
       "      <td>9.0</td>\n",
       "      <td>0</td>\n",
       "    </tr>\n",
       "    <tr>\n",
       "      <th>4545004</th>\n",
       "      <td>692640</td>\n",
       "      <td>47766</td>\n",
       "      <td>4.0</td>\n",
       "      <td>1</td>\n",
       "    </tr>\n",
       "    <tr>\n",
       "      <th>4545005</th>\n",
       "      <td>319435</td>\n",
       "      <td>691</td>\n",
       "      <td>8.0</td>\n",
       "      <td>1</td>\n",
       "    </tr>\n",
       "    <tr>\n",
       "      <th>4545006</th>\n",
       "      <td>1398151</td>\n",
       "      <td>28733</td>\n",
       "      <td>9.0</td>\n",
       "      <td>0</td>\n",
       "    </tr>\n",
       "  </tbody>\n",
       "</table>\n",
       "<p>4545007 rows × 4 columns</p>\n",
       "</div>"
      ],
      "text/plain": [
       "         order_id  product_id  add_to_cart_order  reordered\n",
       "0         2141543       11440               17.0          0\n",
       "1          567889        1560                1.0          1\n",
       "2         2261212       26683                1.0          1\n",
       "3          491251        8670               35.0          1\n",
       "4         2571142        1940                5.0          1\n",
       "...           ...         ...                ...        ...\n",
       "4545002    577211       15290               12.0          1\n",
       "4545003   1219554       21914                9.0          0\n",
       "4545004    692640       47766                4.0          1\n",
       "4545005    319435         691                8.0          1\n",
       "4545006   1398151       28733                9.0          0\n",
       "\n",
       "[4545007 rows x 4 columns]"
      ]
     },
     "execution_count": 89,
     "metadata": {},
     "output_type": "execute_result"
    }
   ],
   "source": [
    "df_orders"
   ]
  },
  {
   "cell_type": "code",
   "execution_count": 90,
   "id": "9374e55a",
   "metadata": {
    "id": "9374e55a"
   },
   "outputs": [
    {
     "name": "stdout",
     "output_type": "stream",
     "text": [
      "         product_id                product_name  aisle_id  department_id  \\\n",
      "0                 1  chocolate sandwich cookies        61             19   \n",
      "1                 1  chocolate sandwich cookies        61             19   \n",
      "2                 1  chocolate sandwich cookies        61             19   \n",
      "3                 1  chocolate sandwich cookies        61             19   \n",
      "4                 1  chocolate sandwich cookies        61             19   \n",
      "...             ...                         ...       ...            ...   \n",
      "4545002       49694     burrito- steak & cheese        38              1   \n",
      "4545003       49694     burrito- steak & cheese        38              1   \n",
      "4545004       49694     burrito- steak & cheese        38              1   \n",
      "4545005       49694     burrito- steak & cheese        38              1   \n",
      "4545006       49694     burrito- steak & cheese        38              1   \n",
      "\n",
      "         order_id  add_to_cart_order  reordered  \n",
      "0         1104373               11.0          1  \n",
      "1         1774977                4.0          1  \n",
      "2          652770               10.0          0  \n",
      "3         1000035                6.0          1  \n",
      "4         1679949                9.0          0  \n",
      "...           ...                ...        ...  \n",
      "4545002   3034802               10.0          0  \n",
      "4545003   3175081                3.0          0  \n",
      "4545004    694132                2.0          0  \n",
      "4545005   2843165                5.0          0  \n",
      "4545006   2077154               12.0          0  \n",
      "\n",
      "[4545007 rows x 7 columns]\n"
     ]
    }
   ],
   "source": [
    "print(df_merged)"
   ]
  },
  {
   "cell_type": "code",
   "execution_count": 91,
   "id": "possible-change",
   "metadata": {
    "id": "possible-change"
   },
   "outputs": [],
   "source": [
    "popular_prod = df_merged.groupby('product_name').count()\n",
    "df_popular_prod_value = popular_prod.sort_values(by='product_id', ascending=False)['add_to_cart_order'].head(20)"
   ]
  },
  {
   "cell_type": "code",
   "execution_count": 92,
   "id": "c92530b7",
   "metadata": {},
   "outputs": [
    {
     "data": {
      "text/plain": [
       "product_name\n",
       "banana                      66046\n",
       "bag of organic bananas      53295\n",
       "organic strawberries        37035\n",
       "organic baby spinach        33970\n",
       "organic hass avocado        29772\n",
       "organic avocado             24689\n",
       "large lemon                 21495\n",
       "strawberries                20017\n",
       "limes                       19689\n",
       "organic whole milk          19600\n",
       "organic raspberries         19194\n",
       "organic yellow onion        15897\n",
       "organic garlic              15290\n",
       "organic zucchini            14584\n",
       "organic blueberries         13879\n",
       "cucumber kirby              13674\n",
       "organic fuji apple          12544\n",
       "organic lemon               12231\n",
       "apple honeycrisp organic    11992\n",
       "organic grape tomatoes      11781\n",
       "Name: add_to_cart_order, dtype: int64"
      ]
     },
     "execution_count": 92,
     "metadata": {},
     "output_type": "execute_result"
    }
   ],
   "source": [
    "df_popular_prod_value"
   ]
  },
  {
   "cell_type": "code",
   "execution_count": 93,
   "id": "90876e6d",
   "metadata": {},
   "outputs": [
    {
     "data": {
      "image/png": "[encoded data removed]",
      "text/plain": [
       "<Figure size 1000x500 with 1 Axes>"
      ]
     },
     "metadata": {},
     "output_type": "display_data"
    }
   ],
   "source": [
    "df_popular_prod_value.plot(x='product_id',\n",
    "                  y='add_to_cart_order',\n",
    "                  title='Top 20 Most Frequently Reordered Items',\n",
    "                  xlabel='Product ID',\n",
    "                  ylabel='Quantity Ordered',\n",
    "                  rot=90,\n",
    "                  kind='bar',\n",
    "                  figsize= (10,5)\n",
    "                 )\n",
    "plt.xticks(fontsize=10)\n",
    "plt.show()"
   ]
  },
  {
   "cell_type": "markdown",
   "id": "80e70c74",
   "metadata": {
    "id": "80e70c74"
   },
   "source": [
    "📌 **Key Findings:**\n",
    "\n",
    "🟣 **Most Reordered Products (Dominant):**\n",
    "\n",
    "    • Organic Fruits:\n",
    "\n",
    "        ○ Banana and Organic Bananas lead the ranking (possibly because they are everyday staples).\n",
    "\n",
    "        ○ Organic Strawberries, Organic Raspberries, and Organic Blueberries also stand out (high demand for seasonal fruits).\n",
    "\n",
    "    • Vegetables and Dairy:\n",
    "\n",
    "        ○ Organic Baby Spinach, Organic Hass Avocado, and Organic Whole Milk reflect a preference for fresh and healthy foods.\n",
    "\n",
    "🟣 **Consumption Patterns:**\n",
    "\n",
    "    • Organic = Priority: 15/20 products are organic, indicating a clear preference for pesticide-free foods.\n",
    "\n",
    "    • Fruits > Vegetables: Fruits have higher reorder volumes than vegetables (e.g., strawberries vs. organic zucchini).\n",
    "\n",
    "🟣 **Popularity Scale:**\n",
    "\n",
    "The most reordered product (banana) has a significantly higher volume than the last one in the top 20 (organic grape tomatoes), suggesting a large gap in demand.\n",
    "\n",
    "📄 **Commercial Interpretation:**\n",
    "\n",
    "🟣 **Purchasing Trends:**\n",
    "\n",
    "    • Health and Convenience: Customers prefer organic, ready-to-eat products (e.g., washed fruit, ready-to-drink milk).\n",
    "\n",
    "    • Recurring Staples: Products like bananas and milk are frequently purchased (ideal for subscription programs).\n",
    "\n",
    "🟣 **Marketing Opportunities:**\n",
    "\n",
    "    • \"Recurring\" Bundles:\n",
    "\n",
    "        Create bundles with top products (e.g., \"Healthy Breakfast Pack\": bananas + milk + berries).\n",
    "\n",
    "    • Loyalty Programs:\n",
    "\n",
    "        Automatic reorder discounts for the 5 most popular products.\n",
    "\n",
    "    • Inventory and Supply:\n",
    "\n",
    "        Ensure permanent stock of leading products (avoid stockouts of organic bananas or strawberries)."
   ]
  },
  {
   "cell_type": "code",
   "execution_count": 182,
   "id": "8ae9f4b1",
   "metadata": {
    "id": "8ae9f4b1"
   },
   "outputs": [],
   "source": [
    "# For each product, what is the proportion of times it is ordered and what is the proportion of times it is reordered?\n",
    "# df_orders, 'product_id'=Product ID, 'reordered'=0 if a customer has never ordered a product and 1 if they have ordered it\n",
    "\n",
    "proporcion_prod = df_merged.groupby('product_name')['reordered'].mean()"
   ]
  },
  {
   "cell_type": "code",
   "execution_count": 184,
   "id": "985af73f",
   "metadata": {},
   "outputs": [
    {
     "data": {
      "text/plain": [
       "product_name\n",
       "#2 coffee filters                                    0.254545\n",
       "#2 cone white coffee filters                         0.000000\n",
       "#2 mechanical pencils                                0.000000\n",
       "#4 natural brown coffee filters                      0.358974\n",
       "& go! hazelnut spread + pretzel sticks               0.466667\n",
       "                                                       ...   \n",
       "zzzquil alcohol-free nighttime liquid sleep aid      0.200000\n",
       "zzzquil liquid warming berry flavor sleep-aid        0.285714\n",
       "zzzquil nighttime liquid sleep-aid twin pack         0.636364\n",
       "zzzquil nighttime sleep-aid liquicaps                0.454545\n",
       "zzzquil vanilla cherry nighttime liquid sleep aid    1.000000\n",
       "Name: reordered, Length: 44517, dtype: float64"
      ]
     },
     "execution_count": 184,
     "metadata": {},
     "output_type": "execute_result"
    }
   ],
   "source": [
    "proporcion_prod"
   ]
  },
  {
   "cell_type": "code",
   "execution_count": 186,
   "id": "103e7fe1",
   "metadata": {
    "id": "103e7fe1"
   },
   "outputs": [
    {
     "name": "stdout",
     "output_type": "stream",
     "text": [
      "product_name\n",
      "zzzquil vanilla cherry nighttime liquid sleep aid                                1.0\n",
      "anti-breakage with vitamin e strengthening shampoo                               1.0\n",
      "vareniki w/ potato and onion                                                     1.0\n",
      "vanishing acne treatment cream                                                   1.0\n",
      "garlic olives                                                                    1.0\n",
      "                                                                                ... \n",
      "complete nutrition on-the-go milk-based singles powder packets infant formula    0.0\n",
      "instant espresso sticks                                                          0.0\n",
      "shredded chicken & chicken liver recipe                                          0.0\n",
      "shredded chicken street taco + ancho aioli                                       0.0\n",
      "kale pesto with white cheddar pasta sauce                                        0.0\n",
      "Name: reordered, Length: 44517, dtype: float64\n"
     ]
    }
   ],
   "source": [
    "print(proporcion_prod.sort_values(ascending=False))"
   ]
  },
  {
   "cell_type": "markdown",
   "id": "54003aa8-c961-46a4-a1af-c768dea410d2",
   "metadata": {},
   "source": [
    "The results show the proportion of times a product is reordered (purchased again by the same customers) in relation to the total number of times it was ordered."
   ]
  },
  {
   "cell_type": "markdown",
   "id": "I10dEIAyldcO",
   "metadata": {
    "id": "I10dEIAyldcO"
   },
   "source": [
    "📌 **Key Findings:**\n",
    "\n",
    "• **Products with high repurchase (reordered = 1.0):**\n",
    "\n",
    "    Example:\n",
    "\n",
    "    ○ zzzquil vanilla cherry nighttime liquid sleep aid (100% reordered).\n",
    "\n",
    "    ○ garlic olives (100% reordered).\n",
    "\n",
    "    Interpretation:\n",
    "\n",
    "    ○ These are products with high loyalty (customers consistently return them).\n",
    "\n",
    "    ○ They are likely staples for quick consumption (medications, perishable foods) or of high perceived quality.\n",
    "\n",
    "• **Products with low repurchase (reordered = 0.0):**\n",
    "\n",
    "    Example:\n",
    "\n",
    "    ○ kale pesto with white cheddar pasta sauce (0% reordered).\n",
    "\n",
    "    ○ instant espresso sticks (0% reordered).\n",
    "\n",
    "    Interpretation:\n",
    "\n",
    "    ○ These may be niche products, occasionally purchased, or with low satisfaction.\n",
    "\n",
    "    ○ They could also be new items that don't yet have sufficient data.\n",
    "\n",
    "• **Products with medium repurchase:**\n",
    "\n",
    "    Example:\n",
    "\n",
    "    ○ & go! Hazelnut spread + pretzel sticks (~46.7% reordered).\n",
    "\n",
    "    ○ #4 natural brown coffee filters (~35.9% reordered).\n",
    "\n",
    "    Interpretation:\n",
    "\n",
    "    ○ Products with moderate demand (not essential, but with a recurring audience).\n",
    "\n",
    "    ○ Could improve with promotions or quality adjustments."
   ]
  },
  {
   "cell_type": "code",
   "execution_count": 198,
   "id": "8892e4b4",
   "metadata": {
    "id": "8892e4b4"
   },
   "outputs": [],
   "source": [
    "# For each customer, what proportion of your products had they already ordered?\n",
    "df_client_merged = pd.merge(df_instacart,\n",
    "                            df_orders,\n",
    "                            how='inner',\n",
    "                            left_on='order_id',\n",
    "                            right_on='order_id'\n",
    "                           )"
   ]
  },
  {
   "cell_type": "code",
   "execution_count": 200,
   "id": "4fc89a2f",
   "metadata": {},
   "outputs": [
    {
     "data": {
      "text/plain": [
       "user_id\n",
       "2         0.038462\n",
       "4         0.000000\n",
       "5         0.666667\n",
       "6         0.000000\n",
       "7         0.928571\n",
       "            ...   \n",
       "206203    0.222222\n",
       "206206    0.714286\n",
       "206207    0.891304\n",
       "206208    0.696000\n",
       "206209    0.320000\n",
       "Name: reordered, Length: 149626, dtype: float64"
      ]
     },
     "execution_count": 200,
     "metadata": {},
     "output_type": "execute_result"
    }
   ],
   "source": [
    "# 'order_number'=number of times the customer has made this order, 'user_id'=ID of each customer\n",
    "proporcion_cliente = df_client_merged.groupby('user_id')['reordered'].mean()\n",
    "proporcion_cliente"
   ]
  },
  {
   "cell_type": "code",
   "execution_count": 202,
   "id": "e41c36b9",
   "metadata": {},
   "outputs": [
    {
     "name": "stdout",
     "output_type": "stream",
     "text": [
      "user_id\n",
      "96430     1.0\n",
      "69003     1.0\n",
      "199910    1.0\n",
      "203290    1.0\n",
      "140076    1.0\n",
      "         ... \n",
      "190953    0.0\n",
      "119371    0.0\n",
      "63173     0.0\n",
      "63163     0.0\n",
      "165726    0.0\n",
      "Name: reordered, Length: 149626, dtype: float64\n"
     ]
    }
   ],
   "source": [
    "print(proporcion_cliente.sort_values(ascending=False))"
   ]
  },
  {
   "cell_type": "markdown",
   "id": "bb50813e-ecde-4776-8763-4c606883d660",
   "metadata": {},
   "source": [
    "This analysis shows what percentage of products in each customer order are reordered (i.e., products the customer has previously purchased). This helps us understand customer purchasing habits and loyalty."
   ]
  },
  {
   "cell_type": "markdown",
   "id": "BgJSvXDsleXz",
   "metadata": {
    "id": "BgJSvXDsleXz"
   },
   "source": [
    "📌 **Key Findings:**\n",
    "\n",
    "• **Customers with a High Reorder Rate (reordered ≈ 1.0):**\n",
    "\n",
    "    Example:\n",
    "\n",
    "    ○ user_id 96430, 69003, 199910 (100% reorder rate).\n",
    "\n",
    "    Interpretation:\n",
    "\n",
    "    ○ These are customers who almost always repeat the same products.\n",
    "\n",
    "    ○ They may purchase essential items (e.g., basic groceries, medications) or are very loyal to certain brands.\n",
    "\n",
    "    ○ Ideal for loyalty strategies (subscription programs, repurchase discounts).\n",
    "\n",
    "• **Customers with a Low Reorder Rate (reordered ≈ 0.0):**\n",
    "\n",
    "    Example:\n",
    "\n",
    "    ○ user_id 190953, 119371, 63173 (0% reorder rate).\n",
    "\n",
    "    Interpretation:\n",
    "\n",
    "    ○ Customers who try new products with each order or find no value in repeating.\n",
    "\n",
    "    ○ They could be occasional buyers or dissatisfied with the current offering.\n",
    "\n",
    "    ○ Action: Investigate if there are quality, price, or experience issues.\n",
    "\n",
    "• **Intermediate Rate Customers (e.g., 0.2–0.8):**\n",
    "\n",
    "    Example:\n",
    "\n",
    "    ○ user_id 206203 (22.2%), 206209 (32%).\n",
    "\n",
    "    Interpretation:\n",
    "\n",
    "    ○ They mix new products with some returning ones.\n",
    "\n",
    "    ○ Opportunity to recommend products similar to those they already reorder."
   ]
  },
  {
   "cell_type": "code",
   "execution_count": 207,
   "id": "0ae57274",
   "metadata": {
    "id": "0ae57274",
    "scrolled": true
   },
   "outputs": [],
   "source": [
    "# What are the top 20 items people put first in their carts?\n",
    "\n",
    "top_items = df_merged[df_merged['add_to_cart_order']==1]['product_name'].value_counts().head(20)"
   ]
  },
  {
   "cell_type": "code",
   "execution_count": 209,
   "id": "08e41ec2",
   "metadata": {
    "id": "08e41ec2"
   },
   "outputs": [
    {
     "name": "stdout",
     "output_type": "stream",
     "text": [
      "product_name\n",
      "banana                         15562\n",
      "bag of organic bananas         11026\n",
      "organic whole milk              4363\n",
      "organic strawberries            3946\n",
      "organic hass avocado            3390\n",
      "organic baby spinach            3336\n",
      "organic avocado                 3044\n",
      "spring water                    2336\n",
      "strawberries                    2308\n",
      "organic raspberries             2024\n",
      "sparkling water grapefruit      1914\n",
      "organic half & half             1797\n",
      "large lemon                     1737\n",
      "soda                            1733\n",
      "organic reduced fat milk        1397\n",
      "limes                           1370\n",
      "hass avocados                   1340\n",
      "organic reduced fat 2% milk     1310\n",
      "half & half                     1309\n",
      "organic yellow onion            1246\n",
      "Name: count, dtype: int64\n"
     ]
    }
   ],
   "source": [
    "print(top_items)"
   ]
  },
  {
   "cell_type": "code",
   "execution_count": 216,
   "id": "773d503a",
   "metadata": {},
   "outputs": [
    {
     "data": {
      "image/png": "[encoded data removed]",
      "text/plain": [
       "<Figure size 1000x500 with 1 Axes>"
      ]
     },
     "metadata": {},
     "output_type": "display_data"
    }
   ],
   "source": [
    "top_items.plot(x='product_name',\n",
    "              y='add_to_cart_order',\n",
    "              title='Top 20 Items People Put First in Their Carts',\n",
    "              xlabel='Products',\n",
    "              ylabel='Order in which people put first in their Carts',\n",
    "              rot=90,\n",
    "              kind='bar',\n",
    "              figsize= (10,5)\n",
    "             )\n",
    "plt.xticks(fontsize=10)\n",
    "plt.show()"
   ]
  },
  {
   "cell_type": "markdown",
   "id": "28ce9872",
   "metadata": {
    "id": "28ce9872"
   },
   "source": [
    "This bar chart shows the products customers tend to add to the top of their shopping cart (lowest order in add_to_cart_order). This reveals consumer purchasing habits and priorities.\n",
    "\n",
    "📌 **Key Findings:**\n",
    "\n",
    "• **Most frequently added to the top of the cart:**\n",
    "\n",
    "    ○ Banana (top position).\n",
    "\n",
    "    ○ Organic whole milk.\n",
    "\n",
    "    ○ Organic strawberries.\n",
    "\n",
    "    ○ Organic Hass avocado.\n",
    "\n",
    "• **Observed patterns:**\n",
    "\n",
    "    ○ Fresh staples: Fruits (banana, strawberries, avocado), dairy (milk, half & half), and vegetables (spinach, onion) dominate the list.\n",
    "\n",
    "    ○ Organic products: 8 of the 15 items are organic, suggesting a preference for healthy/natural products.\n",
    "\n",
    "    ○ Beverages: Spring water and sparkling water are also prioritized.\n",
    "\n",
    "🔍 **Psychological/Behavioral Interpretation:**\n",
    "\n",
    "    • Focus on essentials: Customers begin their shopping with basic, perishable, or high-needs products (e.g., milk, fruit), leaving non-essentials for later.\n",
    "\n",
    "    • Health and Convenience: The high presence of organic products reflects a trend toward healthy choices.\n",
    "\n",
    "    • Shopping list habits: Many shoppers follow a mental order (e.g., fresh first, then canned).\n",
    "\n",
    "📊 **Actionable Insights:**\n",
    "\n",
    "• **Physical store placement:**\n",
    "\n",
    "    ○ Place these products at the back of the store to increase exposure to other items (\"must-visit\" strategy).\n",
    "\n",
    "• **Digital Marketing:**\n",
    "\n",
    "    ○ Highlight them on the front page of the e-commerce site or with \"frequently purchased\" banners.\n",
    "\n",
    "    ○ Promotional bundles (e.g., \"Healthy Breakfast Kit\" with banana + milk + strawberries).\n",
    "\n",
    "• **Inventory Management:**\n",
    "\n",
    "    ○ Ensure sufficient stock of these products, especially during peak times (mornings/weekends).\n",
    "\n",
    "• **Cross-recommendations:**\n",
    "\n",
    "    ○ If a customer adds banana first, suggest additional options (e.g., cereal or honey)."
   ]
  },
  {
   "cell_type": "markdown",
   "id": "uITbFCEoDosC",
   "metadata": {
    "id": "uITbFCEoDosC"
   },
   "source": [
    "# General conclusion of the project:"
   ]
  },
  {
   "cell_type": "markdown",
   "id": "08574a10",
   "metadata": {
    "id": "Nk-4GS7mDwqY"
   },
   "source": [
    "People tend to buy more frequently, products with short shelf lives, such as:\n",
    "\n",
    "🍌 **Fruits**\n",
    "🥬 **Vegetables**\n",
    "\n",
    "Since these are items consumed daily, and due to their short shelf life, they need to be consumed within a maximum of one week of purchase, they are therefore added first to customers' carts.\n",
    "\n",
    "🥫 Products with expiration dates (and therefore a longer shelf life) are products that customers can see being purchased once or twice a month, since if they make a purchase, they are unlikely to finish the product in less than one week, as there is no concern that the product will expire.\n",
    "\n",
    "🧼 On the other hand, personal hygiene products are not food products, so their shelf life is much longer than any other product, so they are purchased less frequently.\n",
    "\n",
    "Therefore, the products that should be stocked in the store are fresh ones, such as fruits and vegetables, as they generate the most profit and the most traffic in the store. Therefore, proper care must be taken to maintain or improve their quality and preservation."
   ]
  },
  {
   "cell_type": "code",
   "execution_count": null,
   "id": "fbae3b38",
   "metadata": {},
   "outputs": [],
   "source": []
  }
 ],
 "metadata": {
  "ExecuteTimeLog": [
   {
    "duration": 331,
    "start_time": "2024-09-23T22:35:45.340Z"
   },
   {
    "duration": 1851,
    "start_time": "2024-09-23T22:35:47.266Z"
   },
   {
    "duration": 316,
    "start_time": "2024-09-23T22:35:49.254Z"
   },
   {
    "duration": 74,
    "start_time": "2024-09-23T22:35:51.274Z"
   },
   {
    "duration": 8,
    "start_time": "2024-09-23T22:35:53.404Z"
   },
   {
    "duration": 8,
    "start_time": "2024-09-23T22:35:55.487Z"
   },
   {
    "duration": 2288,
    "start_time": "2024-09-23T22:35:56.235Z"
   },
   {
    "duration": 266,
    "start_time": "2024-09-23T22:39:35.264Z"
   },
   {
    "duration": 36,
    "start_time": "2024-09-23T22:39:37.975Z"
   },
   {
    "duration": 12,
    "start_time": "2024-09-23T22:39:40.087Z"
   },
   {
    "duration": 13,
    "start_time": "2024-09-23T22:39:41.558Z"
   },
   {
    "duration": 1934,
    "start_time": "2024-09-23T22:39:43.270Z"
   },
   {
    "duration": 276,
    "start_time": "2024-09-23T22:41:48.610Z"
   },
   {
    "duration": 38,
    "start_time": "2024-09-23T22:42:41.037Z"
   },
   {
    "duration": 9,
    "start_time": "2024-09-23T22:42:43.711Z"
   },
   {
    "duration": 10,
    "start_time": "2024-09-23T22:42:45.050Z"
   },
   {
    "duration": 2224,
    "start_time": "2024-09-23T22:42:46.192Z"
   },
   {
    "duration": 130,
    "start_time": "2024-09-23T22:50:05.558Z"
   },
   {
    "duration": 48,
    "start_time": "2024-09-23T22:50:40.489Z"
   },
   {
    "duration": 11,
    "start_time": "2024-09-23T22:50:42.366Z"
   },
   {
    "duration": 10,
    "start_time": "2024-09-23T22:50:44.388Z"
   },
   {
    "duration": 1948,
    "start_time": "2024-09-23T22:51:28.236Z"
   },
   {
    "duration": 2076,
    "start_time": "2024-09-23T22:51:43.601Z"
   },
   {
    "duration": 768,
    "start_time": "2024-09-23T22:52:24.250Z"
   },
   {
    "duration": 609,
    "start_time": "2024-09-23T23:47:20.336Z"
   },
   {
    "duration": 7,
    "start_time": "2024-09-24T00:16:09.368Z"
   },
   {
    "duration": 40,
    "start_time": "2024-09-24T00:16:52.489Z"
   },
   {
    "duration": 5,
    "start_time": "2024-09-24T00:18:01.639Z"
   },
   {
    "duration": 5,
    "start_time": "2024-09-24T00:19:16.000Z"
   },
   {
    "duration": 14,
    "start_time": "2024-09-24T00:19:22.479Z"
   },
   {
    "duration": 6,
    "start_time": "2024-09-24T00:19:31.022Z"
   },
   {
    "duration": 15,
    "start_time": "2024-09-24T00:21:03.875Z"
   },
   {
    "duration": 5,
    "start_time": "2024-09-24T00:21:16.798Z"
   },
   {
    "duration": 6,
    "start_time": "2024-09-24T00:21:33.193Z"
   },
   {
    "duration": 14,
    "start_time": "2024-09-24T00:24:32.438Z"
   },
   {
    "duration": 5,
    "start_time": "2024-09-24T00:25:18.002Z"
   },
   {
    "duration": 270,
    "start_time": "2024-09-24T00:27:18.520Z"
   },
   {
    "duration": 92,
    "start_time": "2024-09-24T00:35:04.483Z"
   },
   {
    "duration": 88,
    "start_time": "2024-09-24T00:35:20.585Z"
   },
   {
    "duration": 86,
    "start_time": "2024-09-24T00:36:20.964Z"
   },
   {
    "duration": 11,
    "start_time": "2024-09-24T00:38:53.665Z"
   },
   {
    "duration": 4,
    "start_time": "2024-09-24T00:38:54.813Z"
   },
   {
    "duration": 5,
    "start_time": "2024-09-24T00:38:55.532Z"
   },
   {
    "duration": 807,
    "start_time": "2024-09-24T00:38:56.179Z"
   },
   {
    "duration": 104,
    "start_time": "2024-09-24T00:43:43.304Z"
   },
   {
    "duration": 186,
    "start_time": "2024-09-24T00:43:52.418Z"
   },
   {
    "duration": 109,
    "start_time": "2024-09-24T00:44:02.366Z"
   },
   {
    "duration": 120,
    "start_time": "2024-09-24T00:44:13.773Z"
   },
   {
    "duration": 100,
    "start_time": "2024-09-24T00:45:24.136Z"
   },
   {
    "duration": 205,
    "start_time": "2024-09-24T00:45:55.050Z"
   },
   {
    "duration": 114,
    "start_time": "2024-09-24T00:46:21.620Z"
   },
   {
    "duration": 94,
    "start_time": "2024-09-24T00:48:33.871Z"
   },
   {
    "duration": 169,
    "start_time": "2024-09-24T00:49:38.784Z"
   },
   {
    "duration": 102,
    "start_time": "2024-09-24T00:51:38.812Z"
   },
   {
    "duration": 184,
    "start_time": "2024-09-24T00:51:58.406Z"
   },
   {
    "duration": 107,
    "start_time": "2024-09-24T00:53:31.879Z"
   },
   {
    "duration": 160,
    "start_time": "2024-09-24T00:53:44.681Z"
   },
   {
    "duration": 108,
    "start_time": "2024-09-24T00:54:25.096Z"
   },
   {
    "duration": 166,
    "start_time": "2024-09-24T00:54:39.995Z"
   },
   {
    "duration": 171,
    "start_time": "2024-09-24T00:56:15.388Z"
   },
   {
    "duration": 158,
    "start_time": "2024-09-24T18:30:38.507Z"
   },
   {
    "duration": 5,
    "start_time": "2024-09-24T18:31:07.009Z"
   },
   {
    "duration": 3,
    "start_time": "2024-09-24T18:38:19.575Z"
   },
   {
    "duration": 311,
    "start_time": "2024-09-24T18:38:50.646Z"
   },
   {
    "duration": 1835,
    "start_time": "2024-09-24T18:38:52.278Z"
   },
   {
    "duration": 166,
    "start_time": "2024-09-24T18:38:54.807Z"
   },
   {
    "duration": 65,
    "start_time": "2024-09-24T18:38:56.738Z"
   },
   {
    "duration": 11,
    "start_time": "2024-09-24T18:38:57.942Z"
   },
   {
    "duration": 11,
    "start_time": "2024-09-24T18:38:59.686Z"
   },
   {
    "duration": 823,
    "start_time": "2024-09-24T18:39:01.032Z"
   },
   {
    "duration": 195,
    "start_time": "2024-09-24T18:39:07.885Z"
   },
   {
    "duration": 13,
    "start_time": "2024-09-24T18:39:12.661Z"
   },
   {
    "duration": 4,
    "start_time": "2024-09-24T18:39:13.610Z"
   },
   {
    "duration": 4,
    "start_time": "2024-09-24T18:39:14.436Z"
   },
   {
    "duration": 826,
    "start_time": "2024-09-24T18:39:15.249Z"
   },
   {
    "duration": 4,
    "start_time": "2024-09-24T18:39:18.413Z"
   },
   {
    "duration": 4,
    "start_time": "2024-09-24T18:39:32.094Z"
   },
   {
    "duration": 24,
    "start_time": "2024-09-24T18:42:23.476Z"
   },
   {
    "duration": 44,
    "start_time": "2024-09-24T18:43:31.083Z"
   },
   {
    "duration": 4,
    "start_time": "2024-09-24T18:51:14.309Z"
   },
   {
    "duration": 3,
    "start_time": "2024-09-24T18:51:19.076Z"
   },
   {
    "duration": 7,
    "start_time": "2024-09-24T18:51:52.475Z"
   },
   {
    "duration": 6,
    "start_time": "2024-09-24T18:52:51.041Z"
   },
   {
    "duration": 93,
    "start_time": "2024-09-24T18:52:52.949Z"
   },
   {
    "duration": 7,
    "start_time": "2024-09-24T18:53:15.607Z"
   },
   {
    "duration": 85,
    "start_time": "2024-09-24T18:53:18.226Z"
   },
   {
    "duration": 46,
    "start_time": "2024-09-24T18:54:10.568Z"
   },
   {
    "duration": 10,
    "start_time": "2024-09-24T18:54:18.496Z"
   },
   {
    "duration": 65,
    "start_time": "2024-09-24T18:54:19.409Z"
   },
   {
    "duration": 13,
    "start_time": "2024-09-24T18:59:05.847Z"
   },
   {
    "duration": 22,
    "start_time": "2024-09-24T18:59:21.360Z"
   },
   {
    "duration": 21,
    "start_time": "2024-09-24T19:00:17.007Z"
   },
   {
    "duration": 19,
    "start_time": "2024-09-24T19:00:33.886Z"
   },
   {
    "duration": 340,
    "start_time": "2024-09-24T19:01:15.907Z"
   },
   {
    "duration": 58,
    "start_time": "2024-09-24T19:01:19.022Z"
   },
   {
    "duration": 5,
    "start_time": "2024-09-24T19:04:38.783Z"
   },
   {
    "duration": 3,
    "start_time": "2024-09-24T19:09:20.522Z"
   },
   {
    "duration": 4,
    "start_time": "2024-09-24T19:09:37.476Z"
   },
   {
    "duration": 12,
    "start_time": "2024-09-24T19:09:56.857Z"
   },
   {
    "duration": 429,
    "start_time": "2024-09-24T19:10:11.595Z"
   },
   {
    "duration": 27,
    "start_time": "2024-09-24T19:10:49.725Z"
   },
   {
    "duration": 9,
    "start_time": "2024-09-25T19:14:52.885Z"
   },
   {
    "duration": 162,
    "start_time": "2024-09-25T19:15:00.581Z"
   },
   {
    "duration": 303,
    "start_time": "2024-09-25T19:15:10.027Z"
   },
   {
    "duration": 2130,
    "start_time": "2024-09-25T19:15:10.569Z"
   },
   {
    "duration": 210,
    "start_time": "2024-09-25T19:15:12.701Z"
   },
   {
    "duration": 74,
    "start_time": "2024-09-25T19:15:14.250Z"
   },
   {
    "duration": 13,
    "start_time": "2024-09-25T19:15:15.441Z"
   },
   {
    "duration": 13,
    "start_time": "2024-09-25T19:15:16.593Z"
   },
   {
    "duration": 825,
    "start_time": "2024-09-25T19:15:17.919Z"
   },
   {
    "duration": 190,
    "start_time": "2024-09-25T19:15:22.203Z"
   },
   {
    "duration": 14,
    "start_time": "2024-09-25T19:15:24.118Z"
   },
   {
    "duration": 4,
    "start_time": "2024-09-25T19:15:25.000Z"
   },
   {
    "duration": 3,
    "start_time": "2024-09-25T19:15:25.919Z"
   },
   {
    "duration": 862,
    "start_time": "2024-09-25T19:15:26.849Z"
   },
   {
    "duration": 7,
    "start_time": "2024-09-25T19:15:30.825Z"
   },
   {
    "duration": 378,
    "start_time": "2024-09-25T19:15:33.440Z"
   },
   {
    "duration": 413,
    "start_time": "2024-09-25T19:15:48.732Z"
   },
   {
    "duration": 81,
    "start_time": "2024-09-25T19:15:50.794Z"
   },
   {
    "duration": 26,
    "start_time": "2024-09-25T19:15:51.851Z"
   },
   {
    "duration": 24,
    "start_time": "2024-09-25T19:16:08.532Z"
   },
   {
    "duration": 76,
    "start_time": "2024-09-25T19:20:52.634Z"
   },
   {
    "duration": 12,
    "start_time": "2024-09-25T19:21:06.945Z"
   },
   {
    "duration": 5,
    "start_time": "2024-09-25T19:21:21.126Z"
   },
   {
    "duration": 3,
    "start_time": "2024-09-25T19:21:33.953Z"
   },
   {
    "duration": 756,
    "start_time": "2024-09-25T19:21:46.721Z"
   },
   {
    "duration": 451,
    "start_time": "2024-09-25T19:22:53.112Z"
   },
   {
    "duration": 21,
    "start_time": "2024-09-25T19:23:08.920Z"
   },
   {
    "duration": 160,
    "start_time": "2024-09-25T19:48:20.856Z"
   },
   {
    "duration": 329,
    "start_time": "2024-09-25T19:48:30.815Z"
   },
   {
    "duration": 189,
    "start_time": "2024-09-25T19:48:31.309Z"
   },
   {
    "duration": 143,
    "start_time": "2024-09-25T19:48:32.032Z"
   },
   {
    "duration": 42,
    "start_time": "2024-09-25T19:48:33.328Z"
   },
   {
    "duration": 14,
    "start_time": "2024-09-25T19:48:34.211Z"
   },
   {
    "duration": 12,
    "start_time": "2024-09-25T19:48:35.131Z"
   },
   {
    "duration": 716,
    "start_time": "2024-09-25T19:48:36.310Z"
   },
   {
    "duration": 219,
    "start_time": "2024-09-25T19:48:40.239Z"
   },
   {
    "duration": 15,
    "start_time": "2024-09-25T19:48:41.541Z"
   },
   {
    "duration": 4,
    "start_time": "2024-09-25T19:48:42.348Z"
   },
   {
    "duration": 5,
    "start_time": "2024-09-25T19:48:43.034Z"
   },
   {
    "duration": 853,
    "start_time": "2024-09-25T19:48:43.685Z"
   },
   {
    "duration": 8,
    "start_time": "2024-09-25T19:48:46.338Z"
   },
   {
    "duration": 442,
    "start_time": "2024-09-25T19:48:48.463Z"
   },
   {
    "duration": 82,
    "start_time": "2024-09-25T19:48:49.286Z"
   },
   {
    "duration": 27,
    "start_time": "2024-09-25T19:48:50.574Z"
   },
   {
    "duration": 85,
    "start_time": "2024-09-25T19:48:53.162Z"
   },
   {
    "duration": 12,
    "start_time": "2024-09-25T19:48:53.857Z"
   },
   {
    "duration": 4,
    "start_time": "2024-09-25T19:48:54.613Z"
   },
   {
    "duration": 5,
    "start_time": "2024-09-25T19:48:55.332Z"
   },
   {
    "duration": 848,
    "start_time": "2024-09-25T19:48:56.045Z"
   },
   {
    "duration": 26,
    "start_time": "2024-09-25T19:48:56.910Z"
   },
   {
    "duration": 19,
    "start_time": "2024-09-25T19:48:58.610Z"
   },
   {
    "duration": 3,
    "start_time": "2024-09-25T19:52:26.365Z"
   },
   {
    "duration": 8,
    "start_time": "2024-09-25T19:53:39.581Z"
   },
   {
    "duration": 4,
    "start_time": "2024-09-25T19:54:27.720Z"
   },
   {
    "duration": 8,
    "start_time": "2024-09-25T19:54:44.952Z"
   },
   {
    "duration": 47,
    "start_time": "2024-09-25T19:55:10.905Z"
   },
   {
    "duration": 6,
    "start_time": "2024-09-25T19:55:23.057Z"
   },
   {
    "duration": 4,
    "start_time": "2024-09-25T19:55:32.923Z"
   },
   {
    "duration": 8,
    "start_time": "2024-09-25T19:55:49.424Z"
   },
   {
    "duration": 12,
    "start_time": "2024-09-25T19:56:40.752Z"
   },
   {
    "duration": 11,
    "start_time": "2024-09-25T19:56:49.061Z"
   },
   {
    "duration": 4,
    "start_time": "2024-09-25T20:37:27.765Z"
   },
   {
    "duration": 4,
    "start_time": "2024-09-25T20:39:17.834Z"
   },
   {
    "duration": 5,
    "start_time": "2024-09-25T20:41:06.400Z"
   },
   {
    "duration": 3,
    "start_time": "2024-09-25T20:41:30.230Z"
   },
   {
    "duration": 14,
    "start_time": "2024-09-25T20:42:11.519Z"
   },
   {
    "duration": 738,
    "start_time": "2024-09-25T20:42:22.467Z"
   },
   {
    "duration": 716,
    "start_time": "2024-09-25T20:43:05.638Z"
   },
   {
    "duration": 13,
    "start_time": "2024-09-26T00:07:38.309Z"
   },
   {
    "duration": 12,
    "start_time": "2024-09-26T00:07:44.647Z"
   },
   {
    "duration": 10,
    "start_time": "2024-09-26T00:07:50.294Z"
   },
   {
    "duration": 13,
    "start_time": "2024-09-26T00:07:56.204Z"
   },
   {
    "duration": 12,
    "start_time": "2024-09-26T00:07:59.632Z"
   },
   {
    "duration": 11,
    "start_time": "2024-09-26T00:08:04.115Z"
   },
   {
    "duration": 12,
    "start_time": "2024-09-26T00:22:56.411Z"
   },
   {
    "duration": 12,
    "start_time": "2024-09-26T00:23:00.289Z"
   },
   {
    "duration": 13,
    "start_time": "2024-09-26T00:23:03.557Z"
   },
   {
    "duration": 13,
    "start_time": "2024-09-26T00:23:06.815Z"
   },
   {
    "duration": 12,
    "start_time": "2024-09-26T00:23:09.973Z"
   },
   {
    "duration": 12,
    "start_time": "2024-09-26T00:23:24.712Z"
   },
   {
    "duration": 12,
    "start_time": "2024-09-26T00:25:48.669Z"
   },
   {
    "duration": 6,
    "start_time": "2024-09-26T00:26:06.990Z"
   },
   {
    "duration": 15,
    "start_time": "2024-09-26T00:28:22.532Z"
   },
   {
    "duration": 8,
    "start_time": "2024-09-26T00:29:09.996Z"
   },
   {
    "duration": 7,
    "start_time": "2024-09-26T00:42:45.690Z"
   },
   {
    "duration": 4,
    "start_time": "2024-09-26T00:43:37.494Z"
   },
   {
    "duration": 5,
    "start_time": "2024-09-26T00:44:36.232Z"
   },
   {
    "duration": 350,
    "start_time": "2024-09-26T00:48:23.967Z"
   },
   {
    "duration": 8,
    "start_time": "2024-09-26T00:48:58.424Z"
   },
   {
    "duration": 8,
    "start_time": "2024-09-26T00:49:48.940Z"
   },
   {
    "duration": 7,
    "start_time": "2024-09-26T00:52:19.113Z"
   },
   {
    "duration": 6,
    "start_time": "2024-09-26T00:52:54.461Z"
   },
   {
    "duration": 7,
    "start_time": "2024-09-26T00:53:19.428Z"
   },
   {
    "duration": 6,
    "start_time": "2024-09-26T00:56:51.221Z"
   },
   {
    "duration": 4,
    "start_time": "2024-09-26T00:57:28.819Z"
   },
   {
    "duration": 13,
    "start_time": "2024-09-26T01:00:51.227Z"
   },
   {
    "duration": 704,
    "start_time": "2024-09-26T01:01:37.562Z"
   },
   {
    "duration": 725,
    "start_time": "2024-09-26T01:02:01.792Z"
   },
   {
    "duration": 730,
    "start_time": "2024-09-26T01:02:04.019Z"
   },
   {
    "duration": 203,
    "start_time": "2024-09-26T01:02:16.354Z"
   },
   {
    "duration": 9,
    "start_time": "2024-09-26T01:04:30.995Z"
   },
   {
    "duration": 8,
    "start_time": "2024-09-26T01:13:55.937Z"
   },
   {
    "duration": 14,
    "start_time": "2024-09-26T01:17:09.469Z"
   },
   {
    "duration": 13,
    "start_time": "2024-09-26T01:44:58.173Z"
   },
   {
    "duration": 13,
    "start_time": "2024-09-26T01:45:04.638Z"
   },
   {
    "duration": 3,
    "start_time": "2024-09-26T01:45:10.011Z"
   },
   {
    "duration": 9,
    "start_time": "2024-09-26T01:54:57.999Z"
   },
   {
    "duration": 11,
    "start_time": "2024-09-26T01:55:20.260Z"
   },
   {
    "duration": 7,
    "start_time": "2024-09-26T01:56:06.002Z"
   },
   {
    "duration": 6,
    "start_time": "2024-09-26T01:56:13.630Z"
   },
   {
    "duration": 7,
    "start_time": "2024-09-26T01:56:23.644Z"
   },
   {
    "duration": 11,
    "start_time": "2024-09-26T02:04:48.095Z"
   },
   {
    "duration": 8,
    "start_time": "2024-09-26T02:06:23.110Z"
   },
   {
    "duration": 273,
    "start_time": "2024-09-26T02:07:08.366Z"
   },
   {
    "duration": 127,
    "start_time": "2024-09-26T02:07:09.521Z"
   },
   {
    "duration": 165,
    "start_time": "2024-09-26T02:07:10.828Z"
   },
   {
    "duration": 41,
    "start_time": "2024-09-26T02:07:12.099Z"
   },
   {
    "duration": 10,
    "start_time": "2024-09-26T02:07:13.349Z"
   },
   {
    "duration": 11,
    "start_time": "2024-09-26T02:07:14.736Z"
   },
   {
    "duration": 891,
    "start_time": "2024-09-26T02:07:16.089Z"
   },
   {
    "duration": 713,
    "start_time": "2024-09-26T02:07:27.870Z"
   },
   {
    "duration": 209,
    "start_time": "2024-09-26T02:07:32.982Z"
   },
   {
    "duration": 7,
    "start_time": "2024-09-26T02:07:37.200Z"
   },
   {
    "duration": 15,
    "start_time": "2024-09-26T02:07:41.249Z"
   },
   {
    "duration": 405,
    "start_time": "2024-09-26T02:07:48.601Z"
   },
   {
    "duration": 73,
    "start_time": "2024-09-26T02:07:52.431Z"
   },
   {
    "duration": 23,
    "start_time": "2024-09-26T02:07:53.871Z"
   },
   {
    "duration": 15,
    "start_time": "2024-09-26T02:07:56.444Z"
   },
   {
    "duration": 19,
    "start_time": "2024-09-26T02:07:57.512Z"
   },
   {
    "duration": 12,
    "start_time": "2024-09-26T02:07:59.135Z"
   },
   {
    "duration": 4,
    "start_time": "2024-09-26T02:08:03.304Z"
   },
   {
    "duration": 3,
    "start_time": "2024-09-26T02:08:04.217Z"
   },
   {
    "duration": 4,
    "start_time": "2024-09-26T02:08:06.228Z"
   },
   {
    "duration": 3,
    "start_time": "2024-09-26T02:08:07.713Z"
   },
   {
    "duration": 883,
    "start_time": "2024-09-26T02:08:10.510Z"
   },
   {
    "duration": 783,
    "start_time": "2024-09-26T02:08:12.286Z"
   },
   {
    "duration": 9,
    "start_time": "2024-09-26T02:08:17.349Z"
   },
   {
    "duration": 9,
    "start_time": "2024-09-26T02:08:20.626Z"
   },
   {
    "duration": 8,
    "start_time": "2024-09-26T02:08:24.563Z"
   },
   {
    "duration": 8,
    "start_time": "2024-09-26T02:08:27.934Z"
   },
   {
    "duration": 6,
    "start_time": "2024-09-26T02:08:33.223Z"
   },
   {
    "duration": 14,
    "start_time": "2024-09-26T02:08:51.468Z"
   },
   {
    "duration": 8,
    "start_time": "2024-09-26T02:08:53.563Z"
   },
   {
    "duration": 6,
    "start_time": "2024-09-26T02:15:11.817Z"
   },
   {
    "duration": 13,
    "start_time": "2024-09-26T02:17:54.678Z"
   },
   {
    "duration": 9,
    "start_time": "2024-09-26T02:18:12.226Z"
   },
   {
    "duration": 8,
    "start_time": "2024-09-26T02:18:14.818Z"
   },
   {
    "duration": 8,
    "start_time": "2024-09-26T02:18:18.306Z"
   },
   {
    "duration": 15,
    "start_time": "2024-09-26T02:18:25.719Z"
   },
   {
    "duration": 4,
    "start_time": "2024-09-26T02:18:28.626Z"
   },
   {
    "duration": 4,
    "start_time": "2024-09-26T02:18:34.323Z"
   },
   {
    "duration": 21,
    "start_time": "2024-09-26T02:24:12.244Z"
   },
   {
    "duration": 8,
    "start_time": "2024-09-26T02:24:49.836Z"
   },
   {
    "duration": 7,
    "start_time": "2024-09-26T02:25:24.439Z"
   },
   {
    "duration": 10,
    "start_time": "2024-09-26T02:25:54.124Z"
   },
   {
    "duration": 11,
    "start_time": "2024-09-26T02:29:26.451Z"
   },
   {
    "duration": 32,
    "start_time": "2024-09-26T02:55:20.629Z"
   },
   {
    "duration": 307,
    "start_time": "2024-09-26T19:44:58.445Z"
   },
   {
    "duration": 1876,
    "start_time": "2024-09-26T19:44:59.482Z"
   },
   {
    "duration": 179,
    "start_time": "2024-09-26T19:45:02.255Z"
   },
   {
    "duration": 69,
    "start_time": "2024-09-26T19:45:03.805Z"
   },
   {
    "duration": 12,
    "start_time": "2024-09-26T19:45:05.038Z"
   },
   {
    "duration": 11,
    "start_time": "2024-09-26T19:45:06.613Z"
   },
   {
    "duration": 828,
    "start_time": "2024-09-26T19:45:08.119Z"
   },
   {
    "duration": 187,
    "start_time": "2024-09-26T19:45:13.605Z"
   },
   {
    "duration": 412,
    "start_time": "2024-09-26T19:45:20.851Z"
   },
   {
    "duration": 71,
    "start_time": "2024-09-26T19:45:22.471Z"
   },
   {
    "duration": 25,
    "start_time": "2024-09-26T19:45:24.233Z"
   },
   {
    "duration": 14,
    "start_time": "2024-09-26T19:45:26.830Z"
   },
   {
    "duration": 19,
    "start_time": "2024-09-26T19:45:28.306Z"
   },
   {
    "duration": 14,
    "start_time": "2024-09-26T19:45:30.031Z"
   },
   {
    "duration": 4,
    "start_time": "2024-09-26T19:45:34.102Z"
   },
   {
    "duration": 4,
    "start_time": "2024-09-26T19:45:34.927Z"
   },
   {
    "duration": 4,
    "start_time": "2024-09-26T19:45:37.508Z"
   },
   {
    "duration": 4,
    "start_time": "2024-09-26T19:45:38.553Z"
   },
   {
    "duration": 716,
    "start_time": "2024-09-26T19:45:41.826Z"
   },
   {
    "duration": 751,
    "start_time": "2024-09-26T19:45:44.036Z"
   },
   {
    "duration": 9,
    "start_time": "2024-09-26T19:45:48.472Z"
   },
   {
    "duration": 9,
    "start_time": "2024-09-26T19:45:52.319Z"
   },
   {
    "duration": 9,
    "start_time": "2024-09-26T19:45:54.162Z"
   },
   {
    "duration": 7,
    "start_time": "2024-09-26T19:45:56.133Z"
   },
   {
    "duration": 7,
    "start_time": "2024-09-26T19:45:58.381Z"
   },
   {
    "duration": 15,
    "start_time": "2024-09-26T19:46:02.825Z"
   },
   {
    "duration": 15,
    "start_time": "2024-09-26T19:46:06.918Z"
   },
   {
    "duration": 9,
    "start_time": "2024-09-26T19:46:15.513Z"
   },
   {
    "duration": 9,
    "start_time": "2024-09-26T19:46:18.476Z"
   },
   {
    "duration": 30,
    "start_time": "2024-09-26T19:46:19.477Z"
   },
   {
    "duration": 4,
    "start_time": "2024-09-26T19:46:23.107Z"
   },
   {
    "duration": 9,
    "start_time": "2024-09-26T19:46:24.256Z"
   },
   {
    "duration": 10,
    "start_time": "2024-09-26T19:46:27.496Z"
   },
   {
    "duration": 218,
    "start_time": "2024-09-26T19:52:03.301Z"
   },
   {
    "duration": 7,
    "start_time": "2024-09-26T19:52:57.331Z"
   },
   {
    "duration": 9,
    "start_time": "2024-09-26T19:53:07.566Z"
   },
   {
    "duration": 20,
    "start_time": "2024-09-26T20:59:52.234Z"
   },
   {
    "duration": 11,
    "start_time": "2024-09-26T21:00:10.229Z"
   },
   {
    "duration": 12,
    "start_time": "2024-09-26T21:00:32.557Z"
   },
   {
    "duration": 413,
    "start_time": "2024-09-26T21:01:50.187Z"
   },
   {
    "duration": 3,
    "start_time": "2024-09-26T21:02:10.224Z"
   },
   {
    "duration": 6,
    "start_time": "2024-09-26T21:02:21.817Z"
   },
   {
    "duration": 17,
    "start_time": "2024-09-26T21:03:05.482Z"
   },
   {
    "duration": 8,
    "start_time": "2024-09-26T21:03:12.941Z"
   },
   {
    "duration": 9,
    "start_time": "2024-09-26T21:03:49.871Z"
   },
   {
    "duration": 10,
    "start_time": "2024-09-26T21:06:35.682Z"
   },
   {
    "duration": 22,
    "start_time": "2024-09-26T21:06:56.205Z"
   },
   {
    "duration": 46,
    "start_time": "2024-09-26T21:07:53.302Z"
   },
   {
    "duration": 8,
    "start_time": "2024-09-26T21:08:05.479Z"
   },
   {
    "duration": 9,
    "start_time": "2024-09-26T21:08:20.987Z"
   },
   {
    "duration": 7,
    "start_time": "2024-09-26T21:08:42.174Z"
   },
   {
    "duration": 8,
    "start_time": "2024-09-26T21:08:50.811Z"
   },
   {
    "duration": 335,
    "start_time": "2024-09-26T23:39:07.925Z"
   },
   {
    "duration": 1827,
    "start_time": "2024-09-26T23:39:24.311Z"
   },
   {
    "duration": 185,
    "start_time": "2024-09-26T23:39:27.566Z"
   },
   {
    "duration": 74,
    "start_time": "2024-09-26T23:39:30.393Z"
   },
   {
    "duration": 13,
    "start_time": "2024-09-26T23:39:37.039Z"
   },
   {
    "duration": 14,
    "start_time": "2024-09-26T23:39:40.129Z"
   },
   {
    "duration": 855,
    "start_time": "2024-09-26T23:39:41.611Z"
   },
   {
    "duration": 195,
    "start_time": "2024-09-26T23:39:46.433Z"
   },
   {
    "duration": 7,
    "start_time": "2024-09-26T23:39:53.546Z"
   },
   {
    "duration": 417,
    "start_time": "2024-09-26T23:39:57.571Z"
   },
   {
    "duration": 73,
    "start_time": "2024-09-26T23:39:59.185Z"
   },
   {
    "duration": 25,
    "start_time": "2024-09-26T23:40:00.556Z"
   },
   {
    "duration": 14,
    "start_time": "2024-09-26T23:40:04.815Z"
   },
   {
    "duration": 19,
    "start_time": "2024-09-26T23:40:05.909Z"
   },
   {
    "duration": 13,
    "start_time": "2024-09-26T23:40:07.213Z"
   },
   {
    "duration": 7,
    "start_time": "2024-09-26T23:40:11.109Z"
   },
   {
    "duration": 3,
    "start_time": "2024-09-26T23:40:12.045Z"
   },
   {
    "duration": 6,
    "start_time": "2024-09-26T23:40:14.486Z"
   },
   {
    "duration": 3,
    "start_time": "2024-09-26T23:40:15.492Z"
   },
   {
    "duration": 753,
    "start_time": "2024-09-26T23:40:17.685Z"
   },
   {
    "duration": 750,
    "start_time": "2024-09-26T23:40:19.359Z"
   },
   {
    "duration": 11,
    "start_time": "2024-09-26T23:40:22.569Z"
   },
   {
    "duration": 10,
    "start_time": "2024-09-26T23:40:25.752Z"
   },
   {
    "duration": 8,
    "start_time": "2024-09-26T23:40:28.211Z"
   },
   {
    "duration": 6,
    "start_time": "2024-09-26T23:40:32.952Z"
   },
   {
    "duration": 6,
    "start_time": "2024-09-26T23:40:35.142Z"
   },
   {
    "duration": 13,
    "start_time": "2024-09-26T23:40:37.716Z"
   },
   {
    "duration": 7,
    "start_time": "2024-09-26T23:40:42.510Z"
   },
   {
    "duration": 17,
    "start_time": "2024-09-26T23:40:45.674Z"
   },
   {
    "duration": 33,
    "start_time": "2024-09-26T23:40:47.736Z"
   },
   {
    "duration": 4,
    "start_time": "2024-09-26T23:40:50.044Z"
   },
   {
    "duration": 9,
    "start_time": "2024-09-26T23:40:51.110Z"
   },
   {
    "duration": 11,
    "start_time": "2024-09-26T23:40:54.071Z"
   },
   {
    "duration": 8,
    "start_time": "2024-09-26T23:40:59.230Z"
   },
   {
    "duration": 8,
    "start_time": "2024-09-26T23:41:01.512Z"
   },
   {
    "duration": 7,
    "start_time": "2024-09-26T23:44:46.490Z"
   },
   {
    "duration": 222,
    "start_time": "2024-09-26T23:44:53.462Z"
   },
   {
    "duration": 263,
    "start_time": "2024-09-26T23:45:09.264Z"
   },
   {
    "duration": 43,
    "start_time": "2024-09-26T23:46:02.378Z"
   },
   {
    "duration": 15,
    "start_time": "2024-09-26T23:46:16.551Z"
   },
   {
    "duration": 261,
    "start_time": "2024-09-26T23:46:34.836Z"
   },
   {
    "duration": 13,
    "start_time": "2024-09-26T23:47:31.892Z"
   },
   {
    "duration": 15,
    "start_time": "2024-09-26T23:50:37.139Z"
   },
   {
    "duration": 14,
    "start_time": "2024-09-26T23:51:48.548Z"
   },
   {
    "duration": 15,
    "start_time": "2024-09-26T23:52:46.980Z"
   },
   {
    "duration": 6,
    "start_time": "2024-09-26T23:56:47.329Z"
   },
   {
    "duration": 103,
    "start_time": "2024-09-26T23:56:52.746Z"
   },
   {
    "duration": 167,
    "start_time": "2024-09-26T23:59:32.291Z"
   },
   {
    "duration": 195,
    "start_time": "2024-09-26T23:59:47.233Z"
   },
   {
    "duration": 162,
    "start_time": "2024-09-27T00:02:03.389Z"
   },
   {
    "duration": 178,
    "start_time": "2024-09-27T00:03:06.620Z"
   },
   {
    "duration": 227,
    "start_time": "2024-09-27T00:03:22.990Z"
   },
   {
    "duration": 165,
    "start_time": "2024-09-27T00:06:41.649Z"
   },
   {
    "duration": 111,
    "start_time": "2024-09-27T00:09:55.303Z"
   },
   {
    "duration": 232,
    "start_time": "2024-09-27T00:14:33.245Z"
   },
   {
    "duration": 38,
    "start_time": "2024-09-27T00:18:53.628Z"
   },
   {
    "duration": 41,
    "start_time": "2024-09-27T00:19:46.275Z"
   },
   {
    "duration": 42,
    "start_time": "2024-09-27T00:20:16.458Z"
   },
   {
    "duration": 41,
    "start_time": "2024-09-27T00:24:40.229Z"
   },
   {
    "duration": 294,
    "start_time": "2024-09-27T00:46:52.128Z"
   },
   {
    "duration": 2066,
    "start_time": "2024-09-27T00:46:53.453Z"
   },
   {
    "duration": 193,
    "start_time": "2024-09-27T00:46:56.567Z"
   },
   {
    "duration": 76,
    "start_time": "2024-09-27T00:46:58.048Z"
   },
   {
    "duration": 11,
    "start_time": "2024-09-27T00:46:59.029Z"
   },
   {
    "duration": 13,
    "start_time": "2024-09-27T00:47:00.336Z"
   },
   {
    "duration": 971,
    "start_time": "2024-09-27T00:47:01.231Z"
   },
   {
    "duration": 225,
    "start_time": "2024-09-27T00:47:04.899Z"
   },
   {
    "duration": 475,
    "start_time": "2024-09-27T00:47:09.782Z"
   },
   {
    "duration": 84,
    "start_time": "2024-09-27T00:47:10.761Z"
   },
   {
    "duration": 29,
    "start_time": "2024-09-27T00:47:11.800Z"
   },
   {
    "duration": 13,
    "start_time": "2024-09-27T00:47:13.929Z"
   },
   {
    "duration": 19,
    "start_time": "2024-09-27T00:47:14.946Z"
   },
   {
    "duration": 3,
    "start_time": "2024-09-27T00:47:19.342Z"
   },
   {
    "duration": 3,
    "start_time": "2024-09-27T00:47:21.255Z"
   },
   {
    "duration": 5,
    "start_time": "2024-09-27T00:47:24.371Z"
   },
   {
    "duration": 3,
    "start_time": "2024-09-27T00:47:25.082Z"
   },
   {
    "duration": 918,
    "start_time": "2024-09-27T00:47:27.584Z"
   },
   {
    "duration": 832,
    "start_time": "2024-09-27T00:47:28.504Z"
   },
   {
    "duration": 8,
    "start_time": "2024-09-27T00:47:32.117Z"
   },
   {
    "duration": 8,
    "start_time": "2024-09-27T00:47:35.057Z"
   },
   {
    "duration": 10,
    "start_time": "2024-09-27T00:47:37.314Z"
   },
   {
    "duration": 10,
    "start_time": "2024-09-27T00:47:40.249Z"
   },
   {
    "duration": 6,
    "start_time": "2024-09-27T00:47:43.049Z"
   },
   {
    "duration": 14,
    "start_time": "2024-09-27T00:47:45.778Z"
   },
   {
    "duration": 8,
    "start_time": "2024-09-27T00:47:47.698Z"
   },
   {
    "duration": 697,
    "start_time": "2024-09-27T00:47:49.654Z"
   },
   {
    "duration": 17,
    "start_time": "2024-09-27T00:47:53.610Z"
   },
   {
    "duration": 34,
    "start_time": "2024-09-27T00:47:55.694Z"
   },
   {
    "duration": 4,
    "start_time": "2024-09-27T00:47:57.756Z"
   },
   {
    "duration": 8,
    "start_time": "2024-09-27T00:47:58.497Z"
   },
   {
    "duration": 12,
    "start_time": "2024-09-27T00:48:01.307Z"
   },
   {
    "duration": 9,
    "start_time": "2024-09-27T00:48:05.800Z"
   },
   {
    "duration": 6,
    "start_time": "2024-09-27T00:48:07.423Z"
   },
   {
    "duration": 202,
    "start_time": "2024-09-27T00:48:10.542Z"
   },
   {
    "duration": 118,
    "start_time": "2024-09-27T00:48:13.909Z"
   },
   {
    "duration": 13,
    "start_time": "2024-09-27T00:57:14.816Z"
   },
   {
    "duration": 14,
    "start_time": "2024-09-27T00:57:34.395Z"
   },
   {
    "duration": 2,
    "start_time": "2024-09-27T00:58:00.151Z"
   },
   {
    "duration": 2,
    "start_time": "2024-09-27T00:58:00.156Z"
   },
   {
    "duration": 129,
    "start_time": "2024-09-27T00:58:00.161Z"
   },
   {
    "duration": 38,
    "start_time": "2024-09-27T00:58:00.292Z"
   },
   {
    "duration": 11,
    "start_time": "2024-09-27T00:58:00.333Z"
   },
   {
    "duration": 26,
    "start_time": "2024-09-27T00:58:00.346Z"
   },
   {
    "duration": 714,
    "start_time": "2024-09-27T00:58:00.373Z"
   },
   {
    "duration": 148,
    "start_time": "2024-09-27T00:58:01.088Z"
   },
   {
    "duration": 7,
    "start_time": "2024-09-27T00:58:01.238Z"
   },
   {
    "duration": 400,
    "start_time": "2024-09-27T00:58:01.246Z"
   },
   {
    "duration": 82,
    "start_time": "2024-09-27T00:58:01.648Z"
   },
   {
    "duration": 24,
    "start_time": "2024-09-27T00:58:01.732Z"
   },
   {
    "duration": 12,
    "start_time": "2024-09-27T00:58:01.769Z"
   },
   {
    "duration": 18,
    "start_time": "2024-09-27T00:58:01.782Z"
   },
   {
    "duration": 10,
    "start_time": "2024-09-27T00:58:01.802Z"
   },
   {
    "duration": 4,
    "start_time": "2024-09-27T00:58:01.813Z"
   },
   {
    "duration": 3,
    "start_time": "2024-09-27T00:58:01.819Z"
   },
   {
    "duration": 3,
    "start_time": "2024-09-27T00:58:01.824Z"
   },
   {
    "duration": 3,
    "start_time": "2024-09-27T00:58:01.829Z"
   },
   {
    "duration": 783,
    "start_time": "2024-09-27T00:58:01.870Z"
   },
   {
    "duration": 792,
    "start_time": "2024-09-27T00:58:02.655Z"
   },
   {
    "duration": 9,
    "start_time": "2024-09-27T00:58:03.448Z"
   },
   {
    "duration": 18,
    "start_time": "2024-09-27T00:58:03.458Z"
   },
   {
    "duration": 7,
    "start_time": "2024-09-27T00:58:03.478Z"
   },
   {
    "duration": 6,
    "start_time": "2024-09-27T00:58:03.487Z"
   },
   {
    "duration": 5,
    "start_time": "2024-09-27T00:58:03.495Z"
   },
   {
    "duration": 12,
    "start_time": "2024-09-27T00:58:03.502Z"
   },
   {
    "duration": 7,
    "start_time": "2024-09-27T00:58:03.516Z"
   },
   {
    "duration": 50,
    "start_time": "2024-09-27T00:58:03.525Z"
   },
   {
    "duration": 32,
    "start_time": "2024-09-27T00:58:03.577Z"
   },
   {
    "duration": 4,
    "start_time": "2024-09-27T00:58:03.611Z"
   },
   {
    "duration": 6,
    "start_time": "2024-09-27T00:58:03.617Z"
   },
   {
    "duration": 9,
    "start_time": "2024-09-27T00:58:03.625Z"
   },
   {
    "duration": 39,
    "start_time": "2024-09-27T00:58:03.636Z"
   },
   {
    "duration": 6,
    "start_time": "2024-09-27T00:58:03.677Z"
   },
   {
    "duration": 185,
    "start_time": "2024-09-27T00:58:03.685Z"
   },
   {
    "duration": 110,
    "start_time": "2024-09-27T00:58:03.874Z"
   },
   {
    "duration": 256,
    "start_time": "2024-09-27T00:58:03.986Z"
   },
   {
    "duration": 0,
    "start_time": "2024-09-27T00:58:04.245Z"
   },
   {
    "duration": 4,
    "start_time": "2024-09-27T00:58:20.086Z"
   },
   {
    "duration": 428,
    "start_time": "2024-09-27T01:01:27.556Z"
   },
   {
    "duration": 174,
    "start_time": "2024-09-27T01:09:51.344Z"
   },
   {
    "duration": 12,
    "start_time": "2024-09-27T01:11:43.709Z"
   },
   {
    "duration": 9,
    "start_time": "2024-09-27T01:13:08.455Z"
   },
   {
    "duration": 13,
    "start_time": "2024-09-27T01:13:23.697Z"
   },
   {
    "duration": 5,
    "start_time": "2024-09-27T01:14:17.017Z"
   },
   {
    "duration": 14,
    "start_time": "2024-09-27T01:14:32.791Z"
   },
   {
    "duration": 16,
    "start_time": "2024-09-27T01:36:39.822Z"
   },
   {
    "duration": 113,
    "start_time": "2024-09-27T01:43:37.982Z"
   },
   {
    "duration": 185,
    "start_time": "2024-09-27T01:43:46.092Z"
   },
   {
    "duration": 154,
    "start_time": "2024-09-27T01:46:14.950Z"
   },
   {
    "duration": 165,
    "start_time": "2024-09-27T01:47:49.318Z"
   },
   {
    "duration": 6,
    "start_time": "2024-09-27T01:49:38.391Z"
   },
   {
    "duration": 8,
    "start_time": "2024-09-27T01:51:22.335Z"
   },
   {
    "duration": 255,
    "start_time": "2024-09-27T01:56:06.111Z"
   },
   {
    "duration": 11,
    "start_time": "2024-09-27T01:56:15.508Z"
   },
   {
    "duration": 13,
    "start_time": "2024-09-27T01:56:34.771Z"
   },
   {
    "duration": 9,
    "start_time": "2024-09-27T01:57:09.173Z"
   },
   {
    "duration": 13,
    "start_time": "2024-09-27T02:52:13.357Z"
   },
   {
    "duration": 190,
    "start_time": "2024-09-27T02:52:23.360Z"
   },
   {
    "duration": 109,
    "start_time": "2024-09-27T02:53:15.781Z"
   },
   {
    "duration": 5,
    "start_time": "2024-09-27T03:08:45.335Z"
   },
   {
    "duration": 3,
    "start_time": "2024-09-27T03:09:06.651Z"
   },
   {
    "duration": 6,
    "start_time": "2024-09-27T03:09:21.797Z"
   },
   {
    "duration": 12,
    "start_time": "2024-09-27T03:10:09.434Z"
   },
   {
    "duration": 5,
    "start_time": "2024-09-27T03:10:16.269Z"
   },
   {
    "duration": 100,
    "start_time": "2024-09-27T03:10:17.542Z"
   },
   {
    "duration": 24,
    "start_time": "2024-09-27T03:10:51.571Z"
   },
   {
    "duration": 102,
    "start_time": "2024-09-27T03:10:53.404Z"
   },
   {
    "duration": 20,
    "start_time": "2024-09-27T03:11:06.764Z"
   },
   {
    "duration": 113,
    "start_time": "2024-09-27T03:12:12.014Z"
   },
   {
    "duration": 151,
    "start_time": "2024-09-27T03:12:12.761Z"
   },
   {
    "duration": 24,
    "start_time": "2024-09-27T03:12:31.280Z"
   },
   {
    "duration": 1092,
    "start_time": "2024-09-27T03:13:42.651Z"
   },
   {
    "duration": 296,
    "start_time": "2024-09-27T03:16:31.648Z"
   },
   {
    "duration": 139,
    "start_time": "2024-09-27T03:16:31.947Z"
   },
   {
    "duration": 214,
    "start_time": "2024-09-27T03:16:32.088Z"
   },
   {
    "duration": 79,
    "start_time": "2024-09-27T03:16:32.305Z"
   },
   {
    "duration": 11,
    "start_time": "2024-09-27T03:16:32.386Z"
   },
   {
    "duration": 11,
    "start_time": "2024-09-27T03:16:32.399Z"
   },
   {
    "duration": 833,
    "start_time": "2024-09-27T03:16:32.413Z"
   },
   {
    "duration": 207,
    "start_time": "2024-09-27T03:16:33.249Z"
   },
   {
    "duration": 19,
    "start_time": "2024-09-27T03:16:33.458Z"
   },
   {
    "duration": 425,
    "start_time": "2024-09-27T03:16:33.481Z"
   },
   {
    "duration": 90,
    "start_time": "2024-09-27T03:16:33.908Z"
   },
   {
    "duration": 24,
    "start_time": "2024-09-27T03:16:34.000Z"
   },
   {
    "duration": 11,
    "start_time": "2024-09-27T03:16:34.026Z"
   },
   {
    "duration": 41,
    "start_time": "2024-09-27T03:16:34.039Z"
   },
   {
    "duration": 12,
    "start_time": "2024-09-27T03:16:34.081Z"
   },
   {
    "duration": 4,
    "start_time": "2024-09-27T03:16:34.096Z"
   },
   {
    "duration": 4,
    "start_time": "2024-09-27T03:16:34.102Z"
   },
   {
    "duration": 4,
    "start_time": "2024-09-27T03:16:34.108Z"
   },
   {
    "duration": 3,
    "start_time": "2024-09-27T03:16:34.113Z"
   },
   {
    "duration": 830,
    "start_time": "2024-09-27T03:16:34.118Z"
   },
   {
    "duration": 783,
    "start_time": "2024-09-27T03:16:34.950Z"
   },
   {
    "duration": 10,
    "start_time": "2024-09-27T03:16:35.736Z"
   },
   {
    "duration": 6,
    "start_time": "2024-09-27T03:16:35.748Z"
   },
   {
    "duration": 6,
    "start_time": "2024-09-27T03:16:35.771Z"
   },
   {
    "duration": 7,
    "start_time": "2024-09-27T03:16:35.779Z"
   },
   {
    "duration": 7,
    "start_time": "2024-09-27T03:16:35.788Z"
   },
   {
    "duration": 13,
    "start_time": "2024-09-27T03:16:35.796Z"
   },
   {
    "duration": 8,
    "start_time": "2024-09-27T03:16:35.814Z"
   },
   {
    "duration": 52,
    "start_time": "2024-09-27T03:16:35.824Z"
   },
   {
    "duration": 32,
    "start_time": "2024-09-27T03:16:35.878Z"
   },
   {
    "duration": 4,
    "start_time": "2024-09-27T03:16:35.912Z"
   },
   {
    "duration": 7,
    "start_time": "2024-09-27T03:16:35.918Z"
   },
   {
    "duration": 9,
    "start_time": "2024-09-27T03:16:35.928Z"
   },
   {
    "duration": 36,
    "start_time": "2024-09-27T03:16:35.939Z"
   },
   {
    "duration": 7,
    "start_time": "2024-09-27T03:16:35.977Z"
   },
   {
    "duration": 216,
    "start_time": "2024-09-27T03:16:35.985Z"
   },
   {
    "duration": 132,
    "start_time": "2024-09-27T03:16:36.203Z"
   },
   {
    "duration": 231,
    "start_time": "2024-09-27T03:16:36.337Z"
   },
   {
    "duration": 14,
    "start_time": "2024-09-27T03:16:36.570Z"
   },
   {
    "duration": 191,
    "start_time": "2024-09-27T03:16:36.587Z"
   },
   {
    "duration": 10,
    "start_time": "2024-09-27T03:16:36.780Z"
   },
   {
    "duration": 136,
    "start_time": "2024-09-27T03:16:36.792Z"
   },
   {
    "duration": 140,
    "start_time": "2024-09-27T03:16:36.930Z"
   },
   {
    "duration": 159,
    "start_time": "2024-09-27T03:18:58.945Z"
   },
   {
    "duration": 331,
    "start_time": "2024-09-27T03:19:19.506Z"
   },
   {
    "duration": 137,
    "start_time": "2024-09-27T03:19:19.839Z"
   },
   {
    "duration": 210,
    "start_time": "2024-09-27T03:19:19.978Z"
   },
   {
    "duration": 78,
    "start_time": "2024-09-27T03:19:20.190Z"
   },
   {
    "duration": 10,
    "start_time": "2024-09-27T03:19:20.270Z"
   },
   {
    "duration": 9,
    "start_time": "2024-09-27T03:19:20.282Z"
   },
   {
    "duration": 868,
    "start_time": "2024-09-27T03:19:20.293Z"
   },
   {
    "duration": 224,
    "start_time": "2024-09-27T03:19:21.163Z"
   },
   {
    "duration": 12,
    "start_time": "2024-09-27T03:19:21.388Z"
   },
   {
    "duration": 458,
    "start_time": "2024-09-27T03:19:21.402Z"
   },
   {
    "duration": 89,
    "start_time": "2024-09-27T03:19:21.861Z"
   },
   {
    "duration": 29,
    "start_time": "2024-09-27T03:19:21.952Z"
   },
   {
    "duration": 12,
    "start_time": "2024-09-27T03:19:21.982Z"
   },
   {
    "duration": 19,
    "start_time": "2024-09-27T03:19:21.998Z"
   },
   {
    "duration": 10,
    "start_time": "2024-09-27T03:19:22.018Z"
   },
   {
    "duration": 4,
    "start_time": "2024-09-27T03:19:22.030Z"
   },
   {
    "duration": 35,
    "start_time": "2024-09-27T03:19:22.035Z"
   },
   {
    "duration": 4,
    "start_time": "2024-09-27T03:19:22.071Z"
   },
   {
    "duration": 3,
    "start_time": "2024-09-27T03:19:22.077Z"
   },
   {
    "duration": 788,
    "start_time": "2024-09-27T03:19:22.082Z"
   },
   {
    "duration": 803,
    "start_time": "2024-09-27T03:19:22.872Z"
   },
   {
    "duration": 8,
    "start_time": "2024-09-27T03:19:23.677Z"
   },
   {
    "duration": 6,
    "start_time": "2024-09-27T03:19:23.687Z"
   },
   {
    "duration": 7,
    "start_time": "2024-09-27T03:19:23.695Z"
   },
   {
    "duration": 6,
    "start_time": "2024-09-27T03:19:23.704Z"
   },
   {
    "duration": 6,
    "start_time": "2024-09-27T03:19:23.712Z"
   },
   {
    "duration": 53,
    "start_time": "2024-09-27T03:19:23.720Z"
   },
   {
    "duration": 9,
    "start_time": "2024-09-27T03:19:23.775Z"
   },
   {
    "duration": 16,
    "start_time": "2024-09-27T03:19:23.785Z"
   },
   {
    "duration": 31,
    "start_time": "2024-09-27T03:19:23.803Z"
   },
   {
    "duration": 4,
    "start_time": "2024-09-27T03:19:23.836Z"
   },
   {
    "duration": 33,
    "start_time": "2024-09-27T03:19:23.841Z"
   },
   {
    "duration": 10,
    "start_time": "2024-09-27T03:19:23.876Z"
   },
   {
    "duration": 8,
    "start_time": "2024-09-27T03:19:23.888Z"
   },
   {
    "duration": 7,
    "start_time": "2024-09-27T03:19:23.897Z"
   },
   {
    "duration": 225,
    "start_time": "2024-09-27T03:19:23.906Z"
   },
   {
    "duration": 125,
    "start_time": "2024-09-27T03:19:24.133Z"
   },
   {
    "duration": 215,
    "start_time": "2024-09-27T03:19:24.260Z"
   },
   {
    "duration": 13,
    "start_time": "2024-09-27T03:19:24.477Z"
   },
   {
    "duration": 200,
    "start_time": "2024-09-27T03:19:24.492Z"
   },
   {
    "duration": 9,
    "start_time": "2024-09-27T03:19:24.696Z"
   },
   {
    "duration": 127,
    "start_time": "2024-09-27T03:19:24.707Z"
   },
   {
    "duration": 243,
    "start_time": "2024-09-27T03:19:24.835Z"
   },
   {
    "duration": 0,
    "start_time": "2024-09-27T03:19:25.080Z"
   },
   {
    "duration": 139,
    "start_time": "2024-09-27T03:19:43.420Z"
   },
   {
    "duration": 5777,
    "start_time": "2024-09-27T03:19:46.065Z"
   },
   {
    "duration": 345,
    "start_time": "2024-09-27T03:21:37.608Z"
   },
   {
    "duration": 111,
    "start_time": "2024-09-27T03:22:10.328Z"
   },
   {
    "duration": 89,
    "start_time": "2024-09-27T03:25:23.417Z"
   },
   {
    "duration": 11,
    "start_time": "2024-09-27T03:30:24.233Z"
   },
   {
    "duration": 5,
    "start_time": "2024-09-27T03:33:28.572Z"
   },
   {
    "duration": 1021,
    "start_time": "2024-09-27T03:33:40.049Z"
   },
   {
    "duration": 1130,
    "start_time": "2024-09-27T03:33:51.096Z"
   },
   {
    "duration": 931,
    "start_time": "2024-09-27T03:34:02.156Z"
   },
   {
    "duration": 1006,
    "start_time": "2024-09-27T03:34:09.151Z"
   },
   {
    "duration": 948,
    "start_time": "2024-09-27T03:34:20.739Z"
   },
   {
    "duration": 939,
    "start_time": "2024-09-27T03:34:29.854Z"
   },
   {
    "duration": 937,
    "start_time": "2024-09-27T03:34:42.246Z"
   },
   {
    "duration": 1036,
    "start_time": "2024-09-27T03:34:50.550Z"
   },
   {
    "duration": 946,
    "start_time": "2024-09-27T03:34:56.826Z"
   },
   {
    "duration": 8,
    "start_time": "2024-09-27T03:43:35.426Z"
   },
   {
    "duration": 197,
    "start_time": "2024-09-27T03:43:51.068Z"
   },
   {
    "duration": 5,
    "start_time": "2024-09-27T03:45:18.271Z"
   },
   {
    "duration": 110,
    "start_time": "2024-09-27T03:45:18.976Z"
   },
   {
    "duration": 38,
    "start_time": "2024-09-27T03:46:48.874Z"
   },
   {
    "duration": 117,
    "start_time": "2024-09-27T03:46:50.172Z"
   },
   {
    "duration": 112,
    "start_time": "2024-09-27T03:50:39.970Z"
   },
   {
    "duration": 41,
    "start_time": "2024-09-27T03:50:52.597Z"
   },
   {
    "duration": 311,
    "start_time": "2024-09-27T03:56:11.603Z"
   },
   {
    "duration": 129,
    "start_time": "2024-09-27T03:56:11.916Z"
   },
   {
    "duration": 169,
    "start_time": "2024-09-27T03:56:12.047Z"
   },
   {
    "duration": 42,
    "start_time": "2024-09-27T03:56:12.218Z"
   },
   {
    "duration": 10,
    "start_time": "2024-09-27T03:56:12.269Z"
   },
   {
    "duration": 10,
    "start_time": "2024-09-27T03:56:12.281Z"
   },
   {
    "duration": 734,
    "start_time": "2024-09-27T03:56:12.292Z"
   },
   {
    "duration": 201,
    "start_time": "2024-09-27T03:56:13.028Z"
   },
   {
    "duration": 12,
    "start_time": "2024-09-27T03:56:13.231Z"
   },
   {
    "duration": 425,
    "start_time": "2024-09-27T03:56:13.245Z"
   },
   {
    "duration": 73,
    "start_time": "2024-09-27T03:56:13.672Z"
   },
   {
    "duration": 35,
    "start_time": "2024-09-27T03:56:13.747Z"
   },
   {
    "duration": 12,
    "start_time": "2024-09-27T03:56:13.784Z"
   },
   {
    "duration": 18,
    "start_time": "2024-09-27T03:56:13.800Z"
   },
   {
    "duration": 9,
    "start_time": "2024-09-27T03:56:13.820Z"
   },
   {
    "duration": 3,
    "start_time": "2024-09-27T03:56:13.830Z"
   },
   {
    "duration": 3,
    "start_time": "2024-09-27T03:56:13.835Z"
   },
   {
    "duration": 3,
    "start_time": "2024-09-27T03:56:13.870Z"
   },
   {
    "duration": 3,
    "start_time": "2024-09-27T03:56:13.875Z"
   },
   {
    "duration": 766,
    "start_time": "2024-09-27T03:56:13.879Z"
   },
   {
    "duration": 757,
    "start_time": "2024-09-27T03:56:14.647Z"
   },
   {
    "duration": 8,
    "start_time": "2024-09-27T03:56:15.406Z"
   },
   {
    "duration": 7,
    "start_time": "2024-09-27T03:56:15.416Z"
   },
   {
    "duration": 7,
    "start_time": "2024-09-27T03:56:15.425Z"
   },
   {
    "duration": 7,
    "start_time": "2024-09-27T03:56:15.434Z"
   },
   {
    "duration": 6,
    "start_time": "2024-09-27T03:56:15.469Z"
   },
   {
    "duration": 12,
    "start_time": "2024-09-27T03:56:15.477Z"
   },
   {
    "duration": 7,
    "start_time": "2024-09-27T03:56:15.491Z"
   },
   {
    "duration": 14,
    "start_time": "2024-09-27T03:56:15.501Z"
   },
   {
    "duration": 67,
    "start_time": "2024-09-27T03:56:15.517Z"
   },
   {
    "duration": 4,
    "start_time": "2024-09-27T03:56:15.586Z"
   },
   {
    "duration": 8,
    "start_time": "2024-09-27T03:56:15.592Z"
   },
   {
    "duration": 10,
    "start_time": "2024-09-27T03:56:15.601Z"
   },
   {
    "duration": 7,
    "start_time": "2024-09-27T03:56:15.613Z"
   },
   {
    "duration": 7,
    "start_time": "2024-09-27T03:56:15.622Z"
   },
   {
    "duration": 223,
    "start_time": "2024-09-27T03:56:15.630Z"
   },
   {
    "duration": 125,
    "start_time": "2024-09-27T03:56:15.856Z"
   },
   {
    "duration": 203,
    "start_time": "2024-09-27T03:56:15.983Z"
   },
   {
    "duration": 14,
    "start_time": "2024-09-27T03:56:16.188Z"
   },
   {
    "duration": 216,
    "start_time": "2024-09-27T03:56:16.203Z"
   },
   {
    "duration": 9,
    "start_time": "2024-09-27T03:56:16.423Z"
   },
   {
    "duration": 139,
    "start_time": "2024-09-27T03:56:16.434Z"
   },
   {
    "duration": 9,
    "start_time": "2024-09-27T03:56:16.578Z"
   },
   {
    "duration": 967,
    "start_time": "2024-09-27T03:56:16.588Z"
   },
   {
    "duration": 50,
    "start_time": "2024-09-27T03:56:17.557Z"
   },
   {
    "duration": 277,
    "start_time": "2024-09-27T04:21:42.335Z"
   },
   {
    "duration": 129,
    "start_time": "2024-09-27T04:21:42.614Z"
   },
   {
    "duration": 172,
    "start_time": "2024-09-27T04:21:42.744Z"
   },
   {
    "duration": 42,
    "start_time": "2024-09-27T04:21:42.918Z"
   },
   {
    "duration": 10,
    "start_time": "2024-09-27T04:21:42.970Z"
   },
   {
    "duration": 10,
    "start_time": "2024-09-27T04:21:42.981Z"
   },
   {
    "duration": 732,
    "start_time": "2024-09-27T04:21:42.992Z"
   },
   {
    "duration": 206,
    "start_time": "2024-09-27T04:21:43.726Z"
   },
   {
    "duration": 12,
    "start_time": "2024-09-27T04:21:43.934Z"
   },
   {
    "duration": 423,
    "start_time": "2024-09-27T04:21:43.948Z"
   },
   {
    "duration": 68,
    "start_time": "2024-09-27T04:21:44.373Z"
   },
   {
    "duration": 37,
    "start_time": "2024-09-27T04:21:44.443Z"
   },
   {
    "duration": 11,
    "start_time": "2024-09-27T04:21:44.483Z"
   },
   {
    "duration": 18,
    "start_time": "2024-09-27T04:21:44.498Z"
   },
   {
    "duration": 9,
    "start_time": "2024-09-27T04:21:44.518Z"
   },
   {
    "duration": 3,
    "start_time": "2024-09-27T04:21:44.529Z"
   },
   {
    "duration": 4,
    "start_time": "2024-09-27T04:21:44.533Z"
   },
   {
    "duration": 36,
    "start_time": "2024-09-27T04:21:44.538Z"
   },
   {
    "duration": 3,
    "start_time": "2024-09-27T04:21:44.575Z"
   },
   {
    "duration": 767,
    "start_time": "2024-09-27T04:21:44.579Z"
   },
   {
    "duration": 778,
    "start_time": "2024-09-27T04:21:45.347Z"
   },
   {
    "duration": 9,
    "start_time": "2024-09-27T04:21:46.126Z"
   },
   {
    "duration": 7,
    "start_time": "2024-09-27T04:21:46.137Z"
   },
   {
    "duration": 25,
    "start_time": "2024-09-27T04:21:46.145Z"
   },
   {
    "duration": 7,
    "start_time": "2024-09-27T04:21:46.171Z"
   },
   {
    "duration": 5,
    "start_time": "2024-09-27T04:21:46.180Z"
   },
   {
    "duration": 13,
    "start_time": "2024-09-27T04:21:46.187Z"
   },
   {
    "duration": 8,
    "start_time": "2024-09-27T04:21:46.202Z"
   },
   {
    "duration": 14,
    "start_time": "2024-09-27T04:21:46.211Z"
   },
   {
    "duration": 71,
    "start_time": "2024-09-27T04:21:46.227Z"
   },
   {
    "duration": 4,
    "start_time": "2024-09-27T04:21:46.300Z"
   },
   {
    "duration": 8,
    "start_time": "2024-09-27T04:21:46.306Z"
   },
   {
    "duration": 10,
    "start_time": "2024-09-27T04:21:46.315Z"
   },
   {
    "duration": 12,
    "start_time": "2024-09-27T04:21:46.328Z"
   },
   {
    "duration": 31,
    "start_time": "2024-09-27T04:21:46.342Z"
   },
   {
    "duration": 218,
    "start_time": "2024-09-27T04:21:46.375Z"
   },
   {
    "duration": 123,
    "start_time": "2024-09-27T04:21:46.594Z"
   },
   {
    "duration": 217,
    "start_time": "2024-09-27T04:21:46.719Z"
   },
   {
    "duration": 13,
    "start_time": "2024-09-27T04:21:46.938Z"
   },
   {
    "duration": 202,
    "start_time": "2024-09-27T04:21:46.953Z"
   },
   {
    "duration": 18,
    "start_time": "2024-09-27T04:21:47.159Z"
   },
   {
    "duration": 123,
    "start_time": "2024-09-27T04:21:47.181Z"
   },
   {
    "duration": 7,
    "start_time": "2024-09-27T04:21:47.305Z"
   },
   {
    "duration": 969,
    "start_time": "2024-09-27T04:21:47.314Z"
   },
   {
    "duration": 38,
    "start_time": "2024-09-27T04:21:48.286Z"
   },
   {
    "duration": 283,
    "start_time": "2024-09-27T04:25:44.130Z"
   },
   {
    "duration": 129,
    "start_time": "2024-09-27T04:25:44.415Z"
   },
   {
    "duration": 167,
    "start_time": "2024-09-27T04:25:44.545Z"
   },
   {
    "duration": 49,
    "start_time": "2024-09-27T04:25:44.715Z"
   },
   {
    "duration": 10,
    "start_time": "2024-09-27T04:25:44.772Z"
   },
   {
    "duration": 10,
    "start_time": "2024-09-27T04:25:44.783Z"
   },
   {
    "duration": 735,
    "start_time": "2024-09-27T04:25:44.795Z"
   },
   {
    "duration": 201,
    "start_time": "2024-09-27T04:25:45.532Z"
   },
   {
    "duration": 12,
    "start_time": "2024-09-27T04:25:45.734Z"
   },
   {
    "duration": 423,
    "start_time": "2024-09-27T04:25:45.747Z"
   },
   {
    "duration": 70,
    "start_time": "2024-09-27T04:25:46.171Z"
   },
   {
    "duration": 35,
    "start_time": "2024-09-27T04:25:46.243Z"
   },
   {
    "duration": 13,
    "start_time": "2024-09-27T04:25:46.280Z"
   },
   {
    "duration": 21,
    "start_time": "2024-09-27T04:25:46.297Z"
   },
   {
    "duration": 24,
    "start_time": "2024-09-27T04:25:46.320Z"
   },
   {
    "duration": 24,
    "start_time": "2024-09-27T04:25:46.346Z"
   },
   {
    "duration": 4,
    "start_time": "2024-09-27T04:25:46.372Z"
   },
   {
    "duration": 4,
    "start_time": "2024-09-27T04:25:46.378Z"
   },
   {
    "duration": 4,
    "start_time": "2024-09-27T04:25:46.384Z"
   },
   {
    "duration": 833,
    "start_time": "2024-09-27T04:25:46.390Z"
   },
   {
    "duration": 775,
    "start_time": "2024-09-27T04:25:47.225Z"
   },
   {
    "duration": 8,
    "start_time": "2024-09-27T04:25:48.002Z"
   },
   {
    "duration": 6,
    "start_time": "2024-09-27T04:25:48.012Z"
   },
   {
    "duration": 6,
    "start_time": "2024-09-27T04:25:48.020Z"
   },
   {
    "duration": 6,
    "start_time": "2024-09-27T04:25:48.027Z"
   },
   {
    "duration": 35,
    "start_time": "2024-09-27T04:25:48.035Z"
   },
   {
    "duration": 12,
    "start_time": "2024-09-27T04:25:48.072Z"
   },
   {
    "duration": 8,
    "start_time": "2024-09-27T04:25:48.086Z"
   },
   {
    "duration": 15,
    "start_time": "2024-09-27T04:25:48.096Z"
   },
   {
    "duration": 59,
    "start_time": "2024-09-27T04:25:48.112Z"
   },
   {
    "duration": 4,
    "start_time": "2024-09-27T04:25:48.173Z"
   },
   {
    "duration": 7,
    "start_time": "2024-09-27T04:25:48.179Z"
   },
   {
    "duration": 10,
    "start_time": "2024-09-27T04:25:48.187Z"
   },
   {
    "duration": 7,
    "start_time": "2024-09-27T04:25:48.199Z"
   },
   {
    "duration": 7,
    "start_time": "2024-09-27T04:25:48.208Z"
   },
   {
    "duration": 224,
    "start_time": "2024-09-27T04:25:48.216Z"
   },
   {
    "duration": 118,
    "start_time": "2024-09-27T04:25:48.441Z"
   },
   {
    "duration": 209,
    "start_time": "2024-09-27T04:25:48.561Z"
   },
   {
    "duration": 14,
    "start_time": "2024-09-27T04:25:48.772Z"
   },
   {
    "duration": 189,
    "start_time": "2024-09-27T04:25:48.787Z"
   },
   {
    "duration": 9,
    "start_time": "2024-09-27T04:25:48.980Z"
   },
   {
    "duration": 124,
    "start_time": "2024-09-27T04:25:48.991Z"
   },
   {
    "duration": 8,
    "start_time": "2024-09-27T04:25:49.116Z"
   },
   {
    "duration": 961,
    "start_time": "2024-09-27T04:25:49.125Z"
   },
   {
    "duration": 40,
    "start_time": "2024-09-27T04:25:50.088Z"
   },
   {
    "duration": 4,
    "start_time": "2024-09-27T04:31:08.621Z"
   },
   {
    "duration": 41,
    "start_time": "2024-09-27T04:33:06.773Z"
   },
   {
    "duration": 4,
    "start_time": "2024-09-27T04:33:07.828Z"
   },
   {
    "duration": 564,
    "start_time": "2024-09-27T04:33:33.144Z"
   },
   {
    "duration": 3,
    "start_time": "2024-09-27T04:33:59.682Z"
   },
   {
    "duration": 195,
    "start_time": "2024-09-27T04:34:33.441Z"
   },
   {
    "duration": 11,
    "start_time": "2024-09-27T04:34:43.941Z"
   },
   {
    "duration": 925,
    "start_time": "2024-09-27T04:34:44.796Z"
   },
   {
    "duration": 46,
    "start_time": "2024-09-27T04:34:59.688Z"
   },
   {
    "duration": 4,
    "start_time": "2024-09-27T04:35:00.535Z"
   },
   {
    "duration": 63,
    "start_time": "2024-09-27T04:43:16.170Z"
   },
   {
    "duration": 3,
    "start_time": "2024-09-27T04:43:48.301Z"
   },
   {
    "duration": 70,
    "start_time": "2024-09-27T04:46:17.839Z"
   },
   {
    "duration": 5,
    "start_time": "2024-09-27T04:46:26.977Z"
   },
   {
    "duration": 65,
    "start_time": "2024-09-27T04:46:59.543Z"
   },
   {
    "duration": 4,
    "start_time": "2024-09-27T04:47:00.562Z"
   },
   {
    "duration": 4,
    "start_time": "2024-09-27T04:47:22.807Z"
   },
   {
    "duration": 1748,
    "start_time": "2024-09-27T04:48:00.232Z"
   },
   {
    "duration": 7,
    "start_time": "2024-09-27T04:48:01.982Z"
   },
   {
    "duration": 283,
    "start_time": "2024-09-27T04:51:39.733Z"
   },
   {
    "duration": 136,
    "start_time": "2024-09-27T04:51:40.019Z"
   },
   {
    "duration": 175,
    "start_time": "2024-09-27T04:51:40.157Z"
   },
   {
    "duration": 48,
    "start_time": "2024-09-27T04:51:40.334Z"
   },
   {
    "duration": 10,
    "start_time": "2024-09-27T04:51:40.385Z"
   },
   {
    "duration": 10,
    "start_time": "2024-09-27T04:51:40.396Z"
   },
   {
    "duration": 733,
    "start_time": "2024-09-27T04:51:40.407Z"
   },
   {
    "duration": 215,
    "start_time": "2024-09-27T04:51:41.141Z"
   },
   {
    "duration": 16,
    "start_time": "2024-09-27T04:51:41.358Z"
   },
   {
    "duration": 416,
    "start_time": "2024-09-27T04:51:41.376Z"
   },
   {
    "duration": 79,
    "start_time": "2024-09-27T04:51:41.794Z"
   },
   {
    "duration": 24,
    "start_time": "2024-09-27T04:51:41.875Z"
   },
   {
    "duration": 11,
    "start_time": "2024-09-27T04:51:41.901Z"
   },
   {
    "duration": 18,
    "start_time": "2024-09-27T04:51:41.916Z"
   },
   {
    "duration": 36,
    "start_time": "2024-09-27T04:51:41.936Z"
   },
   {
    "duration": 4,
    "start_time": "2024-09-27T04:51:41.974Z"
   },
   {
    "duration": 4,
    "start_time": "2024-09-27T04:51:41.979Z"
   },
   {
    "duration": 4,
    "start_time": "2024-09-27T04:51:41.984Z"
   },
   {
    "duration": 3,
    "start_time": "2024-09-27T04:51:41.990Z"
   },
   {
    "duration": 788,
    "start_time": "2024-09-27T04:51:41.994Z"
   },
   {
    "duration": 771,
    "start_time": "2024-09-27T04:51:42.784Z"
   },
   {
    "duration": 14,
    "start_time": "2024-09-27T04:51:43.557Z"
   },
   {
    "duration": 7,
    "start_time": "2024-09-27T04:51:43.573Z"
   },
   {
    "duration": 7,
    "start_time": "2024-09-27T04:51:43.581Z"
   },
   {
    "duration": 6,
    "start_time": "2024-09-27T04:51:43.589Z"
   },
   {
    "duration": 6,
    "start_time": "2024-09-27T04:51:43.597Z"
   },
   {
    "duration": 13,
    "start_time": "2024-09-27T04:51:43.604Z"
   },
   {
    "duration": 7,
    "start_time": "2024-09-27T04:51:43.619Z"
   },
   {
    "duration": 54,
    "start_time": "2024-09-27T04:51:43.628Z"
   },
   {
    "duration": 30,
    "start_time": "2024-09-27T04:51:43.684Z"
   },
   {
    "duration": 12,
    "start_time": "2024-09-27T04:51:43.716Z"
   },
   {
    "duration": 7,
    "start_time": "2024-09-27T04:51:43.730Z"
   },
   {
    "duration": 10,
    "start_time": "2024-09-27T04:51:43.739Z"
   },
   {
    "duration": 8,
    "start_time": "2024-09-27T04:51:43.771Z"
   },
   {
    "duration": 7,
    "start_time": "2024-09-27T04:51:43.781Z"
   },
   {
    "duration": 209,
    "start_time": "2024-09-27T04:51:43.789Z"
   },
   {
    "duration": 119,
    "start_time": "2024-09-27T04:51:44.000Z"
   },
   {
    "duration": 205,
    "start_time": "2024-09-27T04:51:44.121Z"
   },
   {
    "duration": 16,
    "start_time": "2024-09-27T04:51:44.328Z"
   },
   {
    "duration": 198,
    "start_time": "2024-09-27T04:51:44.346Z"
   },
   {
    "duration": 8,
    "start_time": "2024-09-27T04:51:44.549Z"
   },
   {
    "duration": 119,
    "start_time": "2024-09-27T04:51:44.559Z"
   },
   {
    "duration": 7,
    "start_time": "2024-09-27T04:51:44.680Z"
   },
   {
    "duration": 962,
    "start_time": "2024-09-27T04:51:44.688Z"
   },
   {
    "duration": 51,
    "start_time": "2024-09-27T04:51:45.652Z"
   },
   {
    "duration": 4,
    "start_time": "2024-09-27T04:51:45.706Z"
   },
   {
    "duration": 1764,
    "start_time": "2024-09-27T04:51:45.712Z"
   },
   {
    "duration": 6,
    "start_time": "2024-09-27T04:51:47.477Z"
   },
   {
    "duration": 289,
    "start_time": "2024-09-27T04:54:26.841Z"
   },
   {
    "duration": 142,
    "start_time": "2024-09-27T04:54:27.133Z"
   },
   {
    "duration": 198,
    "start_time": "2024-09-27T04:54:27.277Z"
   },
   {
    "duration": 80,
    "start_time": "2024-09-27T04:54:27.476Z"
   },
   {
    "duration": 10,
    "start_time": "2024-09-27T04:54:27.559Z"
   },
   {
    "duration": 9,
    "start_time": "2024-09-27T04:54:27.571Z"
   },
   {
    "duration": 813,
    "start_time": "2024-09-27T04:54:27.582Z"
   },
   {
    "duration": 195,
    "start_time": "2024-09-27T04:54:28.396Z"
   },
   {
    "duration": 11,
    "start_time": "2024-09-27T04:54:28.594Z"
   },
   {
    "duration": 429,
    "start_time": "2024-09-27T04:54:28.606Z"
   },
   {
    "duration": 78,
    "start_time": "2024-09-27T04:54:29.037Z"
   },
   {
    "duration": 23,
    "start_time": "2024-09-27T04:54:29.117Z"
   },
   {
    "duration": 28,
    "start_time": "2024-09-27T04:54:29.142Z"
   },
   {
    "duration": 19,
    "start_time": "2024-09-27T04:54:29.173Z"
   },
   {
    "duration": 9,
    "start_time": "2024-09-27T04:54:29.194Z"
   },
   {
    "duration": 3,
    "start_time": "2024-09-27T04:54:29.205Z"
   },
   {
    "duration": 4,
    "start_time": "2024-09-27T04:54:29.210Z"
   },
   {
    "duration": 3,
    "start_time": "2024-09-27T04:54:29.215Z"
   },
   {
    "duration": 3,
    "start_time": "2024-09-27T04:54:29.220Z"
   },
   {
    "duration": 789,
    "start_time": "2024-09-27T04:54:29.224Z"
   },
   {
    "duration": 761,
    "start_time": "2024-09-27T04:54:30.015Z"
   },
   {
    "duration": 12,
    "start_time": "2024-09-27T04:54:30.778Z"
   },
   {
    "duration": 10,
    "start_time": "2024-09-27T04:54:30.791Z"
   },
   {
    "duration": 7,
    "start_time": "2024-09-27T04:54:30.804Z"
   },
   {
    "duration": 5,
    "start_time": "2024-09-27T04:54:30.814Z"
   },
   {
    "duration": 5,
    "start_time": "2024-09-27T04:54:30.821Z"
   },
   {
    "duration": 43,
    "start_time": "2024-09-27T04:54:30.828Z"
   },
   {
    "duration": 7,
    "start_time": "2024-09-27T04:54:30.873Z"
   },
   {
    "duration": 15,
    "start_time": "2024-09-27T04:54:30.881Z"
   },
   {
    "duration": 31,
    "start_time": "2024-09-27T04:54:30.898Z"
   },
   {
    "duration": 4,
    "start_time": "2024-09-27T04:54:30.931Z"
   },
   {
    "duration": 36,
    "start_time": "2024-09-27T04:54:30.937Z"
   },
   {
    "duration": 14,
    "start_time": "2024-09-27T04:54:30.974Z"
   },
   {
    "duration": 6,
    "start_time": "2024-09-27T04:54:30.990Z"
   },
   {
    "duration": 6,
    "start_time": "2024-09-27T04:54:30.998Z"
   },
   {
    "duration": 206,
    "start_time": "2024-09-27T04:54:31.006Z"
   },
   {
    "duration": 124,
    "start_time": "2024-09-27T04:54:31.214Z"
   },
   {
    "duration": 206,
    "start_time": "2024-09-27T04:54:31.340Z"
   },
   {
    "duration": 14,
    "start_time": "2024-09-27T04:54:31.548Z"
   },
   {
    "duration": 181,
    "start_time": "2024-09-27T04:54:31.570Z"
   },
   {
    "duration": 17,
    "start_time": "2024-09-27T04:54:31.756Z"
   },
   {
    "duration": 134,
    "start_time": "2024-09-27T04:54:31.774Z"
   },
   {
    "duration": 7,
    "start_time": "2024-09-27T04:54:31.910Z"
   },
   {
    "duration": 945,
    "start_time": "2024-09-27T04:54:31.919Z"
   },
   {
    "duration": 60,
    "start_time": "2024-09-27T04:54:32.870Z"
   },
   {
    "duration": 5,
    "start_time": "2024-09-27T04:54:32.931Z"
   },
   {
    "duration": 1795,
    "start_time": "2024-09-27T04:54:32.937Z"
   },
   {
    "duration": 6,
    "start_time": "2024-09-27T04:54:34.734Z"
   },
   {
    "duration": 295,
    "start_time": "2024-09-27T04:56:04.832Z"
   },
   {
    "duration": 134,
    "start_time": "2024-09-27T04:56:05.130Z"
   },
   {
    "duration": 163,
    "start_time": "2024-09-27T04:56:05.266Z"
   },
   {
    "duration": 46,
    "start_time": "2024-09-27T04:56:05.431Z"
   },
   {
    "duration": 10,
    "start_time": "2024-09-27T04:56:05.479Z"
   },
   {
    "duration": 9,
    "start_time": "2024-09-27T04:56:05.490Z"
   },
   {
    "duration": 745,
    "start_time": "2024-09-27T04:56:05.501Z"
   },
   {
    "duration": 209,
    "start_time": "2024-09-27T04:56:06.247Z"
   },
   {
    "duration": 19,
    "start_time": "2024-09-27T04:56:06.458Z"
   },
   {
    "duration": 439,
    "start_time": "2024-09-27T04:56:06.478Z"
   },
   {
    "duration": 88,
    "start_time": "2024-09-27T04:56:06.918Z"
   },
   {
    "duration": 23,
    "start_time": "2024-09-27T04:56:07.008Z"
   },
   {
    "duration": 13,
    "start_time": "2024-09-27T04:56:07.033Z"
   },
   {
    "duration": 23,
    "start_time": "2024-09-27T04:56:07.069Z"
   },
   {
    "duration": 10,
    "start_time": "2024-09-27T04:56:07.094Z"
   },
   {
    "duration": 4,
    "start_time": "2024-09-27T04:56:07.105Z"
   },
   {
    "duration": 3,
    "start_time": "2024-09-27T04:56:07.111Z"
   },
   {
    "duration": 4,
    "start_time": "2024-09-27T04:56:07.116Z"
   },
   {
    "duration": 3,
    "start_time": "2024-09-27T04:56:07.123Z"
   },
   {
    "duration": 814,
    "start_time": "2024-09-27T04:56:07.128Z"
   },
   {
    "duration": 782,
    "start_time": "2024-09-27T04:56:07.944Z"
   },
   {
    "duration": 8,
    "start_time": "2024-09-27T04:56:08.728Z"
   },
   {
    "duration": 6,
    "start_time": "2024-09-27T04:56:08.738Z"
   },
   {
    "duration": 28,
    "start_time": "2024-09-27T04:56:08.746Z"
   },
   {
    "duration": 6,
    "start_time": "2024-09-27T04:56:08.775Z"
   },
   {
    "duration": 5,
    "start_time": "2024-09-27T04:56:08.783Z"
   },
   {
    "duration": 13,
    "start_time": "2024-09-27T04:56:08.789Z"
   },
   {
    "duration": 6,
    "start_time": "2024-09-27T04:56:08.804Z"
   },
   {
    "duration": 15,
    "start_time": "2024-09-27T04:56:08.812Z"
   },
   {
    "duration": 68,
    "start_time": "2024-09-27T04:56:08.829Z"
   },
   {
    "duration": 6,
    "start_time": "2024-09-27T04:56:08.899Z"
   },
   {
    "duration": 7,
    "start_time": "2024-09-27T04:56:08.907Z"
   },
   {
    "duration": 10,
    "start_time": "2024-09-27T04:56:08.915Z"
   },
   {
    "duration": 7,
    "start_time": "2024-09-27T04:56:08.927Z"
   },
   {
    "duration": 38,
    "start_time": "2024-09-27T04:56:08.936Z"
   },
   {
    "duration": 210,
    "start_time": "2024-09-27T04:56:08.976Z"
   },
   {
    "duration": 135,
    "start_time": "2024-09-27T04:56:09.188Z"
   },
   {
    "duration": 206,
    "start_time": "2024-09-27T04:56:09.325Z"
   },
   {
    "duration": 14,
    "start_time": "2024-09-27T04:56:09.532Z"
   },
   {
    "duration": 194,
    "start_time": "2024-09-27T04:56:09.548Z"
   },
   {
    "duration": 9,
    "start_time": "2024-09-27T04:56:09.747Z"
   },
   {
    "duration": 123,
    "start_time": "2024-09-27T04:56:09.757Z"
   },
   {
    "duration": 10,
    "start_time": "2024-09-27T04:56:09.881Z"
   },
   {
    "duration": 948,
    "start_time": "2024-09-27T04:56:09.893Z"
   },
   {
    "duration": 50,
    "start_time": "2024-09-27T04:56:10.844Z"
   },
   {
    "duration": 4,
    "start_time": "2024-09-27T04:56:10.895Z"
   },
   {
    "duration": 77,
    "start_time": "2024-09-27T04:56:10.901Z"
   },
   {
    "duration": 5,
    "start_time": "2024-09-27T04:56:10.979Z"
   },
   {
    "duration": 747,
    "start_time": "2024-09-27T04:56:10.985Z"
   },
   {
    "duration": 689,
    "start_time": "2024-09-27T04:56:49.641Z"
   },
   {
    "duration": 663,
    "start_time": "2024-09-27T05:11:44.778Z"
   },
   {
    "duration": 187,
    "start_time": "2024-09-27T05:12:32.074Z"
   },
   {
    "duration": 334,
    "start_time": "2024-09-27T05:12:37.408Z"
   },
   {
    "duration": 7,
    "start_time": "2024-09-27T05:12:39.730Z"
   },
   {
    "duration": 14,
    "start_time": "2024-09-27T05:13:35.590Z"
   },
   {
    "duration": 27,
    "start_time": "2024-09-27T05:13:44.677Z"
   },
   {
    "duration": 156,
    "start_time": "2024-09-27T22:50:04.642Z"
   },
   {
    "duration": 316,
    "start_time": "2024-09-27T22:50:17.053Z"
   },
   {
    "duration": 1882,
    "start_time": "2024-09-27T22:50:17.372Z"
   },
   {
    "duration": 188,
    "start_time": "2024-09-27T22:50:19.256Z"
   },
   {
    "duration": 58,
    "start_time": "2024-09-27T22:50:19.447Z"
   },
   {
    "duration": 13,
    "start_time": "2024-09-27T22:50:19.508Z"
   },
   {
    "duration": 12,
    "start_time": "2024-09-27T22:50:19.523Z"
   },
   {
    "duration": 800,
    "start_time": "2024-09-27T22:50:19.537Z"
   },
   {
    "duration": 186,
    "start_time": "2024-09-27T22:50:20.339Z"
   },
   {
    "duration": 13,
    "start_time": "2024-09-27T22:50:20.526Z"
   },
   {
    "duration": 397,
    "start_time": "2024-09-27T22:50:20.540Z"
   },
   {
    "duration": 84,
    "start_time": "2024-09-27T22:50:20.940Z"
   },
   {
    "duration": 22,
    "start_time": "2024-09-27T22:50:21.026Z"
   },
   {
    "duration": 11,
    "start_time": "2024-09-27T22:50:21.050Z"
   },
   {
    "duration": 17,
    "start_time": "2024-09-27T22:50:21.065Z"
   },
   {
    "duration": 9,
    "start_time": "2024-09-27T22:50:21.084Z"
   },
   {
    "duration": 32,
    "start_time": "2024-09-27T22:50:21.094Z"
   },
   {
    "duration": 3,
    "start_time": "2024-09-27T22:50:21.128Z"
   },
   {
    "duration": 3,
    "start_time": "2024-09-27T22:50:21.133Z"
   },
   {
    "duration": 3,
    "start_time": "2024-09-27T22:50:21.138Z"
   },
   {
    "duration": 735,
    "start_time": "2024-09-27T22:50:21.143Z"
   },
   {
    "duration": 732,
    "start_time": "2024-09-27T22:50:21.880Z"
   },
   {
    "duration": 15,
    "start_time": "2024-09-27T22:50:22.614Z"
   },
   {
    "duration": 6,
    "start_time": "2024-09-27T22:50:22.631Z"
   },
   {
    "duration": 6,
    "start_time": "2024-09-27T22:50:22.639Z"
   },
   {
    "duration": 6,
    "start_time": "2024-09-27T22:50:22.647Z"
   },
   {
    "duration": 6,
    "start_time": "2024-09-27T22:50:22.654Z"
   },
   {
    "duration": 12,
    "start_time": "2024-09-27T22:50:22.662Z"
   },
   {
    "duration": 7,
    "start_time": "2024-09-27T22:50:22.676Z"
   },
   {
    "duration": 14,
    "start_time": "2024-09-27T22:50:22.725Z"
   },
   {
    "duration": 31,
    "start_time": "2024-09-27T22:50:22.741Z"
   },
   {
    "duration": 3,
    "start_time": "2024-09-27T22:50:22.774Z"
   },
   {
    "duration": 6,
    "start_time": "2024-09-27T22:50:22.779Z"
   },
   {
    "duration": 9,
    "start_time": "2024-09-27T22:50:22.787Z"
   },
   {
    "duration": 6,
    "start_time": "2024-09-27T22:50:22.826Z"
   },
   {
    "duration": 6,
    "start_time": "2024-09-27T22:50:22.834Z"
   },
   {
    "duration": 217,
    "start_time": "2024-09-27T22:50:22.842Z"
   },
   {
    "duration": 123,
    "start_time": "2024-09-27T22:50:23.061Z"
   },
   {
    "duration": 203,
    "start_time": "2024-09-27T22:50:23.186Z"
   },
   {
    "duration": 13,
    "start_time": "2024-09-27T22:50:23.392Z"
   },
   {
    "duration": 194,
    "start_time": "2024-09-27T22:50:23.406Z"
   },
   {
    "duration": 8,
    "start_time": "2024-09-27T22:50:23.605Z"
   },
   {
    "duration": 118,
    "start_time": "2024-09-27T22:50:23.624Z"
   },
   {
    "duration": 11,
    "start_time": "2024-09-27T22:50:23.744Z"
   },
   {
    "duration": 956,
    "start_time": "2024-09-27T22:50:23.756Z"
   },
   {
    "duration": 49,
    "start_time": "2024-09-27T22:50:24.715Z"
   },
   {
    "duration": 3,
    "start_time": "2024-09-27T22:50:24.766Z"
   },
   {
    "duration": 76,
    "start_time": "2024-09-27T22:50:24.771Z"
   },
   {
    "duration": 5,
    "start_time": "2024-09-27T22:50:24.848Z"
   },
   {
    "duration": 725,
    "start_time": "2024-09-27T22:50:24.854Z"
   },
   {
    "duration": 265,
    "start_time": "2024-09-27T22:50:53.580Z"
   },
   {
    "duration": 4,
    "start_time": "2024-09-27T22:50:54.320Z"
   },
   {
    "duration": 317,
    "start_time": "2024-09-27T22:53:13.432Z"
   },
   {
    "duration": 134,
    "start_time": "2024-09-27T22:53:13.752Z"
   },
   {
    "duration": 189,
    "start_time": "2024-09-27T22:53:13.887Z"
   },
   {
    "duration": 57,
    "start_time": "2024-09-27T22:53:14.078Z"
   },
   {
    "duration": 9,
    "start_time": "2024-09-27T22:53:14.137Z"
   },
   {
    "duration": 10,
    "start_time": "2024-09-27T22:53:14.148Z"
   },
   {
    "duration": 809,
    "start_time": "2024-09-27T22:53:14.160Z"
   },
   {
    "duration": 194,
    "start_time": "2024-09-27T22:53:14.970Z"
   },
   {
    "duration": 11,
    "start_time": "2024-09-27T22:53:15.166Z"
   },
   {
    "duration": 405,
    "start_time": "2024-09-27T22:53:15.181Z"
   },
   {
    "duration": 85,
    "start_time": "2024-09-27T22:53:15.588Z"
   },
   {
    "duration": 23,
    "start_time": "2024-09-27T22:53:15.675Z"
   },
   {
    "duration": 25,
    "start_time": "2024-09-27T22:53:15.700Z"
   },
   {
    "duration": 18,
    "start_time": "2024-09-27T22:53:15.727Z"
   },
   {
    "duration": 10,
    "start_time": "2024-09-27T22:53:15.746Z"
   },
   {
    "duration": 4,
    "start_time": "2024-09-27T22:53:15.757Z"
   },
   {
    "duration": 4,
    "start_time": "2024-09-27T22:53:15.762Z"
   },
   {
    "duration": 4,
    "start_time": "2024-09-27T22:53:15.767Z"
   },
   {
    "duration": 3,
    "start_time": "2024-09-27T22:53:15.772Z"
   },
   {
    "duration": 749,
    "start_time": "2024-09-27T22:53:15.777Z"
   },
   {
    "duration": 714,
    "start_time": "2024-09-27T22:53:16.527Z"
   },
   {
    "duration": 8,
    "start_time": "2024-09-27T22:53:17.243Z"
   },
   {
    "duration": 6,
    "start_time": "2024-09-27T22:53:17.253Z"
   },
   {
    "duration": 7,
    "start_time": "2024-09-27T22:53:17.261Z"
   },
   {
    "duration": 6,
    "start_time": "2024-09-27T22:53:17.269Z"
   },
   {
    "duration": 6,
    "start_time": "2024-09-27T22:53:17.277Z"
   },
   {
    "duration": 51,
    "start_time": "2024-09-27T22:53:17.284Z"
   },
   {
    "duration": 7,
    "start_time": "2024-09-27T22:53:17.339Z"
   },
   {
    "duration": 15,
    "start_time": "2024-09-27T22:53:17.347Z"
   },
   {
    "duration": 32,
    "start_time": "2024-09-27T22:53:17.364Z"
   },
   {
    "duration": 27,
    "start_time": "2024-09-27T22:53:17.397Z"
   },
   {
    "duration": 6,
    "start_time": "2024-09-27T22:53:17.426Z"
   },
   {
    "duration": 10,
    "start_time": "2024-09-27T22:53:17.434Z"
   },
   {
    "duration": 7,
    "start_time": "2024-09-27T22:53:17.446Z"
   },
   {
    "duration": 7,
    "start_time": "2024-09-27T22:53:17.455Z"
   },
   {
    "duration": 228,
    "start_time": "2024-09-27T22:53:17.463Z"
   },
   {
    "duration": 131,
    "start_time": "2024-09-27T22:53:17.693Z"
   },
   {
    "duration": 212,
    "start_time": "2024-09-27T22:53:17.826Z"
   },
   {
    "duration": 13,
    "start_time": "2024-09-27T22:53:18.039Z"
   },
   {
    "duration": 192,
    "start_time": "2024-09-27T22:53:18.054Z"
   },
   {
    "duration": 9,
    "start_time": "2024-09-27T22:53:18.248Z"
   },
   {
    "duration": 123,
    "start_time": "2024-09-27T22:53:18.259Z"
   },
   {
    "duration": 10,
    "start_time": "2024-09-27T22:53:18.384Z"
   },
   {
    "duration": 943,
    "start_time": "2024-09-27T22:53:18.395Z"
   },
   {
    "duration": 45,
    "start_time": "2024-09-27T22:53:19.340Z"
   },
   {
    "duration": 4,
    "start_time": "2024-09-27T22:53:19.386Z"
   },
   {
    "duration": 278,
    "start_time": "2024-09-27T22:53:19.391Z"
   },
   {
    "duration": 4,
    "start_time": "2024-09-27T22:53:19.671Z"
   },
   {
    "duration": 307,
    "start_time": "2024-09-27T22:54:23.253Z"
   },
   {
    "duration": 129,
    "start_time": "2024-09-27T22:54:23.562Z"
   },
   {
    "duration": 163,
    "start_time": "2024-09-27T22:54:23.693Z"
   },
   {
    "duration": 45,
    "start_time": "2024-09-27T22:54:23.859Z"
   },
   {
    "duration": 19,
    "start_time": "2024-09-27T22:54:23.905Z"
   },
   {
    "duration": 9,
    "start_time": "2024-09-27T22:54:23.926Z"
   },
   {
    "duration": 716,
    "start_time": "2024-09-27T22:54:23.937Z"
   },
   {
    "duration": 188,
    "start_time": "2024-09-27T22:54:24.654Z"
   },
   {
    "duration": 10,
    "start_time": "2024-09-27T22:54:24.844Z"
   },
   {
    "duration": 408,
    "start_time": "2024-09-27T22:54:24.857Z"
   },
   {
    "duration": 79,
    "start_time": "2024-09-27T22:54:25.267Z"
   },
   {
    "duration": 22,
    "start_time": "2024-09-27T22:54:25.348Z"
   },
   {
    "duration": 11,
    "start_time": "2024-09-27T22:54:25.371Z"
   },
   {
    "duration": 18,
    "start_time": "2024-09-27T22:54:25.383Z"
   },
   {
    "duration": 27,
    "start_time": "2024-09-27T22:54:25.402Z"
   },
   {
    "duration": 3,
    "start_time": "2024-09-27T22:54:25.431Z"
   },
   {
    "duration": 3,
    "start_time": "2024-09-27T22:54:25.436Z"
   },
   {
    "duration": 3,
    "start_time": "2024-09-27T22:54:25.441Z"
   },
   {
    "duration": 3,
    "start_time": "2024-09-27T22:54:25.446Z"
   },
   {
    "duration": 725,
    "start_time": "2024-09-27T22:54:25.450Z"
   },
   {
    "duration": 720,
    "start_time": "2024-09-27T22:54:26.176Z"
   },
   {
    "duration": 11,
    "start_time": "2024-09-27T22:54:26.898Z"
   },
   {
    "duration": 15,
    "start_time": "2024-09-27T22:54:26.911Z"
   },
   {
    "duration": 8,
    "start_time": "2024-09-27T22:54:26.927Z"
   },
   {
    "duration": 7,
    "start_time": "2024-09-27T22:54:26.936Z"
   },
   {
    "duration": 5,
    "start_time": "2024-09-27T22:54:26.945Z"
   },
   {
    "duration": 13,
    "start_time": "2024-09-27T22:54:26.951Z"
   },
   {
    "duration": 7,
    "start_time": "2024-09-27T22:54:26.968Z"
   },
   {
    "duration": 47,
    "start_time": "2024-09-27T22:54:26.977Z"
   },
   {
    "duration": 30,
    "start_time": "2024-09-27T22:54:27.026Z"
   },
   {
    "duration": 4,
    "start_time": "2024-09-27T22:54:27.058Z"
   },
   {
    "duration": 7,
    "start_time": "2024-09-27T22:54:27.064Z"
   },
   {
    "duration": 10,
    "start_time": "2024-09-27T22:54:27.072Z"
   },
   {
    "duration": 7,
    "start_time": "2024-09-27T22:54:27.084Z"
   },
   {
    "duration": 5,
    "start_time": "2024-09-27T22:54:27.124Z"
   },
   {
    "duration": 197,
    "start_time": "2024-09-27T22:54:27.131Z"
   },
   {
    "duration": 125,
    "start_time": "2024-09-27T22:54:27.330Z"
   },
   {
    "duration": 223,
    "start_time": "2024-09-27T22:54:27.457Z"
   },
   {
    "duration": 13,
    "start_time": "2024-09-27T22:54:27.682Z"
   },
   {
    "duration": 196,
    "start_time": "2024-09-27T22:54:27.696Z"
   },
   {
    "duration": 8,
    "start_time": "2024-09-27T22:54:27.894Z"
   },
   {
    "duration": 129,
    "start_time": "2024-09-27T22:54:27.904Z"
   },
   {
    "duration": 7,
    "start_time": "2024-09-27T22:54:28.035Z"
   },
   {
    "duration": 950,
    "start_time": "2024-09-27T22:54:28.044Z"
   },
   {
    "duration": 54,
    "start_time": "2024-09-27T22:54:28.996Z"
   },
   {
    "duration": 4,
    "start_time": "2024-09-27T22:54:29.052Z"
   },
   {
    "duration": 77,
    "start_time": "2024-09-27T22:54:29.058Z"
   },
   {
    "duration": 5,
    "start_time": "2024-09-27T22:54:29.137Z"
   },
   {
    "duration": 734,
    "start_time": "2024-09-27T22:54:29.143Z"
   },
   {
    "duration": 662,
    "start_time": "2024-09-27T22:54:52.223Z"
   },
   {
    "duration": 1663,
    "start_time": "2024-09-27T22:55:36.271Z"
   },
   {
    "duration": 5,
    "start_time": "2024-09-27T22:55:37.936Z"
   },
   {
    "duration": 272,
    "start_time": "2024-09-27T22:57:28.695Z"
   },
   {
    "duration": 128,
    "start_time": "2024-09-27T22:57:28.969Z"
   },
   {
    "duration": 164,
    "start_time": "2024-09-27T22:57:29.100Z"
   },
   {
    "duration": 41,
    "start_time": "2024-09-27T22:57:29.266Z"
   },
   {
    "duration": 19,
    "start_time": "2024-09-27T22:57:29.310Z"
   },
   {
    "duration": 9,
    "start_time": "2024-09-27T22:57:29.331Z"
   },
   {
    "duration": 712,
    "start_time": "2024-09-27T22:57:29.342Z"
   },
   {
    "duration": 184,
    "start_time": "2024-09-27T22:57:30.056Z"
   },
   {
    "duration": 11,
    "start_time": "2024-09-27T22:57:30.242Z"
   },
   {
    "duration": 413,
    "start_time": "2024-09-27T22:57:30.255Z"
   },
   {
    "duration": 75,
    "start_time": "2024-09-27T22:57:30.670Z"
   },
   {
    "duration": 23,
    "start_time": "2024-09-27T22:57:30.747Z"
   },
   {
    "duration": 15,
    "start_time": "2024-09-27T22:57:30.772Z"
   },
   {
    "duration": 39,
    "start_time": "2024-09-27T22:57:30.791Z"
   },
   {
    "duration": 9,
    "start_time": "2024-09-27T22:57:30.831Z"
   },
   {
    "duration": 3,
    "start_time": "2024-09-27T22:57:30.842Z"
   },
   {
    "duration": 4,
    "start_time": "2024-09-27T22:57:30.847Z"
   },
   {
    "duration": 3,
    "start_time": "2024-09-27T22:57:30.852Z"
   },
   {
    "duration": 4,
    "start_time": "2024-09-27T22:57:30.857Z"
   },
   {
    "duration": 749,
    "start_time": "2024-09-27T22:57:30.862Z"
   },
   {
    "duration": 716,
    "start_time": "2024-09-27T22:57:31.613Z"
   },
   {
    "duration": 7,
    "start_time": "2024-09-27T22:57:32.331Z"
   },
   {
    "duration": 7,
    "start_time": "2024-09-27T22:57:32.340Z"
   },
   {
    "duration": 7,
    "start_time": "2024-09-27T22:57:32.349Z"
   },
   {
    "duration": 6,
    "start_time": "2024-09-27T22:57:32.358Z"
   },
   {
    "duration": 6,
    "start_time": "2024-09-27T22:57:32.366Z"
   },
   {
    "duration": 53,
    "start_time": "2024-09-27T22:57:32.374Z"
   },
   {
    "duration": 7,
    "start_time": "2024-09-27T22:57:32.429Z"
   },
   {
    "duration": 14,
    "start_time": "2024-09-27T22:57:32.438Z"
   },
   {
    "duration": 29,
    "start_time": "2024-09-27T22:57:32.455Z"
   },
   {
    "duration": 4,
    "start_time": "2024-09-27T22:57:32.486Z"
   },
   {
    "duration": 33,
    "start_time": "2024-09-27T22:57:32.491Z"
   },
   {
    "duration": 11,
    "start_time": "2024-09-27T22:57:32.525Z"
   },
   {
    "duration": 10,
    "start_time": "2024-09-27T22:57:32.538Z"
   },
   {
    "duration": 8,
    "start_time": "2024-09-27T22:57:32.551Z"
   },
   {
    "duration": 202,
    "start_time": "2024-09-27T22:57:32.562Z"
   },
   {
    "duration": 121,
    "start_time": "2024-09-27T22:57:32.766Z"
   },
   {
    "duration": 202,
    "start_time": "2024-09-27T22:57:32.889Z"
   },
   {
    "duration": 12,
    "start_time": "2024-09-27T22:57:33.093Z"
   },
   {
    "duration": 188,
    "start_time": "2024-09-27T22:57:33.107Z"
   },
   {
    "duration": 8,
    "start_time": "2024-09-27T22:57:33.301Z"
   },
   {
    "duration": 127,
    "start_time": "2024-09-27T22:57:33.311Z"
   },
   {
    "duration": 8,
    "start_time": "2024-09-27T22:57:33.440Z"
   },
   {
    "duration": 952,
    "start_time": "2024-09-27T22:57:33.449Z"
   },
   {
    "duration": 50,
    "start_time": "2024-09-27T22:57:34.403Z"
   },
   {
    "duration": 4,
    "start_time": "2024-09-27T22:57:34.455Z"
   },
   {
    "duration": 1506,
    "start_time": "2024-09-27T22:57:34.460Z"
   },
   {
    "duration": 5,
    "start_time": "2024-09-27T22:57:35.967Z"
   },
   {
    "duration": 1637,
    "start_time": "2024-09-27T22:57:54.690Z"
   },
   {
    "duration": 5,
    "start_time": "2024-09-27T22:57:56.329Z"
   },
   {
    "duration": 283,
    "start_time": "2024-09-27T22:59:02.187Z"
   },
   {
    "duration": 127,
    "start_time": "2024-09-27T22:59:02.472Z"
   },
   {
    "duration": 168,
    "start_time": "2024-09-27T22:59:02.601Z"
   },
   {
    "duration": 41,
    "start_time": "2024-09-27T22:59:02.771Z"
   },
   {
    "duration": 11,
    "start_time": "2024-09-27T22:59:02.825Z"
   },
   {
    "duration": 9,
    "start_time": "2024-09-27T22:59:02.837Z"
   },
   {
    "duration": 716,
    "start_time": "2024-09-27T22:59:02.848Z"
   },
   {
    "duration": 192,
    "start_time": "2024-09-27T22:59:03.566Z"
   },
   {
    "duration": 12,
    "start_time": "2024-09-27T22:59:03.760Z"
   },
   {
    "duration": 405,
    "start_time": "2024-09-27T22:59:03.774Z"
   },
   {
    "duration": 81,
    "start_time": "2024-09-27T22:59:04.181Z"
   },
   {
    "duration": 24,
    "start_time": "2024-09-27T22:59:04.264Z"
   },
   {
    "duration": 11,
    "start_time": "2024-09-27T22:59:04.290Z"
   },
   {
    "duration": 17,
    "start_time": "2024-09-27T22:59:04.325Z"
   },
   {
    "duration": 9,
    "start_time": "2024-09-27T22:59:04.343Z"
   },
   {
    "duration": 3,
    "start_time": "2024-09-27T22:59:04.354Z"
   },
   {
    "duration": 4,
    "start_time": "2024-09-27T22:59:04.358Z"
   },
   {
    "duration": 3,
    "start_time": "2024-09-27T22:59:04.364Z"
   },
   {
    "duration": 3,
    "start_time": "2024-09-27T22:59:04.369Z"
   },
   {
    "duration": 750,
    "start_time": "2024-09-27T22:59:04.374Z"
   },
   {
    "duration": 720,
    "start_time": "2024-09-27T22:59:05.126Z"
   },
   {
    "duration": 8,
    "start_time": "2024-09-27T22:59:05.848Z"
   },
   {
    "duration": 8,
    "start_time": "2024-09-27T22:59:05.857Z"
   },
   {
    "duration": 6,
    "start_time": "2024-09-27T22:59:05.867Z"
   },
   {
    "duration": 6,
    "start_time": "2024-09-27T22:59:05.875Z"
   },
   {
    "duration": 5,
    "start_time": "2024-09-27T22:59:05.883Z"
   },
   {
    "duration": 45,
    "start_time": "2024-09-27T22:59:05.890Z"
   },
   {
    "duration": 6,
    "start_time": "2024-09-27T22:59:05.937Z"
   },
   {
    "duration": 14,
    "start_time": "2024-09-27T22:59:05.945Z"
   },
   {
    "duration": 32,
    "start_time": "2024-09-27T22:59:05.960Z"
   },
   {
    "duration": 3,
    "start_time": "2024-09-27T22:59:05.994Z"
   },
   {
    "duration": 7,
    "start_time": "2024-09-27T22:59:06.024Z"
   },
   {
    "duration": 9,
    "start_time": "2024-09-27T22:59:06.033Z"
   },
   {
    "duration": 8,
    "start_time": "2024-09-27T22:59:06.043Z"
   },
   {
    "duration": 7,
    "start_time": "2024-09-27T22:59:06.052Z"
   },
   {
    "duration": 227,
    "start_time": "2024-09-27T22:59:06.060Z"
   },
   {
    "duration": 124,
    "start_time": "2024-09-27T22:59:06.288Z"
   },
   {
    "duration": 203,
    "start_time": "2024-09-27T22:59:06.414Z"
   },
   {
    "duration": 13,
    "start_time": "2024-09-27T22:59:06.619Z"
   },
   {
    "duration": 182,
    "start_time": "2024-09-27T22:59:06.634Z"
   },
   {
    "duration": 9,
    "start_time": "2024-09-27T22:59:06.825Z"
   },
   {
    "duration": 116,
    "start_time": "2024-09-27T22:59:06.835Z"
   },
   {
    "duration": 10,
    "start_time": "2024-09-27T22:59:06.953Z"
   },
   {
    "duration": 956,
    "start_time": "2024-09-27T22:59:06.964Z"
   },
   {
    "duration": 48,
    "start_time": "2024-09-27T22:59:07.924Z"
   },
   {
    "duration": 3,
    "start_time": "2024-09-27T22:59:07.974Z"
   },
   {
    "duration": 78,
    "start_time": "2024-09-27T22:59:07.979Z"
   },
   {
    "duration": 4,
    "start_time": "2024-09-27T22:59:08.059Z"
   },
   {
    "duration": 721,
    "start_time": "2024-09-27T22:59:08.065Z"
   },
   {
    "duration": 284,
    "start_time": "2024-09-27T22:59:51.840Z"
   },
   {
    "duration": 4,
    "start_time": "2024-09-27T22:59:53.034Z"
   },
   {
    "duration": 318,
    "start_time": "2024-09-27T23:00:10.031Z"
   },
   {
    "duration": 129,
    "start_time": "2024-09-27T23:00:10.351Z"
   },
   {
    "duration": 160,
    "start_time": "2024-09-27T23:00:10.482Z"
   },
   {
    "duration": 40,
    "start_time": "2024-09-27T23:00:10.644Z"
   },
   {
    "duration": 10,
    "start_time": "2024-09-27T23:00:10.687Z"
   },
   {
    "duration": 27,
    "start_time": "2024-09-27T23:00:10.698Z"
   },
   {
    "duration": 711,
    "start_time": "2024-09-27T23:00:10.727Z"
   },
   {
    "duration": 188,
    "start_time": "2024-09-27T23:00:11.439Z"
   },
   {
    "duration": 11,
    "start_time": "2024-09-27T23:00:11.628Z"
   },
   {
    "duration": 409,
    "start_time": "2024-09-27T23:00:11.640Z"
   },
   {
    "duration": 73,
    "start_time": "2024-09-27T23:00:12.051Z"
   },
   {
    "duration": 22,
    "start_time": "2024-09-27T23:00:12.125Z"
   },
   {
    "duration": 11,
    "start_time": "2024-09-27T23:00:12.149Z"
   },
   {
    "duration": 17,
    "start_time": "2024-09-27T23:00:12.163Z"
   },
   {
    "duration": 9,
    "start_time": "2024-09-27T23:00:12.182Z"
   },
   {
    "duration": 3,
    "start_time": "2024-09-27T23:00:12.193Z"
   },
   {
    "duration": 4,
    "start_time": "2024-09-27T23:00:12.224Z"
   },
   {
    "duration": 4,
    "start_time": "2024-09-27T23:00:12.229Z"
   },
   {
    "duration": 3,
    "start_time": "2024-09-27T23:00:12.234Z"
   },
   {
    "duration": 721,
    "start_time": "2024-09-27T23:00:12.239Z"
   },
   {
    "duration": 719,
    "start_time": "2024-09-27T23:00:12.962Z"
   },
   {
    "duration": 8,
    "start_time": "2024-09-27T23:00:13.683Z"
   },
   {
    "duration": 7,
    "start_time": "2024-09-27T23:00:13.692Z"
   },
   {
    "duration": 24,
    "start_time": "2024-09-27T23:00:13.700Z"
   },
   {
    "duration": 6,
    "start_time": "2024-09-27T23:00:13.725Z"
   },
   {
    "duration": 6,
    "start_time": "2024-09-27T23:00:13.732Z"
   },
   {
    "duration": 13,
    "start_time": "2024-09-27T23:00:13.739Z"
   },
   {
    "duration": 7,
    "start_time": "2024-09-27T23:00:13.754Z"
   },
   {
    "duration": 14,
    "start_time": "2024-09-27T23:00:13.762Z"
   },
   {
    "duration": 67,
    "start_time": "2024-09-27T23:00:13.777Z"
   },
   {
    "duration": 3,
    "start_time": "2024-09-27T23:00:13.846Z"
   },
   {
    "duration": 9,
    "start_time": "2024-09-27T23:00:13.851Z"
   },
   {
    "duration": 17,
    "start_time": "2024-09-27T23:00:13.861Z"
   },
   {
    "duration": 7,
    "start_time": "2024-09-27T23:00:13.879Z"
   },
   {
    "duration": 7,
    "start_time": "2024-09-27T23:00:13.888Z"
   },
   {
    "duration": 194,
    "start_time": "2024-09-27T23:00:13.923Z"
   },
   {
    "duration": 121,
    "start_time": "2024-09-27T23:00:14.119Z"
   },
   {
    "duration": 206,
    "start_time": "2024-09-27T23:00:14.241Z"
   },
   {
    "duration": 13,
    "start_time": "2024-09-27T23:00:14.448Z"
   },
   {
    "duration": 186,
    "start_time": "2024-09-27T23:00:14.463Z"
   },
   {
    "duration": 9,
    "start_time": "2024-09-27T23:00:14.654Z"
   },
   {
    "duration": 126,
    "start_time": "2024-09-27T23:00:14.664Z"
   },
   {
    "duration": 8,
    "start_time": "2024-09-27T23:00:14.792Z"
   },
   {
    "duration": 952,
    "start_time": "2024-09-27T23:00:14.801Z"
   },
   {
    "duration": 46,
    "start_time": "2024-09-27T23:00:15.755Z"
   },
   {
    "duration": 3,
    "start_time": "2024-09-27T23:00:15.803Z"
   },
   {
    "duration": 265,
    "start_time": "2024-09-27T23:00:15.824Z"
   },
   {
    "duration": 4,
    "start_time": "2024-09-27T23:00:16.091Z"
   },
   {
    "duration": 318,
    "start_time": "2024-09-27T23:01:23.131Z"
   },
   {
    "duration": 125,
    "start_time": "2024-09-27T23:01:23.451Z"
   },
   {
    "duration": 161,
    "start_time": "2024-09-27T23:01:23.578Z"
   },
   {
    "duration": 41,
    "start_time": "2024-09-27T23:01:23.741Z"
   },
   {
    "duration": 10,
    "start_time": "2024-09-27T23:01:23.785Z"
   },
   {
    "duration": 28,
    "start_time": "2024-09-27T23:01:23.797Z"
   },
   {
    "duration": 716,
    "start_time": "2024-09-27T23:01:23.826Z"
   },
   {
    "duration": 191,
    "start_time": "2024-09-27T23:01:24.544Z"
   },
   {
    "duration": 11,
    "start_time": "2024-09-27T23:01:24.737Z"
   },
   {
    "duration": 418,
    "start_time": "2024-09-27T23:01:24.750Z"
   },
   {
    "duration": 86,
    "start_time": "2024-09-27T23:01:25.169Z"
   },
   {
    "duration": 21,
    "start_time": "2024-09-27T23:01:25.257Z"
   },
   {
    "duration": 11,
    "start_time": "2024-09-27T23:01:25.280Z"
   },
   {
    "duration": 33,
    "start_time": "2024-09-27T23:01:25.296Z"
   },
   {
    "duration": 10,
    "start_time": "2024-09-27T23:01:25.331Z"
   },
   {
    "duration": 5,
    "start_time": "2024-09-27T23:01:25.342Z"
   },
   {
    "duration": 4,
    "start_time": "2024-09-27T23:01:25.348Z"
   },
   {
    "duration": 4,
    "start_time": "2024-09-27T23:01:25.353Z"
   },
   {
    "duration": 4,
    "start_time": "2024-09-27T23:01:25.358Z"
   },
   {
    "duration": 745,
    "start_time": "2024-09-27T23:01:25.363Z"
   },
   {
    "duration": 742,
    "start_time": "2024-09-27T23:01:26.110Z"
   },
   {
    "duration": 8,
    "start_time": "2024-09-27T23:01:26.854Z"
   },
   {
    "duration": 7,
    "start_time": "2024-09-27T23:01:26.863Z"
   },
   {
    "duration": 7,
    "start_time": "2024-09-27T23:01:26.871Z"
   },
   {
    "duration": 6,
    "start_time": "2024-09-27T23:01:26.879Z"
   },
   {
    "duration": 5,
    "start_time": "2024-09-27T23:01:26.887Z"
   },
   {
    "duration": 11,
    "start_time": "2024-09-27T23:01:26.925Z"
   },
   {
    "duration": 7,
    "start_time": "2024-09-27T23:01:26.938Z"
   },
   {
    "duration": 15,
    "start_time": "2024-09-27T23:01:26.946Z"
   },
   {
    "duration": 31,
    "start_time": "2024-09-27T23:01:26.963Z"
   },
   {
    "duration": 30,
    "start_time": "2024-09-27T23:01:26.996Z"
   },
   {
    "duration": 7,
    "start_time": "2024-09-27T23:01:27.029Z"
   },
   {
    "duration": 9,
    "start_time": "2024-09-27T23:01:27.038Z"
   },
   {
    "duration": 7,
    "start_time": "2024-09-27T23:01:27.049Z"
   },
   {
    "duration": 6,
    "start_time": "2024-09-27T23:01:27.058Z"
   },
   {
    "duration": 235,
    "start_time": "2024-09-27T23:01:27.065Z"
   },
   {
    "duration": 123,
    "start_time": "2024-09-27T23:01:27.303Z"
   },
   {
    "duration": 211,
    "start_time": "2024-09-27T23:01:27.428Z"
   },
   {
    "duration": 14,
    "start_time": "2024-09-27T23:01:27.641Z"
   },
   {
    "duration": 196,
    "start_time": "2024-09-27T23:01:27.657Z"
   },
   {
    "duration": 8,
    "start_time": "2024-09-27T23:01:27.857Z"
   },
   {
    "duration": 127,
    "start_time": "2024-09-27T23:01:27.867Z"
   },
   {
    "duration": 11,
    "start_time": "2024-09-27T23:01:27.996Z"
   },
   {
    "duration": 944,
    "start_time": "2024-09-27T23:01:28.008Z"
   },
   {
    "duration": 43,
    "start_time": "2024-09-27T23:01:28.954Z"
   },
   {
    "duration": 4,
    "start_time": "2024-09-27T23:01:28.999Z"
   },
   {
    "duration": 283,
    "start_time": "2024-09-27T23:01:29.005Z"
   },
   {
    "duration": 4,
    "start_time": "2024-09-27T23:01:29.289Z"
   },
   {
    "duration": 167,
    "start_time": "2024-09-27T23:01:56.603Z"
   },
   {
    "duration": 12,
    "start_time": "2024-09-27T23:01:57.217Z"
   },
   {
    "duration": 284,
    "start_time": "2024-09-27T23:02:04.984Z"
   },
   {
    "duration": 131,
    "start_time": "2024-09-27T23:02:05.271Z"
   },
   {
    "duration": 166,
    "start_time": "2024-09-27T23:02:05.404Z"
   },
   {
    "duration": 41,
    "start_time": "2024-09-27T23:02:05.573Z"
   },
   {
    "duration": 16,
    "start_time": "2024-09-27T23:02:05.616Z"
   },
   {
    "duration": 9,
    "start_time": "2024-09-27T23:02:05.633Z"
   },
   {
    "duration": 710,
    "start_time": "2024-09-27T23:02:05.644Z"
   },
   {
    "duration": 192,
    "start_time": "2024-09-27T23:02:06.356Z"
   },
   {
    "duration": 11,
    "start_time": "2024-09-27T23:02:06.550Z"
   },
   {
    "duration": 397,
    "start_time": "2024-09-27T23:02:06.565Z"
   },
   {
    "duration": 71,
    "start_time": "2024-09-27T23:02:06.964Z"
   },
   {
    "duration": 21,
    "start_time": "2024-09-27T23:02:07.037Z"
   },
   {
    "duration": 12,
    "start_time": "2024-09-27T23:02:07.060Z"
   },
   {
    "duration": 17,
    "start_time": "2024-09-27T23:02:07.074Z"
   },
   {
    "duration": 32,
    "start_time": "2024-09-27T23:02:07.092Z"
   },
   {
    "duration": 3,
    "start_time": "2024-09-27T23:02:07.126Z"
   },
   {
    "duration": 3,
    "start_time": "2024-09-27T23:02:07.131Z"
   },
   {
    "duration": 4,
    "start_time": "2024-09-27T23:02:07.136Z"
   },
   {
    "duration": 4,
    "start_time": "2024-09-27T23:02:07.141Z"
   },
   {
    "duration": 770,
    "start_time": "2024-09-27T23:02:07.147Z"
   },
   {
    "duration": 740,
    "start_time": "2024-09-27T23:02:07.923Z"
   },
   {
    "duration": 9,
    "start_time": "2024-09-27T23:02:08.664Z"
   },
   {
    "duration": 7,
    "start_time": "2024-09-27T23:02:08.675Z"
   },
   {
    "duration": 7,
    "start_time": "2024-09-27T23:02:08.684Z"
   },
   {
    "duration": 6,
    "start_time": "2024-09-27T23:02:08.693Z"
   },
   {
    "duration": 28,
    "start_time": "2024-09-27T23:02:08.700Z"
   },
   {
    "duration": 12,
    "start_time": "2024-09-27T23:02:08.729Z"
   },
   {
    "duration": 7,
    "start_time": "2024-09-27T23:02:08.745Z"
   },
   {
    "duration": 16,
    "start_time": "2024-09-27T23:02:08.753Z"
   },
   {
    "duration": 63,
    "start_time": "2024-09-27T23:02:08.770Z"
   },
   {
    "duration": 4,
    "start_time": "2024-09-27T23:02:08.835Z"
   },
   {
    "duration": 7,
    "start_time": "2024-09-27T23:02:08.841Z"
   },
   {
    "duration": 9,
    "start_time": "2024-09-27T23:02:08.850Z"
   },
   {
    "duration": 7,
    "start_time": "2024-09-27T23:02:08.861Z"
   },
   {
    "duration": 7,
    "start_time": "2024-09-27T23:02:08.869Z"
   },
   {
    "duration": 224,
    "start_time": "2024-09-27T23:02:08.878Z"
   },
   {
    "duration": 124,
    "start_time": "2024-09-27T23:02:09.104Z"
   },
   {
    "duration": 218,
    "start_time": "2024-09-27T23:02:09.230Z"
   },
   {
    "duration": 13,
    "start_time": "2024-09-27T23:02:09.449Z"
   },
   {
    "duration": 191,
    "start_time": "2024-09-27T23:02:09.463Z"
   },
   {
    "duration": 8,
    "start_time": "2024-09-27T23:02:09.656Z"
   },
   {
    "duration": 123,
    "start_time": "2024-09-27T23:02:09.666Z"
   },
   {
    "duration": 6,
    "start_time": "2024-09-27T23:02:09.791Z"
   },
   {
    "duration": 940,
    "start_time": "2024-09-27T23:02:09.799Z"
   },
   {
    "duration": 44,
    "start_time": "2024-09-27T23:02:10.741Z"
   },
   {
    "duration": 4,
    "start_time": "2024-09-27T23:02:10.786Z"
   },
   {
    "duration": 80,
    "start_time": "2024-09-27T23:02:10.792Z"
   },
   {
    "duration": 4,
    "start_time": "2024-09-27T23:02:10.874Z"
   },
   {
    "duration": 738,
    "start_time": "2024-09-27T23:02:10.880Z"
   },
   {
    "duration": 65,
    "start_time": "2024-09-27T23:03:15.370Z"
   },
   {
    "duration": 4,
    "start_time": "2024-09-27T23:03:16.150Z"
   },
   {
    "duration": 662,
    "start_time": "2024-09-27T23:03:20.300Z"
   },
   {
    "duration": 642,
    "start_time": "2024-09-27T23:03:45.058Z"
   },
   {
    "duration": 274,
    "start_time": "2024-09-27T23:04:15.989Z"
   },
   {
    "duration": 144,
    "start_time": "2024-09-27T23:04:16.265Z"
   },
   {
    "duration": 167,
    "start_time": "2024-09-27T23:04:16.411Z"
   },
   {
    "duration": 46,
    "start_time": "2024-09-27T23:04:16.579Z"
   },
   {
    "duration": 9,
    "start_time": "2024-09-27T23:04:16.628Z"
   },
   {
    "duration": 8,
    "start_time": "2024-09-27T23:04:16.639Z"
   },
   {
    "duration": 714,
    "start_time": "2024-09-27T23:04:16.649Z"
   },
   {
    "duration": 210,
    "start_time": "2024-09-27T23:04:17.366Z"
   },
   {
    "duration": 12,
    "start_time": "2024-09-27T23:04:17.577Z"
   },
   {
    "duration": 413,
    "start_time": "2024-09-27T23:04:17.590Z"
   },
   {
    "duration": 78,
    "start_time": "2024-09-27T23:04:18.004Z"
   },
   {
    "duration": 22,
    "start_time": "2024-09-27T23:04:18.084Z"
   },
   {
    "duration": 26,
    "start_time": "2024-09-27T23:04:18.108Z"
   },
   {
    "duration": 17,
    "start_time": "2024-09-27T23:04:18.139Z"
   },
   {
    "duration": 10,
    "start_time": "2024-09-27T23:04:18.157Z"
   },
   {
    "duration": 4,
    "start_time": "2024-09-27T23:04:18.168Z"
   },
   {
    "duration": 3,
    "start_time": "2024-09-27T23:04:18.174Z"
   },
   {
    "duration": 4,
    "start_time": "2024-09-27T23:04:18.178Z"
   },
   {
    "duration": 12,
    "start_time": "2024-09-27T23:04:18.184Z"
   },
   {
    "duration": 752,
    "start_time": "2024-09-27T23:04:18.197Z"
   },
   {
    "duration": 708,
    "start_time": "2024-09-27T23:04:18.950Z"
   },
   {
    "duration": 8,
    "start_time": "2024-09-27T23:04:19.659Z"
   },
   {
    "duration": 6,
    "start_time": "2024-09-27T23:04:19.668Z"
   },
   {
    "duration": 7,
    "start_time": "2024-09-27T23:04:19.676Z"
   },
   {
    "duration": 7,
    "start_time": "2024-09-27T23:04:19.684Z"
   },
   {
    "duration": 32,
    "start_time": "2024-09-27T23:04:19.692Z"
   },
   {
    "duration": 12,
    "start_time": "2024-09-27T23:04:19.726Z"
   },
   {
    "duration": 7,
    "start_time": "2024-09-27T23:04:19.740Z"
   },
   {
    "duration": 13,
    "start_time": "2024-09-27T23:04:19.749Z"
   },
   {
    "duration": 29,
    "start_time": "2024-09-27T23:04:19.765Z"
   },
   {
    "duration": 29,
    "start_time": "2024-09-27T23:04:19.796Z"
   },
   {
    "duration": 8,
    "start_time": "2024-09-27T23:04:19.827Z"
   },
   {
    "duration": 9,
    "start_time": "2024-09-27T23:04:19.837Z"
   },
   {
    "duration": 7,
    "start_time": "2024-09-27T23:04:19.848Z"
   },
   {
    "duration": 7,
    "start_time": "2024-09-27T23:04:19.856Z"
   },
   {
    "duration": 224,
    "start_time": "2024-09-27T23:04:19.864Z"
   },
   {
    "duration": 119,
    "start_time": "2024-09-27T23:04:20.089Z"
   },
   {
    "duration": 203,
    "start_time": "2024-09-27T23:04:20.209Z"
   },
   {
    "duration": 18,
    "start_time": "2024-09-27T23:04:20.413Z"
   },
   {
    "duration": 187,
    "start_time": "2024-09-27T23:04:20.432Z"
   },
   {
    "duration": 8,
    "start_time": "2024-09-27T23:04:20.625Z"
   },
   {
    "duration": 120,
    "start_time": "2024-09-27T23:04:20.635Z"
   },
   {
    "duration": 7,
    "start_time": "2024-09-27T23:04:20.757Z"
   },
   {
    "duration": 948,
    "start_time": "2024-09-27T23:04:20.765Z"
   },
   {
    "duration": 54,
    "start_time": "2024-09-27T23:04:21.714Z"
   },
   {
    "duration": 4,
    "start_time": "2024-09-27T23:04:21.770Z"
   },
   {
    "duration": 77,
    "start_time": "2024-09-27T23:04:21.775Z"
   },
   {
    "duration": 5,
    "start_time": "2024-09-27T23:04:21.854Z"
   },
   {
    "duration": 766,
    "start_time": "2024-09-27T23:04:21.861Z"
   },
   {
    "duration": 516,
    "start_time": "2024-09-27T23:06:06.383Z"
   },
   {
    "duration": 136,
    "start_time": "2024-09-27T23:06:52.853Z"
   },
   {
    "duration": 5,
    "start_time": "2024-09-27T23:07:03.732Z"
   },
   {
    "duration": 195,
    "start_time": "2024-09-27T23:09:15.958Z"
   },
   {
    "duration": 435,
    "start_time": "2024-09-27T23:09:25.799Z"
   },
   {
    "duration": 532,
    "start_time": "2024-09-27T23:10:43.534Z"
   },
   {
    "duration": 5,
    "start_time": "2024-09-27T23:10:45.055Z"
   },
   {
    "duration": 488,
    "start_time": "2024-09-27T23:14:17.302Z"
   },
   {
    "duration": 5,
    "start_time": "2024-09-27T23:14:18.680Z"
   },
   {
    "duration": 387,
    "start_time": "2024-09-27T23:14:25.966Z"
   },
   {
    "duration": 370,
    "start_time": "2024-09-27T23:31:24.666Z"
   },
   {
    "duration": 376,
    "start_time": "2024-09-27T23:31:29.862Z"
   },
   {
    "duration": 76,
    "start_time": "2024-09-27T23:31:34.273Z"
   },
   {
    "duration": 2071,
    "start_time": "2024-09-27T23:41:08.200Z"
   },
   {
    "duration": 38,
    "start_time": "2024-09-28T00:09:47.125Z"
   },
   {
    "duration": 110,
    "start_time": "2024-09-28T00:10:55.307Z"
   },
   {
    "duration": 212,
    "start_time": "2024-09-28T00:11:23.337Z"
   },
   {
    "duration": 4,
    "start_time": "2024-09-28T00:11:25.724Z"
   },
   {
    "duration": 4,
    "start_time": "2024-09-28T00:12:01.977Z"
   },
   {
    "duration": 63,
    "start_time": "2024-09-28T00:12:53.724Z"
   },
   {
    "duration": 294,
    "start_time": "2024-09-28T00:13:53.922Z"
   },
   {
    "duration": 4,
    "start_time": "2024-09-28T00:13:55.004Z"
   },
   {
    "duration": 133,
    "start_time": "2024-09-28T00:14:55.514Z"
   },
   {
    "duration": 193,
    "start_time": "2024-09-28T00:16:38.516Z"
   },
   {
    "duration": 154,
    "start_time": "2024-09-28T00:16:50.819Z"
   },
   {
    "duration": 14,
    "start_time": "2024-09-28T00:17:41.326Z"
   },
   {
    "duration": 14,
    "start_time": "2024-09-28T00:17:48.634Z"
   },
   {
    "duration": 6,
    "start_time": "2024-09-28T00:24:48.331Z"
   },
   {
    "duration": 4,
    "start_time": "2024-09-28T00:24:49.310Z"
   },
   {
    "duration": 2,
    "start_time": "2024-09-28T00:24:59.339Z"
   },
   {
    "duration": 3,
    "start_time": "2024-09-28T00:25:00.360Z"
   },
   {
    "duration": 140,
    "start_time": "2024-09-28T00:32:03.524Z"
   },
   {
    "duration": 239,
    "start_time": "2024-09-28T00:36:37.459Z"
   },
   {
    "duration": 5,
    "start_time": "2024-09-28T00:51:54.841Z"
   },
   {
    "duration": 3,
    "start_time": "2024-09-28T00:52:09.113Z"
   },
   {
    "duration": 3,
    "start_time": "2024-09-28T00:52:35.456Z"
   },
   {
    "duration": 19,
    "start_time": "2024-09-28T01:02:35.294Z"
   },
   {
    "duration": 19,
    "start_time": "2024-09-28T01:04:28.999Z"
   },
   {
    "duration": 18,
    "start_time": "2024-09-28T01:05:28.831Z"
   },
   {
    "duration": 19,
    "start_time": "2024-09-28T01:06:25.768Z"
   },
   {
    "duration": 18,
    "start_time": "2024-09-28T01:07:42.079Z"
   },
   {
    "duration": 18,
    "start_time": "2024-09-28T02:56:10.648Z"
   },
   {
    "duration": 15,
    "start_time": "2024-09-28T03:19:27.790Z"
   },
   {
    "duration": 359,
    "start_time": "2024-09-28T15:16:51.577Z"
   },
   {
    "duration": 1778,
    "start_time": "2024-09-28T15:16:51.939Z"
   },
   {
    "duration": 163,
    "start_time": "2024-09-28T15:16:53.719Z"
   },
   {
    "duration": 64,
    "start_time": "2024-09-28T15:16:53.885Z"
   },
   {
    "duration": 11,
    "start_time": "2024-09-28T15:16:53.951Z"
   },
   {
    "duration": 10,
    "start_time": "2024-09-28T15:16:53.964Z"
   },
   {
    "duration": 781,
    "start_time": "2024-09-28T15:16:53.976Z"
   },
   {
    "duration": 197,
    "start_time": "2024-09-28T15:16:54.759Z"
   },
   {
    "duration": 19,
    "start_time": "2024-09-28T15:16:54.958Z"
   },
   {
    "duration": 402,
    "start_time": "2024-09-28T15:16:54.981Z"
   },
   {
    "duration": 87,
    "start_time": "2024-09-28T15:16:55.385Z"
   },
   {
    "duration": 23,
    "start_time": "2024-09-28T15:16:55.473Z"
   },
   {
    "duration": 13,
    "start_time": "2024-09-28T15:16:55.498Z"
   },
   {
    "duration": 17,
    "start_time": "2024-09-28T15:16:55.513Z"
   },
   {
    "duration": 9,
    "start_time": "2024-09-28T15:16:55.532Z"
   },
   {
    "duration": 3,
    "start_time": "2024-09-28T15:16:55.570Z"
   },
   {
    "duration": 3,
    "start_time": "2024-09-28T15:16:55.575Z"
   },
   {
    "duration": 3,
    "start_time": "2024-09-28T15:16:55.580Z"
   },
   {
    "duration": 3,
    "start_time": "2024-09-28T15:16:55.585Z"
   },
   {
    "duration": 780,
    "start_time": "2024-09-28T15:16:55.590Z"
   },
   {
    "duration": 789,
    "start_time": "2024-09-28T15:16:56.372Z"
   },
   {
    "duration": 20,
    "start_time": "2024-09-28T15:16:57.163Z"
   },
   {
    "duration": 8,
    "start_time": "2024-09-28T15:16:57.185Z"
   },
   {
    "duration": 6,
    "start_time": "2024-09-28T15:16:57.195Z"
   },
   {
    "duration": 7,
    "start_time": "2024-09-28T15:16:57.203Z"
   },
   {
    "duration": 6,
    "start_time": "2024-09-28T15:16:57.212Z"
   },
   {
    "duration": 12,
    "start_time": "2024-09-28T15:16:57.220Z"
   },
   {
    "duration": 40,
    "start_time": "2024-09-28T15:16:57.236Z"
   },
   {
    "duration": 15,
    "start_time": "2024-09-28T15:16:57.277Z"
   },
   {
    "duration": 32,
    "start_time": "2024-09-28T15:16:57.294Z"
   },
   {
    "duration": 4,
    "start_time": "2024-09-28T15:16:57.327Z"
   },
   {
    "duration": 7,
    "start_time": "2024-09-28T15:16:57.333Z"
   },
   {
    "duration": 9,
    "start_time": "2024-09-28T15:16:57.370Z"
   },
   {
    "duration": 8,
    "start_time": "2024-09-28T15:16:57.381Z"
   },
   {
    "duration": 6,
    "start_time": "2024-09-28T15:16:57.391Z"
   },
   {
    "duration": 260,
    "start_time": "2024-09-28T15:16:57.398Z"
   },
   {
    "duration": 124,
    "start_time": "2024-09-28T15:16:57.660Z"
   },
   {
    "duration": 209,
    "start_time": "2024-09-28T15:16:57.786Z"
   },
   {
    "duration": 14,
    "start_time": "2024-09-28T15:16:57.997Z"
   },
   {
    "duration": 197,
    "start_time": "2024-09-28T15:16:58.012Z"
   },
   {
    "duration": 10,
    "start_time": "2024-09-28T15:16:58.211Z"
   },
   {
    "duration": 126,
    "start_time": "2024-09-28T15:16:58.222Z"
   },
   {
    "duration": 10,
    "start_time": "2024-09-28T15:16:58.350Z"
   },
   {
    "duration": 941,
    "start_time": "2024-09-28T15:16:58.371Z"
   },
   {
    "duration": 57,
    "start_time": "2024-09-28T15:16:59.314Z"
   },
   {
    "duration": 4,
    "start_time": "2024-09-28T15:16:59.372Z"
   },
   {
    "duration": 301,
    "start_time": "2024-09-28T15:16:59.379Z"
   },
   {
    "duration": 146,
    "start_time": "2024-09-28T15:16:59.682Z"
   },
   {
    "duration": 15,
    "start_time": "2024-09-28T15:16:59.830Z"
   },
   {
    "duration": 115,
    "start_time": "2024-09-28T15:16:59.847Z"
   },
   {
    "duration": 0,
    "start_time": "2024-09-28T15:16:59.963Z"
   },
   {
    "duration": 0,
    "start_time": "2024-09-28T15:16:59.969Z"
   },
   {
    "duration": 0,
    "start_time": "2024-09-28T15:16:59.970Z"
   },
   {
    "duration": 0,
    "start_time": "2024-09-28T15:16:59.971Z"
   },
   {
    "duration": 0,
    "start_time": "2024-09-28T15:16:59.972Z"
   },
   {
    "duration": 2,
    "start_time": "2024-09-28T15:17:17.446Z"
   },
   {
    "duration": 2,
    "start_time": "2024-09-28T15:17:17.451Z"
   },
   {
    "duration": 136,
    "start_time": "2024-09-28T15:17:17.456Z"
   },
   {
    "duration": 38,
    "start_time": "2024-09-28T15:17:17.594Z"
   },
   {
    "duration": 9,
    "start_time": "2024-09-28T15:17:17.634Z"
   },
   {
    "duration": 25,
    "start_time": "2024-09-28T15:17:17.646Z"
   },
   {
    "duration": 708,
    "start_time": "2024-09-28T15:17:17.673Z"
   },
   {
    "duration": 148,
    "start_time": "2024-09-28T15:17:18.382Z"
   },
   {
    "duration": 11,
    "start_time": "2024-09-28T15:17:18.532Z"
   },
   {
    "duration": 395,
    "start_time": "2024-09-28T15:17:18.545Z"
   },
   {
    "duration": 75,
    "start_time": "2024-09-28T15:17:18.942Z"
   },
   {
    "duration": 22,
    "start_time": "2024-09-28T15:17:19.018Z"
   },
   {
    "duration": 30,
    "start_time": "2024-09-28T15:17:19.042Z"
   },
   {
    "duration": 19,
    "start_time": "2024-09-28T15:17:19.074Z"
   },
   {
    "duration": 9,
    "start_time": "2024-09-28T15:17:19.096Z"
   },
   {
    "duration": 4,
    "start_time": "2024-09-28T15:17:19.106Z"
   },
   {
    "duration": 3,
    "start_time": "2024-09-28T15:17:19.111Z"
   },
   {
    "duration": 3,
    "start_time": "2024-09-28T15:17:19.116Z"
   },
   {
    "duration": 3,
    "start_time": "2024-09-28T15:17:19.121Z"
   },
   {
    "duration": 759,
    "start_time": "2024-09-28T15:17:19.126Z"
   },
   {
    "duration": 728,
    "start_time": "2024-09-28T15:17:19.887Z"
   },
   {
    "duration": 8,
    "start_time": "2024-09-28T15:17:20.616Z"
   },
   {
    "duration": 7,
    "start_time": "2024-09-28T15:17:20.626Z"
   },
   {
    "duration": 7,
    "start_time": "2024-09-28T15:17:20.635Z"
   },
   {
    "duration": 31,
    "start_time": "2024-09-28T15:17:20.644Z"
   },
   {
    "duration": 6,
    "start_time": "2024-09-28T15:17:20.676Z"
   },
   {
    "duration": 15,
    "start_time": "2024-09-28T15:17:20.684Z"
   },
   {
    "duration": 10,
    "start_time": "2024-09-28T15:17:20.700Z"
   },
   {
    "duration": 16,
    "start_time": "2024-09-28T15:17:20.712Z"
   },
   {
    "duration": 63,
    "start_time": "2024-09-28T15:17:20.730Z"
   },
   {
    "duration": 4,
    "start_time": "2024-09-28T15:17:20.795Z"
   },
   {
    "duration": 8,
    "start_time": "2024-09-28T15:17:20.800Z"
   },
   {
    "duration": 9,
    "start_time": "2024-09-28T15:17:20.810Z"
   },
   {
    "duration": 8,
    "start_time": "2024-09-28T15:17:20.821Z"
   },
   {
    "duration": 41,
    "start_time": "2024-09-28T15:17:20.830Z"
   },
   {
    "duration": 242,
    "start_time": "2024-09-28T15:17:20.873Z"
   },
   {
    "duration": 125,
    "start_time": "2024-09-28T15:17:21.117Z"
   },
   {
    "duration": 205,
    "start_time": "2024-09-28T15:17:21.244Z"
   },
   {
    "duration": 20,
    "start_time": "2024-09-28T15:17:21.451Z"
   },
   {
    "duration": 198,
    "start_time": "2024-09-28T15:17:21.472Z"
   },
   {
    "duration": 8,
    "start_time": "2024-09-28T15:17:21.672Z"
   },
   {
    "duration": 132,
    "start_time": "2024-09-28T15:17:21.685Z"
   },
   {
    "duration": 6,
    "start_time": "2024-09-28T15:17:21.819Z"
   },
   {
    "duration": 943,
    "start_time": "2024-09-28T15:17:21.827Z"
   },
   {
    "duration": 47,
    "start_time": "2024-09-28T15:17:22.772Z"
   },
   {
    "duration": 4,
    "start_time": "2024-09-28T15:17:22.820Z"
   },
   {
    "duration": 307,
    "start_time": "2024-09-28T15:17:22.826Z"
   },
   {
    "duration": 148,
    "start_time": "2024-09-28T15:17:23.135Z"
   },
   {
    "duration": 14,
    "start_time": "2024-09-28T15:17:23.285Z"
   },
   {
    "duration": 19,
    "start_time": "2024-09-28T15:17:23.300Z"
   },
   {
    "duration": 0,
    "start_time": "2024-09-28T15:17:23.320Z"
   },
   {
    "duration": 0,
    "start_time": "2024-09-28T15:17:23.321Z"
   },
   {
    "duration": 0,
    "start_time": "2024-09-28T15:17:23.323Z"
   },
   {
    "duration": 0,
    "start_time": "2024-09-28T15:17:23.324Z"
   },
   {
    "duration": 0,
    "start_time": "2024-09-28T15:17:23.324Z"
   },
   {
    "duration": 170,
    "start_time": "2024-09-28T15:17:40.521Z"
   },
   {
    "duration": 3,
    "start_time": "2024-09-28T15:17:49.929Z"
   },
   {
    "duration": 3,
    "start_time": "2024-09-28T15:17:49.934Z"
   },
   {
    "duration": 111,
    "start_time": "2024-09-28T15:17:49.938Z"
   },
   {
    "duration": 51,
    "start_time": "2024-09-28T15:17:50.052Z"
   },
   {
    "duration": 10,
    "start_time": "2024-09-28T15:17:50.105Z"
   },
   {
    "duration": 10,
    "start_time": "2024-09-28T15:17:50.116Z"
   },
   {
    "duration": 722,
    "start_time": "2024-09-28T15:17:50.127Z"
   },
   {
    "duration": 144,
    "start_time": "2024-09-28T15:17:50.850Z"
   },
   {
    "duration": 11,
    "start_time": "2024-09-28T15:17:50.996Z"
   },
   {
    "duration": 335,
    "start_time": "2024-09-28T15:17:51.010Z"
   },
   {
    "duration": 78,
    "start_time": "2024-09-28T15:17:51.346Z"
   },
   {
    "duration": 21,
    "start_time": "2024-09-28T15:17:51.426Z"
   },
   {
    "duration": 24,
    "start_time": "2024-09-28T15:17:51.449Z"
   },
   {
    "duration": 18,
    "start_time": "2024-09-28T15:17:51.475Z"
   },
   {
    "duration": 10,
    "start_time": "2024-09-28T15:17:51.495Z"
   },
   {
    "duration": 3,
    "start_time": "2024-09-28T15:17:51.507Z"
   },
   {
    "duration": 3,
    "start_time": "2024-09-28T15:17:51.512Z"
   },
   {
    "duration": 4,
    "start_time": "2024-09-28T15:17:51.517Z"
   },
   {
    "duration": 3,
    "start_time": "2024-09-28T15:17:51.522Z"
   },
   {
    "duration": 809,
    "start_time": "2024-09-28T15:17:51.527Z"
   },
   {
    "duration": 741,
    "start_time": "2024-09-28T15:17:52.338Z"
   },
   {
    "duration": 8,
    "start_time": "2024-09-28T15:17:53.081Z"
   },
   {
    "duration": 7,
    "start_time": "2024-09-28T15:17:53.091Z"
   },
   {
    "duration": 7,
    "start_time": "2024-09-28T15:17:53.100Z"
   },
   {
    "duration": 8,
    "start_time": "2024-09-28T15:17:53.108Z"
   },
   {
    "duration": 6,
    "start_time": "2024-09-28T15:17:53.117Z"
   },
   {
    "duration": 53,
    "start_time": "2024-09-28T15:17:53.125Z"
   },
   {
    "duration": 8,
    "start_time": "2024-09-28T15:17:53.182Z"
   },
   {
    "duration": 14,
    "start_time": "2024-09-28T15:17:53.191Z"
   },
   {
    "duration": 29,
    "start_time": "2024-09-28T15:17:53.207Z"
   },
   {
    "duration": 3,
    "start_time": "2024-09-28T15:17:53.238Z"
   },
   {
    "duration": 8,
    "start_time": "2024-09-28T15:17:53.271Z"
   },
   {
    "duration": 10,
    "start_time": "2024-09-28T15:17:53.280Z"
   },
   {
    "duration": 7,
    "start_time": "2024-09-28T15:17:53.292Z"
   },
   {
    "duration": 7,
    "start_time": "2024-09-28T15:17:53.301Z"
   },
   {
    "duration": 206,
    "start_time": "2024-09-28T15:17:53.310Z"
   },
   {
    "duration": 125,
    "start_time": "2024-09-28T15:17:53.517Z"
   },
   {
    "duration": 204,
    "start_time": "2024-09-28T15:17:53.644Z"
   },
   {
    "duration": 20,
    "start_time": "2024-09-28T15:17:53.850Z"
   },
   {
    "duration": 186,
    "start_time": "2024-09-28T15:17:53.871Z"
   },
   {
    "duration": 17,
    "start_time": "2024-09-28T15:17:54.059Z"
   },
   {
    "duration": 122,
    "start_time": "2024-09-28T15:17:54.077Z"
   },
   {
    "duration": 8,
    "start_time": "2024-09-28T15:17:54.201Z"
   },
   {
    "duration": 927,
    "start_time": "2024-09-28T15:17:54.211Z"
   },
   {
    "duration": 50,
    "start_time": "2024-09-28T15:17:55.140Z"
   },
   {
    "duration": 3,
    "start_time": "2024-09-28T15:17:55.192Z"
   },
   {
    "duration": 294,
    "start_time": "2024-09-28T15:17:55.197Z"
   },
   {
    "duration": 229,
    "start_time": "2024-09-28T15:17:55.494Z"
   },
   {
    "duration": 15,
    "start_time": "2024-09-28T15:17:55.725Z"
   },
   {
    "duration": 38,
    "start_time": "2024-09-28T15:17:55.742Z"
   },
   {
    "duration": 0,
    "start_time": "2024-09-28T15:17:55.782Z"
   },
   {
    "duration": 0,
    "start_time": "2024-09-28T15:17:55.783Z"
   },
   {
    "duration": 0,
    "start_time": "2024-09-28T15:17:55.785Z"
   },
   {
    "duration": 0,
    "start_time": "2024-09-28T15:17:55.786Z"
   },
   {
    "duration": 0,
    "start_time": "2024-09-28T15:17:55.787Z"
   },
   {
    "duration": 0,
    "start_time": "2024-09-28T15:17:55.789Z"
   },
   {
    "duration": 11,
    "start_time": "2024-09-28T15:18:08.525Z"
   },
   {
    "duration": 17,
    "start_time": "2024-09-28T15:18:49.837Z"
   },
   {
    "duration": 16,
    "start_time": "2024-09-28T15:18:57.485Z"
   },
   {
    "duration": 13,
    "start_time": "2024-09-28T15:19:00.300Z"
   },
   {
    "duration": 3,
    "start_time": "2024-09-28T15:19:07.198Z"
   },
   {
    "duration": 7,
    "start_time": "2024-09-28T15:19:14.436Z"
   },
   {
    "duration": 13,
    "start_time": "2024-09-28T15:19:18.975Z"
   },
   {
    "duration": 12,
    "start_time": "2024-09-28T15:20:16.446Z"
   },
   {
    "duration": 9,
    "start_time": "2024-09-28T15:33:01.270Z"
   },
   {
    "duration": 13,
    "start_time": "2024-09-28T15:33:04.759Z"
   },
   {
    "duration": 9,
    "start_time": "2024-09-28T15:33:23.989Z"
   },
   {
    "duration": 580,
    "start_time": "2024-09-28T15:33:51.575Z"
   },
   {
    "duration": 7,
    "start_time": "2024-09-28T15:34:02.981Z"
   },
   {
    "duration": 316,
    "start_time": "2024-09-28T15:35:35.647Z"
   },
   {
    "duration": 6,
    "start_time": "2024-09-28T15:35:52.850Z"
   },
   {
    "duration": 290,
    "start_time": "2024-09-28T15:44:57.459Z"
   },
   {
    "duration": 12,
    "start_time": "2024-09-28T15:45:29.077Z"
   },
   {
    "duration": 222,
    "start_time": "2024-09-28T15:45:46.621Z"
   },
   {
    "duration": 126,
    "start_time": "2024-09-28T15:46:47.548Z"
   },
   {
    "duration": 27,
    "start_time": "2024-09-28T15:50:26.206Z"
   },
   {
    "duration": 3,
    "start_time": "2024-09-28T15:50:39.495Z"
   },
   {
    "duration": 60,
    "start_time": "2024-09-28T15:52:06.152Z"
   },
   {
    "duration": 4,
    "start_time": "2024-09-28T15:52:08.771Z"
   },
   {
    "duration": 38,
    "start_time": "2024-09-28T15:52:33.228Z"
   },
   {
    "duration": 13,
    "start_time": "2024-09-28T15:54:48.884Z"
   },
   {
    "duration": 324,
    "start_time": "2024-09-28T15:55:01.895Z"
   },
   {
    "duration": 4,
    "start_time": "2024-09-28T15:56:11.462Z"
   },
   {
    "duration": 5,
    "start_time": "2024-09-28T15:58:02.625Z"
   },
   {
    "duration": 15,
    "start_time": "2024-09-28T16:01:05.454Z"
   },
   {
    "duration": 419,
    "start_time": "2024-09-28T16:02:14.051Z"
   },
   {
    "duration": 580,
    "start_time": "2024-09-28T16:02:23.730Z"
   },
   {
    "duration": 13,
    "start_time": "2024-09-28T16:02:26.806Z"
   },
   {
    "duration": 10,
    "start_time": "2024-09-28T16:02:29.569Z"
   },
   {
    "duration": 9,
    "start_time": "2024-09-28T16:02:31.243Z"
   },
   {
    "duration": 326,
    "start_time": "2024-09-28T16:02:35.516Z"
   },
   {
    "duration": 13,
    "start_time": "2024-09-28T16:02:37.923Z"
   },
   {
    "duration": 372,
    "start_time": "2024-09-28T16:03:37.882Z"
   },
   {
    "duration": 9,
    "start_time": "2024-09-28T16:03:52.909Z"
   },
   {
    "duration": 14,
    "start_time": "2024-09-28T16:07:10.786Z"
   },
   {
    "duration": 13,
    "start_time": "2024-09-28T16:07:34.307Z"
   },
   {
    "duration": 15,
    "start_time": "2024-09-28T16:07:38.834Z"
   },
   {
    "duration": 4,
    "start_time": "2024-09-28T16:07:40.463Z"
   },
   {
    "duration": 294,
    "start_time": "2024-09-28T16:31:34.727Z"
   },
   {
    "duration": 303,
    "start_time": "2024-09-28T16:32:17.170Z"
   },
   {
    "duration": 296,
    "start_time": "2024-09-28T16:32:57.088Z"
   },
   {
    "duration": 287,
    "start_time": "2024-09-28T16:33:13.209Z"
   },
   {
    "duration": 287,
    "start_time": "2024-09-28T16:34:08.882Z"
   },
   {
    "duration": 292,
    "start_time": "2024-09-28T16:34:19.333Z"
   },
   {
    "duration": 9,
    "start_time": "2024-09-28T16:36:32.045Z"
   },
   {
    "duration": 9,
    "start_time": "2024-09-28T16:36:34.451Z"
   },
   {
    "duration": 747,
    "start_time": "2024-09-28T16:37:05.014Z"
   },
   {
    "duration": 94,
    "start_time": "2024-09-28T16:37:07.427Z"
   },
   {
    "duration": 4,
    "start_time": "2024-09-28T16:37:09.013Z"
   },
   {
    "duration": 92,
    "start_time": "2024-09-28T16:37:38.872Z"
   },
   {
    "duration": 4,
    "start_time": "2024-09-28T16:37:40.223Z"
   },
   {
    "duration": 14,
    "start_time": "2024-09-28T16:56:03.959Z"
   },
   {
    "duration": 9,
    "start_time": "2024-09-28T16:56:36.249Z"
   },
   {
    "duration": 9,
    "start_time": "2024-09-28T16:56:54.662Z"
   },
   {
    "duration": 12,
    "start_time": "2024-09-28T17:01:37.996Z"
   },
   {
    "duration": 9,
    "start_time": "2024-09-28T17:01:49.769Z"
   },
   {
    "duration": 9,
    "start_time": "2024-09-28T17:03:05.683Z"
   },
   {
    "duration": 13,
    "start_time": "2024-09-28T17:03:33.072Z"
   },
   {
    "duration": 12,
    "start_time": "2024-09-28T17:03:46.275Z"
   },
   {
    "duration": 10,
    "start_time": "2024-09-28T17:04:01.393Z"
   },
   {
    "duration": 8,
    "start_time": "2024-09-28T17:04:06.622Z"
   },
   {
    "duration": 14,
    "start_time": "2024-09-28T17:07:28.704Z"
   },
   {
    "duration": 15,
    "start_time": "2024-09-28T17:07:39.354Z"
   },
   {
    "duration": 90,
    "start_time": "2024-09-28T17:08:18.184Z"
   },
   {
    "duration": 4,
    "start_time": "2024-09-28T17:11:28.682Z"
   },
   {
    "duration": 145,
    "start_time": "2024-09-28T17:11:41.798Z"
   },
   {
    "duration": 157,
    "start_time": "2024-09-28T20:46:31.881Z"
   },
   {
    "duration": 278,
    "start_time": "2024-09-28T22:24:44.026Z"
   },
   {
    "duration": 1796,
    "start_time": "2024-09-28T22:24:45.368Z"
   },
   {
    "duration": 154,
    "start_time": "2024-09-28T22:24:49.232Z"
   },
   {
    "duration": 985,
    "start_time": "2024-09-28T22:44:56.937Z"
   },
   {
    "duration": 2579,
    "start_time": "2024-09-30T18:21:30.041Z"
   },
   {
    "duration": 1006,
    "start_time": "2024-09-30T18:22:01.484Z"
   },
   {
    "duration": 910,
    "start_time": "2024-09-30T18:22:27.528Z"
   },
   {
    "duration": 949,
    "start_time": "2024-09-30T18:23:06.389Z"
   },
   {
    "duration": 1003,
    "start_time": "2024-09-30T18:29:25.129Z"
   },
   {
    "duration": 190,
    "start_time": "2024-09-30T18:29:26.138Z"
   },
   {
    "duration": 20,
    "start_time": "2024-09-30T18:29:26.337Z"
   },
   {
    "duration": 401,
    "start_time": "2024-09-30T18:29:26.358Z"
   },
   {
    "duration": 95,
    "start_time": "2024-09-30T18:29:26.762Z"
   },
   {
    "duration": 23,
    "start_time": "2024-09-30T18:29:26.859Z"
   },
   {
    "duration": 407,
    "start_time": "2024-09-30T18:30:28.257Z"
   },
   {
    "duration": 423,
    "start_time": "2024-09-30T18:30:43.397Z"
   },
   {
    "duration": 956,
    "start_time": "2024-09-30T18:50:26.997Z"
   },
   {
    "duration": 172,
    "start_time": "2024-09-30T18:50:27.956Z"
   },
   {
    "duration": 18,
    "start_time": "2024-09-30T18:50:28.130Z"
   },
   {
    "duration": 314,
    "start_time": "2024-09-30T18:50:28.151Z"
   },
   {
    "duration": 79,
    "start_time": "2024-09-30T18:50:28.467Z"
   },
   {
    "duration": 23,
    "start_time": "2024-09-30T18:50:28.548Z"
   },
   {
    "duration": 13,
    "start_time": "2024-09-30T18:50:28.574Z"
   },
   {
    "duration": 30,
    "start_time": "2024-09-30T18:50:28.589Z"
   },
   {
    "duration": 10,
    "start_time": "2024-09-30T18:50:28.621Z"
   },
   {
    "duration": 4,
    "start_time": "2024-09-30T18:50:28.634Z"
   },
   {
    "duration": 4,
    "start_time": "2024-09-30T18:50:28.640Z"
   },
   {
    "duration": 3,
    "start_time": "2024-09-30T18:50:28.646Z"
   },
   {
    "duration": 4,
    "start_time": "2024-09-30T18:50:28.651Z"
   },
   {
    "duration": 813,
    "start_time": "2024-09-30T18:50:28.657Z"
   },
   {
    "duration": 692,
    "start_time": "2024-09-30T18:50:29.473Z"
   },
   {
    "duration": 8,
    "start_time": "2024-09-30T18:50:30.168Z"
   },
   {
    "duration": 8,
    "start_time": "2024-09-30T18:50:30.178Z"
   },
   {
    "duration": 27,
    "start_time": "2024-09-30T18:50:30.188Z"
   },
   {
    "duration": 8,
    "start_time": "2024-09-30T18:50:30.217Z"
   },
   {
    "duration": 7,
    "start_time": "2024-09-30T18:50:30.226Z"
   },
   {
    "duration": 9,
    "start_time": "2024-09-30T18:50:30.235Z"
   },
   {
    "duration": 9,
    "start_time": "2024-09-30T18:50:30.246Z"
   },
   {
    "duration": 14,
    "start_time": "2024-09-30T18:50:30.256Z"
   },
   {
    "duration": 38,
    "start_time": "2024-09-30T18:50:30.308Z"
   },
   {
    "duration": 4,
    "start_time": "2024-09-30T18:50:30.348Z"
   },
   {
    "duration": 10,
    "start_time": "2024-09-30T18:50:30.354Z"
   },
   {
    "duration": 13,
    "start_time": "2024-09-30T18:50:30.365Z"
   },
   {
    "duration": 9,
    "start_time": "2024-09-30T18:50:30.409Z"
   },
   {
    "duration": 8,
    "start_time": "2024-09-30T18:50:30.420Z"
   },
   {
    "duration": 218,
    "start_time": "2024-09-30T18:50:30.430Z"
   },
   {
    "duration": 123,
    "start_time": "2024-09-30T18:50:30.651Z"
   },
   {
    "duration": 233,
    "start_time": "2024-09-30T18:50:30.776Z"
   },
   {
    "duration": 17,
    "start_time": "2024-09-30T18:50:31.011Z"
   },
   {
    "duration": 222,
    "start_time": "2024-09-30T18:50:31.031Z"
   },
   {
    "duration": 11,
    "start_time": "2024-09-30T18:50:31.255Z"
   },
   {
    "duration": 129,
    "start_time": "2024-09-30T18:50:31.268Z"
   },
   {
    "duration": 9,
    "start_time": "2024-09-30T18:50:31.400Z"
   },
   {
    "duration": 933,
    "start_time": "2024-09-30T18:50:31.410Z"
   },
   {
    "duration": 49,
    "start_time": "2024-09-30T18:50:32.344Z"
   },
   {
    "duration": 16,
    "start_time": "2024-09-30T18:50:32.395Z"
   },
   {
    "duration": 286,
    "start_time": "2024-09-30T18:50:32.413Z"
   },
   {
    "duration": 197,
    "start_time": "2024-09-30T18:50:32.701Z"
   },
   {
    "duration": 18,
    "start_time": "2024-09-30T18:50:32.899Z"
   },
   {
    "duration": 640,
    "start_time": "2024-09-30T18:50:32.918Z"
   },
   {
    "duration": 10,
    "start_time": "2024-09-30T18:50:33.560Z"
   },
   {
    "duration": 8,
    "start_time": "2024-09-30T18:50:33.572Z"
   },
   {
    "duration": 7,
    "start_time": "2024-09-30T18:50:33.582Z"
   },
   {
    "duration": 354,
    "start_time": "2024-09-30T18:50:33.590Z"
   },
   {
    "duration": 224,
    "start_time": "2024-09-30T18:50:33.946Z"
   },
   {
    "duration": 9,
    "start_time": "2024-09-30T18:50:34.172Z"
   },
   {
    "duration": 7,
    "start_time": "2024-09-30T18:50:34.183Z"
   },
   {
    "duration": 720,
    "start_time": "2024-09-30T18:50:34.192Z"
   },
   {
    "duration": 115,
    "start_time": "2024-09-30T18:50:34.913Z"
   },
   {
    "duration": 16,
    "start_time": "2024-09-30T18:50:35.030Z"
   },
   {
    "duration": 76,
    "start_time": "2024-09-30T18:50:35.047Z"
   },
   {
    "duration": 4,
    "start_time": "2024-09-30T18:50:35.125Z"
   },
   {
    "duration": 213,
    "start_time": "2024-09-30T18:50:35.130Z"
   },
   {
    "duration": 233,
    "start_time": "2024-09-30T18:51:14.080Z"
   },
   {
    "duration": 214,
    "start_time": "2024-09-30T18:51:20.110Z"
   },
   {
    "duration": 218,
    "start_time": "2024-09-30T18:51:27.910Z"
   },
   {
    "duration": 477,
    "start_time": "2024-09-30T18:54:35.094Z"
   },
   {
    "duration": 47,
    "start_time": "2024-09-30T20:31:09.810Z"
   },
   {
    "duration": 178,
    "start_time": "2024-09-30T20:31:27.134Z"
   },
   {
    "duration": 8,
    "start_time": "2024-09-30T20:32:40.209Z"
   },
   {
    "duration": 19,
    "start_time": "2024-09-30T20:33:45.983Z"
   },
   {
    "duration": 14,
    "start_time": "2024-09-30T20:33:56.139Z"
   },
   {
    "duration": 10,
    "start_time": "2024-09-30T23:24:13.045Z"
   },
   {
    "duration": 9,
    "start_time": "2024-09-30T23:25:43.995Z"
   },
   {
    "duration": 8,
    "start_time": "2024-09-30T23:26:00.827Z"
   },
   {
    "duration": 13,
    "start_time": "2024-10-01T00:26:43.807Z"
   },
   {
    "duration": 589,
    "start_time": "2024-10-01T00:26:46.010Z"
   },
   {
    "duration": 439,
    "start_time": "2024-10-01T00:26:46.819Z"
   },
   {
    "duration": 382,
    "start_time": "2024-10-01T00:27:39.042Z"
   },
   {
    "duration": 325,
    "start_time": "2024-10-01T00:28:10.570Z"
   },
   {
    "duration": 318,
    "start_time": "2024-10-01T00:28:22.043Z"
   },
   {
    "duration": 670,
    "start_time": "2024-10-01T00:28:49.814Z"
   },
   {
    "duration": 311,
    "start_time": "2024-10-01T00:28:51.018Z"
   },
   {
    "duration": 119,
    "start_time": "2024-10-01T00:29:26.967Z"
   },
   {
    "duration": 1374,
    "start_time": "2024-10-01T00:33:32.917Z"
   },
   {
    "duration": 207,
    "start_time": "2024-10-01T00:33:34.294Z"
   },
   {
    "duration": 17,
    "start_time": "2024-10-01T00:33:34.502Z"
   },
   {
    "duration": 431,
    "start_time": "2024-10-01T00:33:34.521Z"
   },
   {
    "duration": 94,
    "start_time": "2024-10-01T00:33:34.955Z"
   },
   {
    "duration": 23,
    "start_time": "2024-10-01T00:33:35.050Z"
   },
   {
    "duration": 12,
    "start_time": "2024-10-01T00:33:35.075Z"
   },
   {
    "duration": 35,
    "start_time": "2024-10-01T00:33:35.088Z"
   },
   {
    "duration": 9,
    "start_time": "2024-10-01T00:33:35.124Z"
   },
   {
    "duration": 3,
    "start_time": "2024-10-01T00:33:35.135Z"
   },
   {
    "duration": 4,
    "start_time": "2024-10-01T00:33:35.140Z"
   },
   {
    "duration": 4,
    "start_time": "2024-10-01T00:33:35.145Z"
   },
   {
    "duration": 3,
    "start_time": "2024-10-01T00:33:35.150Z"
   },
   {
    "duration": 832,
    "start_time": "2024-10-01T00:33:35.157Z"
   },
   {
    "duration": 824,
    "start_time": "2024-10-01T00:33:35.991Z"
   },
   {
    "duration": 9,
    "start_time": "2024-10-01T00:33:36.816Z"
   },
   {
    "duration": 9,
    "start_time": "2024-10-01T00:33:36.827Z"
   },
   {
    "duration": 8,
    "start_time": "2024-10-01T00:33:36.838Z"
   },
   {
    "duration": 13,
    "start_time": "2024-10-01T00:33:36.849Z"
   },
   {
    "duration": 8,
    "start_time": "2024-10-01T00:33:36.863Z"
   },
   {
    "duration": 37,
    "start_time": "2024-10-01T00:33:36.873Z"
   },
   {
    "duration": 14,
    "start_time": "2024-10-01T00:33:36.912Z"
   },
   {
    "duration": 15,
    "start_time": "2024-10-01T00:33:36.927Z"
   },
   {
    "duration": 34,
    "start_time": "2024-10-01T00:33:36.944Z"
   },
   {
    "duration": 3,
    "start_time": "2024-10-01T00:33:36.981Z"
   },
   {
    "duration": 9,
    "start_time": "2024-10-01T00:33:37.009Z"
   },
   {
    "duration": 9,
    "start_time": "2024-10-01T00:33:37.020Z"
   },
   {
    "duration": 8,
    "start_time": "2024-10-01T00:33:37.031Z"
   },
   {
    "duration": 8,
    "start_time": "2024-10-01T00:33:37.040Z"
   },
   {
    "duration": 245,
    "start_time": "2024-10-01T00:33:37.050Z"
   },
   {
    "duration": 138,
    "start_time": "2024-10-01T00:33:37.297Z"
   },
   {
    "duration": 212,
    "start_time": "2024-10-01T00:33:37.437Z"
   },
   {
    "duration": 12,
    "start_time": "2024-10-01T00:33:37.651Z"
   },
   {
    "duration": 204,
    "start_time": "2024-10-01T00:33:37.665Z"
   },
   {
    "duration": 10,
    "start_time": "2024-10-01T00:33:37.871Z"
   },
   {
    "duration": 128,
    "start_time": "2024-10-01T00:33:37.886Z"
   },
   {
    "duration": 7,
    "start_time": "2024-10-01T00:33:38.016Z"
   },
   {
    "duration": 950,
    "start_time": "2024-10-01T00:33:38.024Z"
   },
   {
    "duration": 655,
    "start_time": "2024-10-01T00:33:38.977Z"
   },
   {
    "duration": 356,
    "start_time": "2024-10-01T00:33:39.634Z"
   },
   {
    "duration": 784490,
    "start_time": "2024-10-01T00:33:39.996Z"
   },
   {
    "duration": 321,
    "start_time": "2024-10-01T00:46:44.488Z"
   },
   {
    "duration": 164,
    "start_time": "2024-10-01T00:46:44.811Z"
   },
   {
    "duration": 18,
    "start_time": "2024-10-01T00:46:44.979Z"
   },
   {
    "duration": 640,
    "start_time": "2024-10-01T00:46:45.000Z"
   },
   {
    "duration": 10,
    "start_time": "2024-10-01T00:46:45.642Z"
   },
   {
    "duration": 9,
    "start_time": "2024-10-01T00:46:45.654Z"
   },
   {
    "duration": 8,
    "start_time": "2024-10-01T00:46:45.665Z"
   },
   {
    "duration": 382,
    "start_time": "2024-10-01T00:46:45.674Z"
   },
   {
    "duration": 642,
    "start_time": "2024-10-01T00:46:46.058Z"
   },
   {
    "duration": 0,
    "start_time": "2024-10-01T00:46:46.710Z"
   },
   {
    "duration": 0,
    "start_time": "2024-10-01T00:46:46.712Z"
   },
   {
    "duration": 0,
    "start_time": "2024-10-01T00:46:46.713Z"
   },
   {
    "duration": 0,
    "start_time": "2024-10-01T00:46:46.714Z"
   },
   {
    "duration": 0,
    "start_time": "2024-10-01T00:46:46.715Z"
   },
   {
    "duration": 0,
    "start_time": "2024-10-01T00:46:46.716Z"
   },
   {
    "duration": 0,
    "start_time": "2024-10-01T00:46:46.717Z"
   },
   {
    "duration": 0,
    "start_time": "2024-10-01T00:46:46.718Z"
   },
   {
    "duration": 0,
    "start_time": "2024-10-01T00:46:46.719Z"
   },
   {
    "duration": 4,
    "start_time": "2024-10-01T00:55:44.674Z"
   },
   {
    "duration": 8,
    "start_time": "2024-10-01T00:56:15.999Z"
   },
   {
    "duration": 12,
    "start_time": "2024-10-01T00:56:33.785Z"
   },
   {
    "duration": 10,
    "start_time": "2024-10-01T00:59:54.826Z"
   },
   {
    "duration": 15,
    "start_time": "2024-10-01T01:03:02.305Z"
   },
   {
    "duration": 14,
    "start_time": "2024-10-01T01:03:16.932Z"
   },
   {
    "duration": 325,
    "start_time": "2024-10-01T01:03:32.660Z"
   },
   {
    "duration": 325,
    "start_time": "2024-10-01T01:03:48.534Z"
   },
   {
    "duration": 133,
    "start_time": "2024-10-01T01:06:00.238Z"
   },
   {
    "duration": 331,
    "start_time": "2024-10-01T01:06:34.576Z"
   },
   {
    "duration": 5,
    "start_time": "2024-10-01T01:07:35.667Z"
   },
   {
    "duration": 313,
    "start_time": "2024-10-01T01:08:19.019Z"
   },
   {
    "duration": 7,
    "start_time": "2024-10-01T01:10:26.315Z"
   },
   {
    "duration": 43,
    "start_time": "2024-10-01T01:10:40.599Z"
   },
   {
    "duration": 118,
    "start_time": "2024-10-01T01:23:20.485Z"
   },
   {
    "duration": 139,
    "start_time": "2024-10-01T01:24:01.767Z"
   },
   {
    "duration": 10,
    "start_time": "2024-10-01T01:28:29.382Z"
   },
   {
    "duration": 42,
    "start_time": "2024-10-01T01:28:50.379Z"
   },
   {
    "duration": 9,
    "start_time": "2024-10-01T01:29:19.335Z"
   },
   {
    "duration": 52,
    "start_time": "2024-10-01T01:29:52.172Z"
   },
   {
    "duration": 150,
    "start_time": "2024-10-01T01:30:46.255Z"
   },
   {
    "duration": 22,
    "start_time": "2024-10-01T01:31:18.156Z"
   },
   {
    "duration": 9,
    "start_time": "2024-10-01T01:31:32.778Z"
   },
   {
    "duration": 19,
    "start_time": "2024-10-01T01:31:33.665Z"
   },
   {
    "duration": 44,
    "start_time": "2024-10-01T01:34:22.377Z"
   },
   {
    "duration": 46,
    "start_time": "2024-10-01T01:35:38.023Z"
   },
   {
    "duration": 7,
    "start_time": "2024-10-01T01:36:24.822Z"
   },
   {
    "duration": 10,
    "start_time": "2024-10-01T01:36:59.416Z"
   },
   {
    "duration": 7,
    "start_time": "2024-10-01T01:37:14.333Z"
   },
   {
    "duration": 46,
    "start_time": "2024-10-01T01:37:54.518Z"
   },
   {
    "duration": 351,
    "start_time": "2024-10-01T01:40:29.484Z"
   },
   {
    "duration": 321,
    "start_time": "2024-10-01T01:40:38.470Z"
   },
   {
    "duration": 230,
    "start_time": "2024-10-01T01:40:46.641Z"
   },
   {
    "duration": 328,
    "start_time": "2024-10-01T01:41:49.928Z"
   },
   {
    "duration": 345,
    "start_time": "2024-10-01T01:42:19.435Z"
   },
   {
    "duration": 336,
    "start_time": "2024-10-01T01:42:27.535Z"
   },
   {
    "duration": 326,
    "start_time": "2024-10-01T01:43:02.307Z"
   },
   {
    "duration": 317,
    "start_time": "2024-10-01T01:43:58.485Z"
   },
   {
    "duration": 314,
    "start_time": "2024-10-01T01:44:10.527Z"
   },
   {
    "duration": 51,
    "start_time": "2024-10-01T01:44:37.834Z"
   },
   {
    "duration": 469,
    "start_time": "2024-10-01T01:45:08.537Z"
   },
   {
    "duration": 231,
    "start_time": "2024-10-01T01:46:07.934Z"
   },
   {
    "duration": 230,
    "start_time": "2024-10-01T01:46:15.400Z"
   },
   {
    "duration": 1321,
    "start_time": "2024-10-01T01:48:22.787Z"
   },
   {
    "duration": 205,
    "start_time": "2024-10-01T01:48:24.111Z"
   },
   {
    "duration": 11,
    "start_time": "2024-10-01T01:48:24.318Z"
   },
   {
    "duration": 431,
    "start_time": "2024-10-01T01:48:24.331Z"
   },
   {
    "duration": 90,
    "start_time": "2024-10-01T01:48:24.765Z"
   },
   {
    "duration": 25,
    "start_time": "2024-10-01T01:48:24.857Z"
   },
   {
    "duration": 26,
    "start_time": "2024-10-01T01:48:24.884Z"
   },
   {
    "duration": 19,
    "start_time": "2024-10-01T01:48:24.912Z"
   },
   {
    "duration": 10,
    "start_time": "2024-10-01T01:48:24.932Z"
   },
   {
    "duration": 3,
    "start_time": "2024-10-01T01:48:24.944Z"
   },
   {
    "duration": 3,
    "start_time": "2024-10-01T01:48:24.950Z"
   },
   {
    "duration": 4,
    "start_time": "2024-10-01T01:48:24.954Z"
   },
   {
    "duration": 3,
    "start_time": "2024-10-01T01:48:24.959Z"
   },
   {
    "duration": 801,
    "start_time": "2024-10-01T01:48:24.967Z"
   },
   {
    "duration": 869,
    "start_time": "2024-10-01T01:48:25.770Z"
   },
   {
    "duration": 9,
    "start_time": "2024-10-01T01:48:26.641Z"
   },
   {
    "duration": 7,
    "start_time": "2024-10-01T01:48:26.652Z"
   },
   {
    "duration": 7,
    "start_time": "2024-10-01T01:48:26.661Z"
   },
   {
    "duration": 6,
    "start_time": "2024-10-01T01:48:26.670Z"
   },
   {
    "duration": 34,
    "start_time": "2024-10-01T01:48:26.678Z"
   },
   {
    "duration": 9,
    "start_time": "2024-10-01T01:48:26.714Z"
   },
   {
    "duration": 8,
    "start_time": "2024-10-01T01:48:26.725Z"
   },
   {
    "duration": 11,
    "start_time": "2024-10-01T01:48:26.734Z"
   },
   {
    "duration": 62,
    "start_time": "2024-10-01T01:48:26.747Z"
   },
   {
    "duration": 7,
    "start_time": "2024-10-01T01:48:26.812Z"
   },
   {
    "duration": 366,
    "start_time": "2024-10-01T01:48:26.820Z"
   },
   {
    "duration": 10,
    "start_time": "2024-10-01T01:48:27.188Z"
   },
   {
    "duration": 422,
    "start_time": "2024-10-01T01:48:27.199Z"
   },
   {
    "duration": 0,
    "start_time": "2024-10-01T01:48:27.623Z"
   },
   {
    "duration": 0,
    "start_time": "2024-10-01T01:48:27.624Z"
   },
   {
    "duration": 0,
    "start_time": "2024-10-01T01:48:27.625Z"
   },
   {
    "duration": 0,
    "start_time": "2024-10-01T01:48:27.626Z"
   },
   {
    "duration": 0,
    "start_time": "2024-10-01T01:48:27.627Z"
   },
   {
    "duration": 0,
    "start_time": "2024-10-01T01:48:27.628Z"
   },
   {
    "duration": 0,
    "start_time": "2024-10-01T01:48:27.629Z"
   },
   {
    "duration": 1,
    "start_time": "2024-10-01T01:48:27.630Z"
   },
   {
    "duration": 0,
    "start_time": "2024-10-01T01:48:27.631Z"
   },
   {
    "duration": 0,
    "start_time": "2024-10-01T01:48:27.633Z"
   },
   {
    "duration": 0,
    "start_time": "2024-10-01T01:48:27.634Z"
   },
   {
    "duration": 0,
    "start_time": "2024-10-01T01:48:27.635Z"
   },
   {
    "duration": 0,
    "start_time": "2024-10-01T01:48:27.636Z"
   },
   {
    "duration": 0,
    "start_time": "2024-10-01T01:48:27.637Z"
   },
   {
    "duration": 0,
    "start_time": "2024-10-01T01:48:27.638Z"
   },
   {
    "duration": 0,
    "start_time": "2024-10-01T01:48:27.640Z"
   },
   {
    "duration": 0,
    "start_time": "2024-10-01T01:48:27.641Z"
   },
   {
    "duration": 0,
    "start_time": "2024-10-01T01:48:27.642Z"
   },
   {
    "duration": 0,
    "start_time": "2024-10-01T01:48:27.642Z"
   },
   {
    "duration": 0,
    "start_time": "2024-10-01T01:48:27.643Z"
   },
   {
    "duration": 0,
    "start_time": "2024-10-01T01:48:27.645Z"
   },
   {
    "duration": 0,
    "start_time": "2024-10-01T01:48:27.646Z"
   },
   {
    "duration": 0,
    "start_time": "2024-10-01T01:48:27.647Z"
   },
   {
    "duration": 0,
    "start_time": "2024-10-01T01:48:27.648Z"
   },
   {
    "duration": 0,
    "start_time": "2024-10-01T01:48:27.649Z"
   },
   {
    "duration": 0,
    "start_time": "2024-10-01T01:48:27.650Z"
   },
   {
    "duration": 0,
    "start_time": "2024-10-01T01:48:27.651Z"
   },
   {
    "duration": 0,
    "start_time": "2024-10-01T01:48:27.652Z"
   },
   {
    "duration": 0,
    "start_time": "2024-10-01T01:48:27.653Z"
   },
   {
    "duration": 0,
    "start_time": "2024-10-01T01:48:27.654Z"
   },
   {
    "duration": 0,
    "start_time": "2024-10-01T01:48:27.655Z"
   },
   {
    "duration": 0,
    "start_time": "2024-10-01T01:48:27.656Z"
   },
   {
    "duration": 0,
    "start_time": "2024-10-01T01:48:27.656Z"
   },
   {
    "duration": 888,
    "start_time": "2024-10-01T01:48:45.797Z"
   },
   {
    "duration": 148,
    "start_time": "2024-10-01T01:48:46.687Z"
   },
   {
    "duration": 10,
    "start_time": "2024-10-01T01:48:46.837Z"
   },
   {
    "duration": 451,
    "start_time": "2024-10-01T01:48:46.849Z"
   },
   {
    "duration": 90,
    "start_time": "2024-10-01T01:48:47.302Z"
   },
   {
    "duration": 35,
    "start_time": "2024-10-01T01:48:47.394Z"
   },
   {
    "duration": 14,
    "start_time": "2024-10-01T01:48:47.431Z"
   },
   {
    "duration": 18,
    "start_time": "2024-10-01T01:48:47.446Z"
   },
   {
    "duration": 9,
    "start_time": "2024-10-01T01:48:47.466Z"
   },
   {
    "duration": 3,
    "start_time": "2024-10-01T01:48:47.478Z"
   },
   {
    "duration": 4,
    "start_time": "2024-10-01T01:48:47.509Z"
   },
   {
    "duration": 4,
    "start_time": "2024-10-01T01:48:47.514Z"
   },
   {
    "duration": 3,
    "start_time": "2024-10-01T01:48:47.520Z"
   },
   {
    "duration": 783,
    "start_time": "2024-10-01T01:48:47.526Z"
   },
   {
    "duration": 731,
    "start_time": "2024-10-01T01:48:48.311Z"
   },
   {
    "duration": 9,
    "start_time": "2024-10-01T01:48:49.043Z"
   },
   {
    "duration": 12,
    "start_time": "2024-10-01T01:48:49.053Z"
   },
   {
    "duration": 8,
    "start_time": "2024-10-01T01:48:49.067Z"
   },
   {
    "duration": 6,
    "start_time": "2024-10-01T01:48:49.077Z"
   },
   {
    "duration": 7,
    "start_time": "2024-10-01T01:48:49.108Z"
   },
   {
    "duration": 8,
    "start_time": "2024-10-01T01:48:49.118Z"
   },
   {
    "duration": 8,
    "start_time": "2024-10-01T01:48:49.128Z"
   },
   {
    "duration": 10,
    "start_time": "2024-10-01T01:48:49.139Z"
   },
   {
    "duration": 28,
    "start_time": "2024-10-01T01:48:49.151Z"
   },
   {
    "duration": 7,
    "start_time": "2024-10-01T01:48:49.209Z"
   },
   {
    "duration": 321,
    "start_time": "2024-10-01T01:48:49.217Z"
   },
   {
    "duration": 7,
    "start_time": "2024-10-01T01:48:49.540Z"
   },
   {
    "duration": 60,
    "start_time": "2024-10-01T01:48:49.552Z"
   },
   {
    "duration": 0,
    "start_time": "2024-10-01T01:48:49.614Z"
   },
   {
    "duration": 0,
    "start_time": "2024-10-01T01:48:49.615Z"
   },
   {
    "duration": 0,
    "start_time": "2024-10-01T01:48:49.616Z"
   },
   {
    "duration": 0,
    "start_time": "2024-10-01T01:48:49.617Z"
   },
   {
    "duration": 0,
    "start_time": "2024-10-01T01:48:49.618Z"
   },
   {
    "duration": 0,
    "start_time": "2024-10-01T01:48:49.619Z"
   },
   {
    "duration": 0,
    "start_time": "2024-10-01T01:48:49.620Z"
   },
   {
    "duration": 0,
    "start_time": "2024-10-01T01:48:49.621Z"
   },
   {
    "duration": 0,
    "start_time": "2024-10-01T01:48:49.622Z"
   },
   {
    "duration": 0,
    "start_time": "2024-10-01T01:48:49.624Z"
   },
   {
    "duration": 0,
    "start_time": "2024-10-01T01:48:49.625Z"
   },
   {
    "duration": 0,
    "start_time": "2024-10-01T01:48:49.627Z"
   },
   {
    "duration": 0,
    "start_time": "2024-10-01T01:48:49.628Z"
   },
   {
    "duration": 0,
    "start_time": "2024-10-01T01:48:49.630Z"
   },
   {
    "duration": 0,
    "start_time": "2024-10-01T01:48:49.631Z"
   },
   {
    "duration": 0,
    "start_time": "2024-10-01T01:48:49.632Z"
   },
   {
    "duration": 0,
    "start_time": "2024-10-01T01:48:49.633Z"
   },
   {
    "duration": 0,
    "start_time": "2024-10-01T01:48:49.634Z"
   },
   {
    "duration": 0,
    "start_time": "2024-10-01T01:48:49.635Z"
   },
   {
    "duration": 0,
    "start_time": "2024-10-01T01:48:49.636Z"
   },
   {
    "duration": 0,
    "start_time": "2024-10-01T01:48:49.637Z"
   },
   {
    "duration": 0,
    "start_time": "2024-10-01T01:48:49.638Z"
   },
   {
    "duration": 0,
    "start_time": "2024-10-01T01:48:49.639Z"
   },
   {
    "duration": 1,
    "start_time": "2024-10-01T01:48:49.639Z"
   },
   {
    "duration": 0,
    "start_time": "2024-10-01T01:48:49.640Z"
   },
   {
    "duration": 0,
    "start_time": "2024-10-01T01:48:49.642Z"
   },
   {
    "duration": 0,
    "start_time": "2024-10-01T01:48:49.643Z"
   },
   {
    "duration": 0,
    "start_time": "2024-10-01T01:48:49.644Z"
   },
   {
    "duration": 0,
    "start_time": "2024-10-01T01:48:49.644Z"
   },
   {
    "duration": 0,
    "start_time": "2024-10-01T01:48:49.646Z"
   },
   {
    "duration": 0,
    "start_time": "2024-10-01T01:48:49.647Z"
   },
   {
    "duration": 0,
    "start_time": "2024-10-01T01:48:49.648Z"
   },
   {
    "duration": 0,
    "start_time": "2024-10-01T01:48:49.649Z"
   },
   {
    "duration": 850,
    "start_time": "2024-10-01T01:48:56.242Z"
   },
   {
    "duration": 162,
    "start_time": "2024-10-01T01:48:57.095Z"
   },
   {
    "duration": 10,
    "start_time": "2024-10-01T01:48:57.259Z"
   },
   {
    "duration": 416,
    "start_time": "2024-10-01T01:48:57.271Z"
   },
   {
    "duration": 82,
    "start_time": "2024-10-01T01:48:57.689Z"
   },
   {
    "duration": 23,
    "start_time": "2024-10-01T01:48:57.773Z"
   },
   {
    "duration": 27,
    "start_time": "2024-10-01T01:48:57.797Z"
   },
   {
    "duration": 18,
    "start_time": "2024-10-01T01:48:57.826Z"
   },
   {
    "duration": 10,
    "start_time": "2024-10-01T01:48:57.845Z"
   },
   {
    "duration": 3,
    "start_time": "2024-10-01T01:48:57.856Z"
   },
   {
    "duration": 2,
    "start_time": "2024-10-01T01:48:57.861Z"
   },
   {
    "duration": 4,
    "start_time": "2024-10-01T01:48:57.865Z"
   },
   {
    "duration": 3,
    "start_time": "2024-10-01T01:48:57.871Z"
   },
   {
    "duration": 770,
    "start_time": "2024-10-01T01:48:57.913Z"
   },
   {
    "duration": 760,
    "start_time": "2024-10-01T01:48:58.684Z"
   },
   {
    "duration": 9,
    "start_time": "2024-10-01T01:48:59.446Z"
   },
   {
    "duration": 8,
    "start_time": "2024-10-01T01:48:59.457Z"
   },
   {
    "duration": 8,
    "start_time": "2024-10-01T01:48:59.466Z"
   },
   {
    "duration": 6,
    "start_time": "2024-10-01T01:48:59.475Z"
   },
   {
    "duration": 6,
    "start_time": "2024-10-01T01:48:59.509Z"
   },
   {
    "duration": 8,
    "start_time": "2024-10-01T01:48:59.517Z"
   },
   {
    "duration": 6,
    "start_time": "2024-10-01T01:48:59.527Z"
   },
   {
    "duration": 10,
    "start_time": "2024-10-01T01:48:59.535Z"
   },
   {
    "duration": 34,
    "start_time": "2024-10-01T01:48:59.546Z"
   },
   {
    "duration": 7,
    "start_time": "2024-10-01T01:48:59.609Z"
   },
   {
    "duration": 355,
    "start_time": "2024-10-01T01:48:59.618Z"
   },
   {
    "duration": 8,
    "start_time": "2024-10-01T01:48:59.975Z"
   },
   {
    "duration": 115,
    "start_time": "2024-10-01T01:48:59.984Z"
   },
   {
    "duration": 0,
    "start_time": "2024-10-01T01:49:00.110Z"
   },
   {
    "duration": 0,
    "start_time": "2024-10-01T01:49:00.111Z"
   },
   {
    "duration": 0,
    "start_time": "2024-10-01T01:49:00.112Z"
   },
   {
    "duration": 0,
    "start_time": "2024-10-01T01:49:00.114Z"
   },
   {
    "duration": 0,
    "start_time": "2024-10-01T01:49:00.115Z"
   },
   {
    "duration": 0,
    "start_time": "2024-10-01T01:49:00.116Z"
   },
   {
    "duration": 0,
    "start_time": "2024-10-01T01:49:00.117Z"
   },
   {
    "duration": 0,
    "start_time": "2024-10-01T01:49:00.119Z"
   },
   {
    "duration": 0,
    "start_time": "2024-10-01T01:49:00.120Z"
   },
   {
    "duration": 0,
    "start_time": "2024-10-01T01:49:00.120Z"
   },
   {
    "duration": 0,
    "start_time": "2024-10-01T01:49:00.121Z"
   },
   {
    "duration": 0,
    "start_time": "2024-10-01T01:49:00.122Z"
   },
   {
    "duration": 0,
    "start_time": "2024-10-01T01:49:00.124Z"
   },
   {
    "duration": 0,
    "start_time": "2024-10-01T01:49:00.126Z"
   },
   {
    "duration": 0,
    "start_time": "2024-10-01T01:49:00.127Z"
   },
   {
    "duration": 0,
    "start_time": "2024-10-01T01:49:00.128Z"
   },
   {
    "duration": 0,
    "start_time": "2024-10-01T01:49:00.129Z"
   },
   {
    "duration": 0,
    "start_time": "2024-10-01T01:49:00.130Z"
   },
   {
    "duration": 0,
    "start_time": "2024-10-01T01:49:00.131Z"
   },
   {
    "duration": 0,
    "start_time": "2024-10-01T01:49:00.132Z"
   },
   {
    "duration": 0,
    "start_time": "2024-10-01T01:49:00.133Z"
   },
   {
    "duration": 0,
    "start_time": "2024-10-01T01:49:00.135Z"
   },
   {
    "duration": 0,
    "start_time": "2024-10-01T01:49:00.136Z"
   },
   {
    "duration": 0,
    "start_time": "2024-10-01T01:49:00.137Z"
   },
   {
    "duration": 0,
    "start_time": "2024-10-01T01:49:00.138Z"
   },
   {
    "duration": 0,
    "start_time": "2024-10-01T01:49:00.139Z"
   },
   {
    "duration": 0,
    "start_time": "2024-10-01T01:49:00.140Z"
   },
   {
    "duration": 0,
    "start_time": "2024-10-01T01:49:00.141Z"
   },
   {
    "duration": 1,
    "start_time": "2024-10-01T01:49:00.142Z"
   },
   {
    "duration": 0,
    "start_time": "2024-10-01T01:49:00.144Z"
   },
   {
    "duration": 0,
    "start_time": "2024-10-01T01:49:00.145Z"
   },
   {
    "duration": 0,
    "start_time": "2024-10-01T01:49:00.146Z"
   },
   {
    "duration": 0,
    "start_time": "2024-10-01T01:49:00.147Z"
   },
   {
    "duration": 9,
    "start_time": "2024-10-01T01:49:32.026Z"
   },
   {
    "duration": 858,
    "start_time": "2024-10-01T01:50:12.093Z"
   },
   {
    "duration": 150,
    "start_time": "2024-10-01T01:50:12.953Z"
   },
   {
    "duration": 11,
    "start_time": "2024-10-01T01:50:13.109Z"
   },
   {
    "duration": 393,
    "start_time": "2024-10-01T01:50:13.122Z"
   },
   {
    "duration": 71,
    "start_time": "2024-10-01T01:50:13.517Z"
   },
   {
    "duration": 32,
    "start_time": "2024-10-01T01:50:13.590Z"
   },
   {
    "duration": 15,
    "start_time": "2024-10-01T01:50:13.624Z"
   },
   {
    "duration": 18,
    "start_time": "2024-10-01T01:50:13.640Z"
   },
   {
    "duration": 10,
    "start_time": "2024-10-01T01:50:13.660Z"
   },
   {
    "duration": 4,
    "start_time": "2024-10-01T01:50:13.673Z"
   },
   {
    "duration": 3,
    "start_time": "2024-10-01T01:50:13.710Z"
   },
   {
    "duration": 4,
    "start_time": "2024-10-01T01:50:13.714Z"
   },
   {
    "duration": 3,
    "start_time": "2024-10-01T01:50:13.720Z"
   },
   {
    "duration": 785,
    "start_time": "2024-10-01T01:50:13.724Z"
   },
   {
    "duration": 766,
    "start_time": "2024-10-01T01:50:14.511Z"
   },
   {
    "duration": 8,
    "start_time": "2024-10-01T01:50:15.279Z"
   },
   {
    "duration": 20,
    "start_time": "2024-10-01T01:50:15.289Z"
   },
   {
    "duration": 8,
    "start_time": "2024-10-01T01:50:15.311Z"
   },
   {
    "duration": 8,
    "start_time": "2024-10-01T01:50:15.320Z"
   },
   {
    "duration": 42,
    "start_time": "2024-10-01T01:50:15.330Z"
   },
   {
    "duration": 38,
    "start_time": "2024-10-01T01:50:15.374Z"
   },
   {
    "duration": 32,
    "start_time": "2024-10-01T01:50:15.414Z"
   },
   {
    "duration": 41,
    "start_time": "2024-10-01T01:50:15.448Z"
   },
   {
    "duration": 38,
    "start_time": "2024-10-01T01:50:15.491Z"
   },
   {
    "duration": 8,
    "start_time": "2024-10-01T01:50:15.530Z"
   },
   {
    "duration": 308,
    "start_time": "2024-10-01T01:50:15.540Z"
   },
   {
    "duration": 6,
    "start_time": "2024-10-01T01:50:15.850Z"
   },
   {
    "duration": 9,
    "start_time": "2024-10-01T01:50:15.861Z"
   },
   {
    "duration": 9,
    "start_time": "2024-10-01T01:50:15.871Z"
   },
   {
    "duration": 33,
    "start_time": "2024-10-01T01:50:15.881Z"
   },
   {
    "duration": 8,
    "start_time": "2024-10-01T01:50:15.916Z"
   },
   {
    "duration": 211,
    "start_time": "2024-10-01T01:50:15.925Z"
   },
   {
    "duration": 128,
    "start_time": "2024-10-01T01:50:16.138Z"
   },
   {
    "duration": 207,
    "start_time": "2024-10-01T01:50:16.268Z"
   },
   {
    "duration": 13,
    "start_time": "2024-10-01T01:50:16.477Z"
   },
   {
    "duration": 193,
    "start_time": "2024-10-01T01:50:16.491Z"
   },
   {
    "duration": 8,
    "start_time": "2024-10-01T01:50:16.686Z"
   },
   {
    "duration": 126,
    "start_time": "2024-10-01T01:50:16.695Z"
   },
   {
    "duration": 8,
    "start_time": "2024-10-01T01:50:16.823Z"
   },
   {
    "duration": 1010,
    "start_time": "2024-10-01T01:50:16.832Z"
   },
   {
    "duration": 652,
    "start_time": "2024-10-01T01:50:17.844Z"
   },
   {
    "duration": 226,
    "start_time": "2024-10-01T01:50:18.497Z"
   },
   {
    "duration": 234,
    "start_time": "2024-10-01T01:50:18.725Z"
   },
   {
    "duration": 308,
    "start_time": "2024-10-01T01:50:18.961Z"
   },
   {
    "duration": 215,
    "start_time": "2024-10-01T01:50:19.270Z"
   },
   {
    "duration": 23,
    "start_time": "2024-10-01T01:50:19.487Z"
   },
   {
    "duration": 639,
    "start_time": "2024-10-01T01:50:19.512Z"
   },
   {
    "duration": 9,
    "start_time": "2024-10-01T01:50:20.153Z"
   },
   {
    "duration": 10,
    "start_time": "2024-10-01T01:50:20.164Z"
   },
   {
    "duration": 7,
    "start_time": "2024-10-01T01:50:20.176Z"
   },
   {
    "duration": 331,
    "start_time": "2024-10-01T01:50:20.209Z"
   },
   {
    "duration": 455,
    "start_time": "2024-10-01T01:50:20.542Z"
   },
   {
    "duration": 400127,
    "start_time": "2024-10-01T01:51:10.150Z"
   },
   {
    "duration": 27,
    "start_time": "2024-10-01T01:57:50.289Z"
   },
   {
    "duration": 289,
    "start_time": "2024-10-01T01:58:14.852Z"
   },
   {
    "duration": 5,
    "start_time": "2024-10-01T01:58:15.994Z"
   },
   {
    "duration": 237,
    "start_time": "2024-10-01T01:58:45.116Z"
   },
   {
    "duration": 881,
    "start_time": "2024-10-01T01:59:09.086Z"
   },
   {
    "duration": 152,
    "start_time": "2024-10-01T01:59:09.970Z"
   },
   {
    "duration": 10,
    "start_time": "2024-10-01T01:59:10.124Z"
   },
   {
    "duration": 372,
    "start_time": "2024-10-01T01:59:10.137Z"
   },
   {
    "duration": 68,
    "start_time": "2024-10-01T01:59:10.512Z"
   },
   {
    "duration": 35,
    "start_time": "2024-10-01T01:59:10.582Z"
   },
   {
    "duration": 15,
    "start_time": "2024-10-01T01:59:10.619Z"
   },
   {
    "duration": 22,
    "start_time": "2024-10-01T01:59:10.636Z"
   },
   {
    "duration": 10,
    "start_time": "2024-10-01T01:59:10.660Z"
   },
   {
    "duration": 3,
    "start_time": "2024-10-01T01:59:10.674Z"
   },
   {
    "duration": 30,
    "start_time": "2024-10-01T01:59:10.679Z"
   },
   {
    "duration": 4,
    "start_time": "2024-10-01T01:59:10.710Z"
   },
   {
    "duration": 3,
    "start_time": "2024-10-01T01:59:10.716Z"
   },
   {
    "duration": 719,
    "start_time": "2024-10-01T01:59:10.721Z"
   },
   {
    "duration": 714,
    "start_time": "2024-10-01T01:59:11.442Z"
   },
   {
    "duration": 11,
    "start_time": "2024-10-01T01:59:12.158Z"
   },
   {
    "duration": 10,
    "start_time": "2024-10-01T01:59:12.171Z"
   },
   {
    "duration": 7,
    "start_time": "2024-10-01T01:59:12.183Z"
   },
   {
    "duration": 7,
    "start_time": "2024-10-01T01:59:12.209Z"
   },
   {
    "duration": 9,
    "start_time": "2024-10-01T01:59:12.218Z"
   },
   {
    "duration": 15,
    "start_time": "2024-10-01T01:59:12.229Z"
   },
   {
    "duration": 9,
    "start_time": "2024-10-01T01:59:12.246Z"
   },
   {
    "duration": 14,
    "start_time": "2024-10-01T01:59:12.257Z"
   },
   {
    "duration": 54,
    "start_time": "2024-10-01T01:59:12.273Z"
   },
   {
    "duration": 7,
    "start_time": "2024-10-01T01:59:12.328Z"
   },
   {
    "duration": 282,
    "start_time": "2024-10-01T01:59:12.337Z"
   },
   {
    "duration": 6,
    "start_time": "2024-10-01T01:59:12.621Z"
   },
   {
    "duration": 8,
    "start_time": "2024-10-01T01:59:12.632Z"
   },
   {
    "duration": 11,
    "start_time": "2024-10-01T01:59:12.641Z"
   },
   {
    "duration": 10,
    "start_time": "2024-10-01T01:59:12.654Z"
   },
   {
    "duration": 6,
    "start_time": "2024-10-01T01:59:12.666Z"
   },
   {
    "duration": 211,
    "start_time": "2024-10-01T01:59:12.674Z"
   },
   {
    "duration": 123,
    "start_time": "2024-10-01T01:59:12.887Z"
   },
   {
    "duration": 212,
    "start_time": "2024-10-01T01:59:13.012Z"
   },
   {
    "duration": 13,
    "start_time": "2024-10-01T01:59:13.226Z"
   },
   {
    "duration": 199,
    "start_time": "2024-10-01T01:59:13.241Z"
   },
   {
    "duration": 9,
    "start_time": "2024-10-01T01:59:13.442Z"
   },
   {
    "duration": 126,
    "start_time": "2024-10-01T01:59:13.453Z"
   },
   {
    "duration": 6,
    "start_time": "2024-10-01T01:59:13.582Z"
   },
   {
    "duration": 951,
    "start_time": "2024-10-01T01:59:13.590Z"
   },
   {
    "duration": 607,
    "start_time": "2024-10-01T01:59:14.543Z"
   },
   {
    "duration": 234,
    "start_time": "2024-10-01T01:59:15.151Z"
   },
   {
    "duration": 248,
    "start_time": "2024-10-01T01:59:15.387Z"
   },
   {
    "duration": 295,
    "start_time": "2024-10-01T01:59:15.637Z"
   },
   {
    "duration": 149,
    "start_time": "2024-10-01T01:59:15.935Z"
   },
   {
    "duration": 13,
    "start_time": "2024-10-01T01:59:16.086Z"
   },
   {
    "duration": 590,
    "start_time": "2024-10-01T01:59:16.110Z"
   },
   {
    "duration": 10,
    "start_time": "2024-10-01T01:59:16.708Z"
   },
   {
    "duration": 9,
    "start_time": "2024-10-01T01:59:16.719Z"
   },
   {
    "duration": 7,
    "start_time": "2024-10-01T01:59:16.730Z"
   },
   {
    "duration": 348,
    "start_time": "2024-10-01T01:59:16.739Z"
   },
   {
    "duration": 5,
    "start_time": "2024-10-01T01:59:17.089Z"
   },
   {
    "duration": 246,
    "start_time": "2024-10-01T01:59:17.095Z"
   },
   {
    "duration": 246,
    "start_time": "2024-10-01T01:59:17.342Z"
   },
   {
    "duration": 11,
    "start_time": "2024-10-01T01:59:17.590Z"
   },
   {
    "duration": 12,
    "start_time": "2024-10-01T01:59:17.609Z"
   },
   {
    "duration": 656,
    "start_time": "2024-10-01T01:59:17.622Z"
   },
   {
    "duration": 106,
    "start_time": "2024-10-01T01:59:18.281Z"
   },
   {
    "duration": 21,
    "start_time": "2024-10-01T01:59:18.388Z"
   },
   {
    "duration": 62,
    "start_time": "2024-10-01T01:59:18.411Z"
   },
   {
    "duration": 3,
    "start_time": "2024-10-01T01:59:18.475Z"
   },
   {
    "duration": 228,
    "start_time": "2024-10-01T01:59:25.186Z"
   },
   {
    "duration": 14,
    "start_time": "2024-10-01T02:02:11.192Z"
   },
   {
    "duration": 14,
    "start_time": "2024-10-01T02:02:28.817Z"
   },
   {
    "duration": 17,
    "start_time": "2024-10-01T02:03:09.503Z"
   },
   {
    "duration": 5,
    "start_time": "2024-10-01T02:03:44.947Z"
   },
   {
    "duration": 7,
    "start_time": "2024-10-01T02:03:58.873Z"
   },
   {
    "duration": 9,
    "start_time": "2024-10-01T02:04:28.037Z"
   },
   {
    "duration": 7,
    "start_time": "2024-10-01T02:04:52.881Z"
   },
   {
    "duration": 4,
    "start_time": "2024-10-01T02:05:12.033Z"
   },
   {
    "duration": 94,
    "start_time": "2024-10-01T02:05:39.491Z"
   },
   {
    "duration": 483,
    "start_time": "2024-10-01T02:06:22.981Z"
   },
   {
    "duration": 9,
    "start_time": "2024-10-01T02:08:19.000Z"
   },
   {
    "duration": 11,
    "start_time": "2024-10-01T02:09:32.763Z"
   },
   {
    "duration": 14,
    "start_time": "2024-10-01T02:10:10.162Z"
   },
   {
    "duration": 8,
    "start_time": "2024-10-01T02:10:14.724Z"
   },
   {
    "duration": 17,
    "start_time": "2024-10-01T02:10:15.684Z"
   },
   {
    "duration": 5,
    "start_time": "2024-10-01T02:10:33.845Z"
   },
   {
    "duration": 14,
    "start_time": "2024-10-01T02:10:34.628Z"
   },
   {
    "duration": 13,
    "start_time": "2024-10-01T02:10:52.537Z"
   },
   {
    "duration": 5,
    "start_time": "2024-10-01T02:10:57.297Z"
   },
   {
    "duration": 12,
    "start_time": "2024-10-01T02:10:57.632Z"
   },
   {
    "duration": 30,
    "start_time": "2024-10-01T02:11:06.559Z"
   },
   {
    "duration": 3411,
    "start_time": "2024-10-01T20:36:28.761Z"
   },
   {
    "duration": 215,
    "start_time": "2024-10-01T20:36:32.175Z"
   },
   {
    "duration": 12,
    "start_time": "2024-10-01T20:36:32.391Z"
   },
   {
    "duration": 424,
    "start_time": "2024-10-01T20:36:32.407Z"
   },
   {
    "duration": 72,
    "start_time": "2024-10-01T20:36:32.833Z"
   },
   {
    "duration": 39,
    "start_time": "2024-10-01T20:36:32.907Z"
   },
   {
    "duration": 12,
    "start_time": "2024-10-01T20:36:32.948Z"
   },
   {
    "duration": 18,
    "start_time": "2024-10-01T20:36:32.963Z"
   },
   {
    "duration": 11,
    "start_time": "2024-10-01T20:36:32.983Z"
   },
   {
    "duration": 3,
    "start_time": "2024-10-01T20:36:32.997Z"
   },
   {
    "duration": 31,
    "start_time": "2024-10-01T20:36:33.002Z"
   },
   {
    "duration": 6,
    "start_time": "2024-10-01T20:36:33.035Z"
   },
   {
    "duration": 4,
    "start_time": "2024-10-01T20:36:33.043Z"
   },
   {
    "duration": 809,
    "start_time": "2024-10-01T20:36:33.049Z"
   },
   {
    "duration": 760,
    "start_time": "2024-10-01T20:36:33.861Z"
   },
   {
    "duration": 13,
    "start_time": "2024-10-01T20:36:34.623Z"
   },
   {
    "duration": 7,
    "start_time": "2024-10-01T20:36:34.637Z"
   },
   {
    "duration": 7,
    "start_time": "2024-10-01T20:36:34.646Z"
   },
   {
    "duration": 6,
    "start_time": "2024-10-01T20:36:34.654Z"
   },
   {
    "duration": 6,
    "start_time": "2024-10-01T20:36:34.662Z"
   },
   {
    "duration": 9,
    "start_time": "2024-10-01T20:36:34.670Z"
   },
   {
    "duration": 51,
    "start_time": "2024-10-01T20:36:34.681Z"
   },
   {
    "duration": 12,
    "start_time": "2024-10-01T20:36:34.734Z"
   },
   {
    "duration": 34,
    "start_time": "2024-10-01T20:36:34.748Z"
   },
   {
    "duration": 7,
    "start_time": "2024-10-01T20:36:34.784Z"
   },
   {
    "duration": 375,
    "start_time": "2024-10-01T20:36:34.792Z"
   },
   {
    "duration": 7,
    "start_time": "2024-10-01T20:36:35.169Z"
   },
   {
    "duration": 8,
    "start_time": "2024-10-01T20:36:35.182Z"
   },
   {
    "duration": 39,
    "start_time": "2024-10-01T20:36:35.192Z"
   },
   {
    "duration": 8,
    "start_time": "2024-10-01T20:36:35.233Z"
   },
   {
    "duration": 7,
    "start_time": "2024-10-01T20:36:35.243Z"
   },
   {
    "duration": 207,
    "start_time": "2024-10-01T20:36:35.251Z"
   },
   {
    "duration": 127,
    "start_time": "2024-10-01T20:36:35.460Z"
   },
   {
    "duration": 265,
    "start_time": "2024-10-01T20:36:35.589Z"
   },
   {
    "duration": 13,
    "start_time": "2024-10-01T20:36:35.856Z"
   },
   {
    "duration": 204,
    "start_time": "2024-10-01T20:36:35.871Z"
   },
   {
    "duration": 10,
    "start_time": "2024-10-01T20:36:36.077Z"
   },
   {
    "duration": 134,
    "start_time": "2024-10-01T20:36:36.088Z"
   },
   {
    "duration": 12,
    "start_time": "2024-10-01T20:36:36.223Z"
   },
   {
    "duration": 975,
    "start_time": "2024-10-01T20:36:36.237Z"
   },
   {
    "duration": 672,
    "start_time": "2024-10-01T20:36:37.214Z"
   },
   {
    "duration": 248,
    "start_time": "2024-10-01T20:36:37.889Z"
   },
   {
    "duration": 241,
    "start_time": "2024-10-01T20:36:38.139Z"
   },
   {
    "duration": 377,
    "start_time": "2024-10-01T20:36:38.382Z"
   },
   {
    "duration": 143,
    "start_time": "2024-10-01T20:36:38.760Z"
   },
   {
    "duration": 14,
    "start_time": "2024-10-01T20:36:38.905Z"
   },
   {
    "duration": 658,
    "start_time": "2024-10-01T20:36:38.921Z"
   },
   {
    "duration": 9,
    "start_time": "2024-10-01T20:36:39.580Z"
   },
   {
    "duration": 8,
    "start_time": "2024-10-01T20:36:39.591Z"
   },
   {
    "duration": 7,
    "start_time": "2024-10-01T20:36:39.602Z"
   },
   {
    "duration": 369,
    "start_time": "2024-10-01T20:36:39.610Z"
   },
   {
    "duration": 5,
    "start_time": "2024-10-01T20:36:39.980Z"
   },
   {
    "duration": 229,
    "start_time": "2024-10-01T20:36:39.987Z"
   },
   {
    "duration": 241,
    "start_time": "2024-10-01T20:36:40.218Z"
   },
   {
    "duration": 9,
    "start_time": "2024-10-01T20:36:40.461Z"
   },
   {
    "duration": 9,
    "start_time": "2024-10-01T20:36:40.472Z"
   },
   {
    "duration": 760,
    "start_time": "2024-10-01T20:36:40.483Z"
   },
   {
    "duration": 109,
    "start_time": "2024-10-01T20:36:41.245Z"
   },
   {
    "duration": 15,
    "start_time": "2024-10-01T20:36:41.356Z"
   },
   {
    "duration": 82,
    "start_time": "2024-10-01T20:36:41.372Z"
   },
   {
    "duration": 3,
    "start_time": "2024-10-01T20:36:41.456Z"
   },
   {
    "duration": 241,
    "start_time": "2024-10-01T20:36:41.461Z"
   }
  ],
  "colab": {
   "provenance": []
  },
  "kernelspec": {
   "display_name": "Python [conda env:base] *",
   "language": "python",
   "name": "conda-base-py"
  },
  "language_info": {
   "codemirror_mode": {
    "name": "ipython",
    "version": 3
   },
   "file_extension": ".py",
   "mimetype": "text/x-python",
   "name": "python",
   "nbconvert_exporter": "python",
   "pygments_lexer": "ipython3",
   "version": "3.12.7"
  },
  "toc": {
   "base_numbering": 1,
   "nav_menu": {},
   "number_sections": true,
   "sideBar": true,
   "skip_h1_title": true,
   "title_cell": "Table of Contents",
   "title_sidebar": "Contents",
   "toc_cell": false,
   "toc_position": {},
   "toc_section_display": true,
   "toc_window_display": false
  },
  "vscode": {
   "interpreter": {
    "hash": "01a7be9ec63e704a62cefc5fe7a4756944464ee731be31632bdf42a4cb4688cf"
   }
  }
 },
 "nbformat": 4,
 "nbformat_minor": 5
}
